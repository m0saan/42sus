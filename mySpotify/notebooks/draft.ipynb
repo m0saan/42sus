{
 "cells": [
  {
   "cell_type": "code",
   "execution_count": null,
   "metadata": {},
   "outputs": [],
   "source": [
    "import pandas as pd\n",
    "import polars as pl"
   ]
  },
  {
   "cell_type": "code",
   "execution_count": null,
   "metadata": {},
   "outputs": [],
   "source": [
    "triplet_columns = ['user_id', 'song_id', 'play_count']\n",
    "triplet_df = pl.read_csv('data/train_triplets.txt', separator='\\t', new_columns=triplet_columns, use_pyarrow=True)\n",
    "triplet_df"
   ]
  },
  {
   "cell_type": "code",
   "execution_count": null,
   "metadata": {},
   "outputs": [],
   "source": [
    "triplet_df = triplet_df.group_by('song_id').agg(pl.sum('play_count').alias('play_count')).sort('play_count', descending=True)\n",
    "triplet_df"
   ]
  },
  {
   "cell_type": "code",
   "execution_count": null,
   "metadata": {},
   "outputs": [],
   "source": [
    "track_columns = ['track_id', 'song_id', 'artist', 'title']\n",
    "unique_tracks_df = pl.read_csv('data/p02_unique_tracks.csv', new_columns=track_columns)\n",
    "unique_tracks_df"
   ]
  },
  {
   "cell_type": "code",
   "execution_count": null,
   "metadata": {},
   "outputs": [],
   "source": [
    "mergerd_songs = triplet_df.join(unique_tracks_df, on='song_id', how='left').select('artist', 'title', 'play_count')\n",
    "mergerd_songs"
   ]
  },
  {
   "cell_type": "code",
   "execution_count": null,
   "metadata": {},
   "outputs": [],
   "source": [
    "from pathlib import Path\n",
    "\n",
    "if not Path('data/songs.csv').exists():\n",
    "    triplet_columns = ['user_id', 'song_id', 'play_count']\n",
    "    track_columns = ['track_id', 'song_id', 'artist', 'title']\n",
    "    \n",
    "    triplet_df = pl.read_csv('data/train_triplets.txt', separator='\\t', new_columns=triplet_columns, use_pyarrow=True)\n",
    "    unique_tracks_df = pl.read_csv('data/p02_unique_tracks.csv', new_columns=track_columns)\n",
    "    triplet_df = triplet_df.group_by('song_id').agg(pl.sum('play_count').alias('play_count')).sort('play_count', descending=True)\n",
    "    mergerd_songs = triplet_df.join(unique_tracks_df, on='song_id', how='left').select('artist', 'title', 'play_count')\n",
    "    mergerd_songs.write_csv('data/songs.csv')\n",
    "else:\n",
    "    mergerd_songs = pl.read_csv('data/songs.csv')"
   ]
  },
  {
   "cell_type": "code",
   "execution_count": null,
   "metadata": {},
   "outputs": [],
   "source": []
  }
 ],
 "metadata": {
  "kernelspec": {
   "display_name": "fastai",
   "language": "python",
   "name": "python3"
  },
  "language_info": {
   "codemirror_mode": {
    "name": "ipython",
    "version": 3
   },
   "file_extension": ".py",
   "mimetype": "text/x-python",
   "name": "python",
   "nbconvert_exporter": "python",
   "pygments_lexer": "ipython3",
   "version": "3.11.6"
  }
 },
 "nbformat": 4,
 "nbformat_minor": 2
}
