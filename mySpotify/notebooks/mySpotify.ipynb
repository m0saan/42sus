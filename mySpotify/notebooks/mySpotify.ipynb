{
 "cells": [
  {
   "cell_type": "markdown",
   "id": "cdf8cdca-5255-48fb-8308-111592b77585",
   "metadata": {},
   "source": [
    "# MySpotify"
   ]
  },
  {
   "cell_type": "code",
   "execution_count": 1,
   "id": "83a48881-d478-4873-bd49-29f318d47c4e",
   "metadata": {},
   "outputs": [],
   "source": [
    "import polars as pl\n",
    "import numpy as np\n",
    "import scipy\n",
    "import implicit\n",
    "\n",
    "from pathlib import Path"
   ]
  },
  {
   "cell_type": "markdown",
   "id": "2f58a20e-925a-4ae6-8cd8-2466f54a723a",
   "metadata": {},
   "source": [
    "One very common problem to solve is when you have a number of users and a number of products, and you want to recommend which products are most likely to be useful for which users. There are many variations of this: for example, recommending movies (such as on Netflix), figuring out what to highlight for a user on a home page, deciding what stories to show in a social media feed, and so forth. There is a general solution to this problem, called collaborative filtering, which works like this: look at what products the current user has used or liked, find other users that have used or liked similar products, and then recommend other products that those users have used or liked."
   ]
  },
  {
   "cell_type": "markdown",
   "id": "21e41069-cb45-45f4-b8c2-8d3a065ea1a8",
   "metadata": {},
   "source": [
    "## 1. Non-personalized approach."
   ]
  },
  {
   "cell_type": "markdown",
   "id": "cae9312d-1ed2-4538-9b72-074d6a4a02a7",
   "metadata": {},
   "source": [
    "### 1.1 Top-250 tracks"
   ]
  },
  {
   "cell_type": "code",
   "execution_count": 2,
   "id": "19fca80c-aadc-46d0-8352-c62d5849988b",
   "metadata": {},
   "outputs": [
    {
     "data": {
      "text/html": [
       "<div><style>\n",
       ".dataframe > thead > tr,\n",
       ".dataframe > tbody > tr {\n",
       "  text-align: right;\n",
       "  white-space: pre-wrap;\n",
       "}\n",
       "</style>\n",
       "<small>shape: (48_373_585, 3)</small><table border=\"1\" class=\"dataframe\"><thead><tr><th>user_id</th><th>song_id</th><th>play_count</th></tr><tr><td>str</td><td>str</td><td>i64</td></tr></thead><tbody><tr><td>&quot;b80344d063b5cc…</td><td>&quot;SOAPDEY12A81C2…</td><td>1</td></tr><tr><td>&quot;b80344d063b5cc…</td><td>&quot;SOBBMDR12A8C13…</td><td>2</td></tr><tr><td>&quot;b80344d063b5cc…</td><td>&quot;SOBFNSP12AF72A…</td><td>1</td></tr><tr><td>&quot;b80344d063b5cc…</td><td>&quot;SOBFOVM12A58A7…</td><td>1</td></tr><tr><td>&quot;b80344d063b5cc…</td><td>&quot;SOBNZDC12A6D4F…</td><td>1</td></tr><tr><td>&hellip;</td><td>&hellip;</td><td>&hellip;</td></tr><tr><td>&quot;b7815dbb206eb2…</td><td>&quot;SOUHHHH12AF729…</td><td>2</td></tr><tr><td>&quot;b7815dbb206eb2…</td><td>&quot;SOUJVIT12A8C14…</td><td>1</td></tr><tr><td>&quot;b7815dbb206eb2…</td><td>&quot;SOUSMXX12AB018…</td><td>1</td></tr><tr><td>&quot;b7815dbb206eb2…</td><td>&quot;SOWYSKH12AF72A…</td><td>3</td></tr><tr><td>&quot;b7815dbb206eb2…</td><td>&quot;SOYYFLV12A58A7…</td><td>1</td></tr></tbody></table></div>"
      ],
      "text/plain": [
       "shape: (48_373_585, 3)\n",
       "┌───────────────────────────────────┬────────────────────┬────────────┐\n",
       "│ user_id                           ┆ song_id            ┆ play_count │\n",
       "│ ---                               ┆ ---                ┆ ---        │\n",
       "│ str                               ┆ str                ┆ i64        │\n",
       "╞═══════════════════════════════════╪════════════════════╪════════════╡\n",
       "│ b80344d063b5ccb3212f76538f3d9e43… ┆ SOAPDEY12A81C210A9 ┆ 1          │\n",
       "│ b80344d063b5ccb3212f76538f3d9e43… ┆ SOBBMDR12A8C13253B ┆ 2          │\n",
       "│ b80344d063b5ccb3212f76538f3d9e43… ┆ SOBFNSP12AF72A0E22 ┆ 1          │\n",
       "│ b80344d063b5ccb3212f76538f3d9e43… ┆ SOBFOVM12A58A7D494 ┆ 1          │\n",
       "│ b80344d063b5ccb3212f76538f3d9e43… ┆ SOBNZDC12A6D4FC103 ┆ 1          │\n",
       "│ …                                 ┆ …                  ┆ …          │\n",
       "│ b7815dbb206eb2831ce0fe040d0aa537… ┆ SOUHHHH12AF729E4AF ┆ 2          │\n",
       "│ b7815dbb206eb2831ce0fe040d0aa537… ┆ SOUJVIT12A8C1451C1 ┆ 1          │\n",
       "│ b7815dbb206eb2831ce0fe040d0aa537… ┆ SOUSMXX12AB0185C24 ┆ 1          │\n",
       "│ b7815dbb206eb2831ce0fe040d0aa537… ┆ SOWYSKH12AF72A303A ┆ 3          │\n",
       "│ b7815dbb206eb2831ce0fe040d0aa537… ┆ SOYYFLV12A58A7A88F ┆ 1          │\n",
       "└───────────────────────────────────┴────────────────────┴────────────┘"
      ]
     },
     "execution_count": 2,
     "metadata": {},
     "output_type": "execute_result"
    }
   ],
   "source": [
    "triplet_columns = ['user_id', 'song_id', 'play_count']\n",
    "triplet_df = pl.read_csv('data/train_triplets.txt', separator='\\t', new_columns=triplet_columns, use_pyarrow=True)\n",
    "triplet_df"
   ]
  },
  {
   "cell_type": "code",
   "execution_count": 3,
   "id": "caf7e0a8-1eaf-4ca2-a88a-bbd7831d9e64",
   "metadata": {},
   "outputs": [
    {
     "ename": "TypeError",
     "evalue": "ord() expected a character, but string of length 5 found",
     "output_type": "error",
     "traceback": [
      "\u001b[0;31m---------------------------------------------------------------------------\u001b[0m",
      "\u001b[0;31mTypeError\u001b[0m                                 Traceback (most recent call last)",
      "Cell \u001b[0;32mIn[3], line 2\u001b[0m\n\u001b[1;32m      1\u001b[0m track_columns \u001b[38;5;241m=\u001b[39m [\u001b[38;5;124m'\u001b[39m\u001b[38;5;124mtrack_id\u001b[39m\u001b[38;5;124m'\u001b[39m, \u001b[38;5;124m'\u001b[39m\u001b[38;5;124msong_id\u001b[39m\u001b[38;5;124m'\u001b[39m, \u001b[38;5;124m'\u001b[39m\u001b[38;5;124martist\u001b[39m\u001b[38;5;124m'\u001b[39m, \u001b[38;5;124m'\u001b[39m\u001b[38;5;124mtitle\u001b[39m\u001b[38;5;124m'\u001b[39m]\n\u001b[0;32m----> 2\u001b[0m unique_tracks_df \u001b[38;5;241m=\u001b[39m \u001b[43mpl\u001b[49m\u001b[38;5;241;43m.\u001b[39;49m\u001b[43mread_csv\u001b[49m\u001b[43m(\u001b[49m\u001b[38;5;124;43m'\u001b[39;49m\u001b[38;5;124;43mdata/p02_unique_tracks.txt\u001b[39;49m\u001b[38;5;124;43m'\u001b[39;49m\u001b[43m,\u001b[49m\u001b[43m \u001b[49m\u001b[43mseparator\u001b[49m\u001b[38;5;241;43m=\u001b[39;49m\u001b[38;5;124;43mb\u001b[39;49m\u001b[38;5;124;43m'\u001b[39;49m\u001b[38;5;124;43m<SEP>\u001b[39;49m\u001b[38;5;124;43m'\u001b[39;49m\u001b[43m,\u001b[49m\u001b[43m \u001b[49m\u001b[43mnew_columns\u001b[49m\u001b[38;5;241;43m=\u001b[39;49m\u001b[43mtrack_columns\u001b[49m\u001b[43m,\u001b[49m\u001b[43m \u001b[49m\u001b[43muse_pyarrow\u001b[49m\u001b[38;5;241;43m=\u001b[39;49m\u001b[38;5;28;43;01mTrue\u001b[39;49;00m\u001b[43m)\u001b[49m\n\u001b[1;32m      3\u001b[0m unique_tracks_df\n",
      "File \u001b[0;32m~/miniforge3/envs/fastai/lib/python3.11/site-packages/polars/_utils/deprecation.py:134\u001b[0m, in \u001b[0;36mdeprecate_renamed_parameter.<locals>.decorate.<locals>.wrapper\u001b[0;34m(*args, **kwargs)\u001b[0m\n\u001b[1;32m    129\u001b[0m \u001b[38;5;129m@wraps\u001b[39m(function)\n\u001b[1;32m    130\u001b[0m \u001b[38;5;28;01mdef\u001b[39;00m \u001b[38;5;21mwrapper\u001b[39m(\u001b[38;5;241m*\u001b[39margs: P\u001b[38;5;241m.\u001b[39margs, \u001b[38;5;241m*\u001b[39m\u001b[38;5;241m*\u001b[39mkwargs: P\u001b[38;5;241m.\u001b[39mkwargs) \u001b[38;5;241m-\u001b[39m\u001b[38;5;241m>\u001b[39m T:\n\u001b[1;32m    131\u001b[0m     _rename_keyword_argument(\n\u001b[1;32m    132\u001b[0m         old_name, new_name, kwargs, function\u001b[38;5;241m.\u001b[39m\u001b[38;5;18m__name__\u001b[39m, version\n\u001b[1;32m    133\u001b[0m     )\n\u001b[0;32m--> 134\u001b[0m     \u001b[38;5;28;01mreturn\u001b[39;00m \u001b[43mfunction\u001b[49m\u001b[43m(\u001b[49m\u001b[38;5;241;43m*\u001b[39;49m\u001b[43margs\u001b[49m\u001b[43m,\u001b[49m\u001b[43m \u001b[49m\u001b[38;5;241;43m*\u001b[39;49m\u001b[38;5;241;43m*\u001b[39;49m\u001b[43mkwargs\u001b[49m\u001b[43m)\u001b[49m\n",
      "File \u001b[0;32m~/miniforge3/envs/fastai/lib/python3.11/site-packages/polars/_utils/deprecation.py:134\u001b[0m, in \u001b[0;36mdeprecate_renamed_parameter.<locals>.decorate.<locals>.wrapper\u001b[0;34m(*args, **kwargs)\u001b[0m\n\u001b[1;32m    129\u001b[0m \u001b[38;5;129m@wraps\u001b[39m(function)\n\u001b[1;32m    130\u001b[0m \u001b[38;5;28;01mdef\u001b[39;00m \u001b[38;5;21mwrapper\u001b[39m(\u001b[38;5;241m*\u001b[39margs: P\u001b[38;5;241m.\u001b[39margs, \u001b[38;5;241m*\u001b[39m\u001b[38;5;241m*\u001b[39mkwargs: P\u001b[38;5;241m.\u001b[39mkwargs) \u001b[38;5;241m-\u001b[39m\u001b[38;5;241m>\u001b[39m T:\n\u001b[1;32m    131\u001b[0m     _rename_keyword_argument(\n\u001b[1;32m    132\u001b[0m         old_name, new_name, kwargs, function\u001b[38;5;241m.\u001b[39m\u001b[38;5;18m__name__\u001b[39m, version\n\u001b[1;32m    133\u001b[0m     )\n\u001b[0;32m--> 134\u001b[0m     \u001b[38;5;28;01mreturn\u001b[39;00m \u001b[43mfunction\u001b[49m\u001b[43m(\u001b[49m\u001b[38;5;241;43m*\u001b[39;49m\u001b[43margs\u001b[49m\u001b[43m,\u001b[49m\u001b[43m \u001b[49m\u001b[38;5;241;43m*\u001b[39;49m\u001b[38;5;241;43m*\u001b[39;49m\u001b[43mkwargs\u001b[49m\u001b[43m)\u001b[49m\n",
      "File \u001b[0;32m~/miniforge3/envs/fastai/lib/python3.11/site-packages/polars/_utils/deprecation.py:134\u001b[0m, in \u001b[0;36mdeprecate_renamed_parameter.<locals>.decorate.<locals>.wrapper\u001b[0;34m(*args, **kwargs)\u001b[0m\n\u001b[1;32m    129\u001b[0m \u001b[38;5;129m@wraps\u001b[39m(function)\n\u001b[1;32m    130\u001b[0m \u001b[38;5;28;01mdef\u001b[39;00m \u001b[38;5;21mwrapper\u001b[39m(\u001b[38;5;241m*\u001b[39margs: P\u001b[38;5;241m.\u001b[39margs, \u001b[38;5;241m*\u001b[39m\u001b[38;5;241m*\u001b[39mkwargs: P\u001b[38;5;241m.\u001b[39mkwargs) \u001b[38;5;241m-\u001b[39m\u001b[38;5;241m>\u001b[39m T:\n\u001b[1;32m    131\u001b[0m     _rename_keyword_argument(\n\u001b[1;32m    132\u001b[0m         old_name, new_name, kwargs, function\u001b[38;5;241m.\u001b[39m\u001b[38;5;18m__name__\u001b[39m, version\n\u001b[1;32m    133\u001b[0m     )\n\u001b[0;32m--> 134\u001b[0m     \u001b[38;5;28;01mreturn\u001b[39;00m \u001b[43mfunction\u001b[49m\u001b[43m(\u001b[49m\u001b[38;5;241;43m*\u001b[39;49m\u001b[43margs\u001b[49m\u001b[43m,\u001b[49m\u001b[43m \u001b[49m\u001b[38;5;241;43m*\u001b[39;49m\u001b[38;5;241;43m*\u001b[39;49m\u001b[43mkwargs\u001b[49m\u001b[43m)\u001b[49m\n",
      "File \u001b[0;32m~/miniforge3/envs/fastai/lib/python3.11/site-packages/polars/io/csv/functions.py:274\u001b[0m, in \u001b[0;36mread_csv\u001b[0;34m(source, has_header, columns, new_columns, separator, comment_prefix, quote_char, skip_rows, dtypes, schema, null_values, missing_utf8_is_empty_string, ignore_errors, try_parse_dates, n_threads, infer_schema_length, batch_size, n_rows, encoding, low_memory, rechunk, use_pyarrow, storage_options, skip_rows_after_header, row_index_name, row_index_offset, sample_size, eol_char, raise_if_empty, truncate_ragged_lines)\u001b[0m\n\u001b[1;32m    264\u001b[0m \u001b[38;5;28;01mimport\u001b[39;00m \u001b[38;5;21;01mpyarrow\u001b[39;00m\u001b[38;5;21;01m.\u001b[39;00m\u001b[38;5;21;01mcsv\u001b[39;00m\n\u001b[1;32m    266\u001b[0m \u001b[38;5;28;01mtry\u001b[39;00m:\n\u001b[1;32m    267\u001b[0m     tbl \u001b[38;5;241m=\u001b[39m pa\u001b[38;5;241m.\u001b[39mcsv\u001b[38;5;241m.\u001b[39mread_csv(\n\u001b[1;32m    268\u001b[0m         data,\n\u001b[1;32m    269\u001b[0m         pa\u001b[38;5;241m.\u001b[39mcsv\u001b[38;5;241m.\u001b[39mReadOptions(\n\u001b[1;32m    270\u001b[0m             skip_rows\u001b[38;5;241m=\u001b[39mskip_rows,\n\u001b[1;32m    271\u001b[0m             autogenerate_column_names\u001b[38;5;241m=\u001b[39m\u001b[38;5;129;01mnot\u001b[39;00m has_header,\n\u001b[1;32m    272\u001b[0m             encoding\u001b[38;5;241m=\u001b[39mencoding,\n\u001b[1;32m    273\u001b[0m         ),\n\u001b[0;32m--> 274\u001b[0m         \u001b[43mpa\u001b[49m\u001b[38;5;241;43m.\u001b[39;49m\u001b[43mcsv\u001b[49m\u001b[38;5;241;43m.\u001b[39;49m\u001b[43mParseOptions\u001b[49m\u001b[43m(\u001b[49m\n\u001b[1;32m    275\u001b[0m \u001b[43m            \u001b[49m\u001b[43mdelimiter\u001b[49m\u001b[38;5;241;43m=\u001b[39;49m\u001b[43mseparator\u001b[49m\u001b[43m,\u001b[49m\n\u001b[1;32m    276\u001b[0m \u001b[43m            \u001b[49m\u001b[43mquote_char\u001b[49m\u001b[38;5;241;43m=\u001b[39;49m\u001b[43mquote_char\u001b[49m\u001b[43m \u001b[49m\u001b[38;5;28;43;01mif\u001b[39;49;00m\u001b[43m \u001b[49m\u001b[43mquote_char\u001b[49m\u001b[43m \u001b[49m\u001b[38;5;28;43;01melse\u001b[39;49;00m\u001b[43m \u001b[49m\u001b[38;5;28;43;01mFalse\u001b[39;49;00m\u001b[43m,\u001b[49m\n\u001b[1;32m    277\u001b[0m \u001b[43m            \u001b[49m\u001b[43mdouble_quote\u001b[49m\u001b[38;5;241;43m=\u001b[39;49m\u001b[43mquote_char\u001b[49m\u001b[43m \u001b[49m\u001b[38;5;129;43;01mis\u001b[39;49;00m\u001b[43m \u001b[49m\u001b[38;5;129;43;01mnot\u001b[39;49;00m\u001b[43m \u001b[49m\u001b[38;5;28;43;01mNone\u001b[39;49;00m\u001b[43m \u001b[49m\u001b[38;5;129;43;01mand\u001b[39;49;00m\u001b[43m \u001b[49m\u001b[43mquote_char\u001b[49m\u001b[43m \u001b[49m\u001b[38;5;241;43m==\u001b[39;49m\u001b[43m \u001b[49m\u001b[38;5;124;43m'\u001b[39;49m\u001b[38;5;124;43m\"\u001b[39;49m\u001b[38;5;124;43m'\u001b[39;49m\u001b[43m,\u001b[49m\n\u001b[1;32m    278\u001b[0m \u001b[43m        \u001b[49m\u001b[43m)\u001b[49m,\n\u001b[1;32m    279\u001b[0m         pa\u001b[38;5;241m.\u001b[39mcsv\u001b[38;5;241m.\u001b[39mConvertOptions(\n\u001b[1;32m    280\u001b[0m             column_types\u001b[38;5;241m=\u001b[39m\u001b[38;5;28;01mNone\u001b[39;00m,\n\u001b[1;32m    281\u001b[0m             include_columns\u001b[38;5;241m=\u001b[39minclude_columns,\n\u001b[1;32m    282\u001b[0m             include_missing_columns\u001b[38;5;241m=\u001b[39mignore_errors,\n\u001b[1;32m    283\u001b[0m         ),\n\u001b[1;32m    284\u001b[0m     )\n\u001b[1;32m    285\u001b[0m \u001b[38;5;28;01mexcept\u001b[39;00m pa\u001b[38;5;241m.\u001b[39mArrowInvalid \u001b[38;5;28;01mas\u001b[39;00m err:\n\u001b[1;32m    286\u001b[0m     \u001b[38;5;28;01mif\u001b[39;00m raise_if_empty \u001b[38;5;129;01mor\u001b[39;00m \u001b[38;5;124m\"\u001b[39m\u001b[38;5;124mEmpty CSV\u001b[39m\u001b[38;5;124m\"\u001b[39m \u001b[38;5;129;01mnot\u001b[39;00m \u001b[38;5;129;01min\u001b[39;00m \u001b[38;5;28mstr\u001b[39m(err):\n",
      "File \u001b[0;32m~/miniforge3/envs/fastai/lib/python3.11/site-packages/pyarrow/_csv.pyx:413\u001b[0m, in \u001b[0;36mpyarrow._csv.ParseOptions.__init__\u001b[0;34m()\u001b[0m\n",
      "File \u001b[0;32m~/miniforge3/envs/fastai/lib/python3.11/site-packages/pyarrow/_csv.pyx:436\u001b[0m, in \u001b[0;36mpyarrow._csv.ParseOptions.delimiter.__set__\u001b[0;34m()\u001b[0m\n",
      "File \u001b[0;32m~/miniforge3/envs/fastai/lib/python3.11/site-packages/pyarrow/_csv.pyx:44\u001b[0m, in \u001b[0;36mpyarrow._csv._single_char\u001b[0;34m()\u001b[0m\n",
      "\u001b[0;31mTypeError\u001b[0m: ord() expected a character, but string of length 5 found"
     ]
    }
   ],
   "source": [
    "track_columns = ['track_id', 'song_id', 'artist', 'title']\n",
    "unique_tracks_df = pl.read_csv('data/p02_unique_tracks.txt', separator=b'<SEP>', new_columns=track_columns, use_pyarrow=True)\n",
    "unique_tracks_df"
   ]
  },
  {
   "cell_type": "code",
   "execution_count": null,
   "id": "ce367fd3-55db-45e7-a0b7-fd9b5bb27643",
   "metadata": {},
   "outputs": [],
   "source": [
    "unique_tracks_df"
   ]
  },
  {
   "cell_type": "code",
   "execution_count": null,
   "id": "a2818e20-9661-4032-b06b-a1c18d54d798",
   "metadata": {},
   "outputs": [],
   "source": [
    "unique_tracks_df.drop_duplicates(['song_id'], inplace=True)"
   ]
  },
  {
   "cell_type": "code",
   "execution_count": null,
   "id": "953b5ca1-c3ea-4817-8acb-d27574885c8b",
   "metadata": {},
   "outputs": [],
   "source": [
    "if not Path('data/merged.csv').exists():\n",
    "    merged_df = triplet_df.join(unique_tracks_df, on='song_id')\n",
    "    merged_df['song'] = merged_df['title'] + ' - ' + merged_df['artist']\n",
    "    merged_df.to_csv('data/merged.csv', index=False)\n",
    "else:\n",
    "    merged_df = pl.read_csv('data/merged.csv')\n",
    "merged_df"
   ]
  },
  {
   "cell_type": "code",
   "execution_count": null,
   "id": "6a3153bb-f127-4bfd-8f66-03a3c8bbae2f",
   "metadata": {},
   "outputs": [],
   "source": [
    "song_play_counts = triplet_df.groupby('song_id')['play_count'].sum()\n",
    "sorted_songs = song_play_counts.sort_values(ascending=False)"
   ]
  },
  {
   "cell_type": "code",
   "execution_count": 4,
   "id": "2df578f4-82bb-423a-b3d2-b5dc002dd62b",
   "metadata": {},
   "outputs": [
    {
     "ename": "NameError",
     "evalue": "name 'sorted_songs' is not defined",
     "output_type": "error",
     "traceback": [
      "\u001b[0;31m---------------------------------------------------------------------------\u001b[0m",
      "\u001b[0;31mNameError\u001b[0m                                 Traceback (most recent call last)",
      "Cell \u001b[0;32mIn[4], line 1\u001b[0m\n\u001b[0;32m----> 1\u001b[0m top_250_songs \u001b[38;5;241m=\u001b[39m \u001b[43msorted_songs\u001b[49m\u001b[38;5;241m.\u001b[39mhead(\u001b[38;5;241m250\u001b[39m)\n\u001b[1;32m      3\u001b[0m \u001b[38;5;66;03m# Merge the top 250 songs with the track metadata\u001b[39;00m\n\u001b[1;32m      4\u001b[0m top_250_tracks \u001b[38;5;241m=\u001b[39m pd\u001b[38;5;241m.\u001b[39mmerge(top_250_songs, unique_tracks_df, on\u001b[38;5;241m=\u001b[39m\u001b[38;5;124m'\u001b[39m\u001b[38;5;124msong_id\u001b[39m\u001b[38;5;124m'\u001b[39m)\n",
      "\u001b[0;31mNameError\u001b[0m: name 'sorted_songs' is not defined"
     ]
    }
   ],
   "source": [
    "top_250_songs = sorted_songs.head(250)\n",
    "\n",
    "# Merge the top 250 songs with the track metadata\n",
    "top_250_tracks = pd.merge(top_250_songs, unique_tracks_df, on='song_id')\n",
    "\n",
    "# Reset the index and rename columns\n",
    "top_250_tracks.reset_index(inplace=True)\n",
    "top_250_tracks.rename(columns={'index': 'index number'}, inplace=True)\n",
    "top_250_tracks = top_250_tracks[['index number', 'artist', 'title', 'play_count']]\n",
    "\n",
    "top_250_tracks.head(5)"
   ]
  },
  {
   "cell_type": "markdown",
   "id": "a316be02-3daa-4bb8-a4ca-253cd785e1dc",
   "metadata": {},
   "source": [
    "apply .head(5) to the resulting dataframe of the top-250 tracks, the result should be exactly like this:\n",
    "artist title play_count\n",
    "- 0 Dwight Yoakam You're The One 726885\n",
    "- 1 Björk Undo 648239\n",
    "- 2 Kings Of Leon Revelry 527893\n",
    "- 3 Harmonia Sehr kosmisch 425463\n",
    "- 4 Barry Tuckwell/Academy of St Martin-in-the-Fie... Horn Concerto No. 4 in E flat K495: II. Romanc... 389880"
   ]
  },
  {
   "cell_type": "code",
   "execution_count": null,
   "id": "8d3f70d4-a5f5-4851-9025-9db95aaace36",
   "metadata": {},
   "outputs": [],
   "source": [
    "top_250_tracks.tail(5)"
   ]
  },
  {
   "cell_type": "markdown",
   "id": "a2b33e67-d811-436c-b509-34ed2fafff97",
   "metadata": {},
   "source": [
    "Apply .tail(5) to the resulting dataframe of the top-250 tracks, the result\n",
    "should be exactly like this:\n",
    "artist title play_count\n",
    "- 245 Triple Six Mafia Now I'm High_ Really High 35253\n",
    "- 246 The Red Jumpsuit Apparatus Face Down (Album Version) 35245\n",
    "- 247 Linkin Park New Divide (Album Version) 35191\n",
    "- 248 Selena Gomez & The Scene Naturally 35074\n",
    "- 249 Creedence Clearwater Revival Have You Ever Seen The Rain 34831\n",
    "\n"
   ]
  },
  {
   "cell_type": "markdown",
   "id": "70a0ef0b-9b01-4b3e-9e95-78634bc95e39",
   "metadata": {},
   "source": [
    "### 2. Top-100 Tracks by Genre: Non-personalized approach."
   ]
  },
  {
   "cell_type": "code",
   "execution_count": null,
   "id": "89197222-cc8c-4a96-a3f5-1cac2445bc59",
   "metadata": {},
   "outputs": [],
   "source": [
    "genre_column_names = ['track_id', 'majority_genre', 'minority_genre']\n",
    "tagtraum_genre_df = pd.read_csv('data/p02_msd_tagtraum_cd2.cls', sep='\\t', comment='#', names=genre_column_names)\n",
    "tagtraum_genre_df.drop(columns=['minority_genre'], axis=1, inplace=True)\n",
    "tagtraum_genre_df"
   ]
  },
  {
   "cell_type": "code",
   "execution_count": null,
   "id": "dab5eff4-f256-4b61-af80-f7d25b28e1d2",
   "metadata": {},
   "outputs": [],
   "source": [
    "triplet_df"
   ]
  },
  {
   "cell_type": "code",
   "execution_count": null,
   "id": "9a177af2-1d78-4252-a2e4-19a51ed2850d",
   "metadata": {},
   "outputs": [],
   "source": [
    "merged_df_genre = pd.merge(pd.merge(tagtraum_genre_df, unique_tracks_df, on='track_id'), triplet_df, on='song_id')"
   ]
  },
  {
   "cell_type": "code",
   "execution_count": null,
   "id": "c473414e-2931-45ef-817e-1503ac79cc6a",
   "metadata": {},
   "outputs": [],
   "source": [
    "merged_df_genre"
   ]
  },
  {
   "cell_type": "code",
   "execution_count": null,
   "id": "fb3767f7-75aa-42f1-91a0-20cfedc05cce",
   "metadata": {},
   "outputs": [],
   "source": [
    "def get_top_and_bottom_tracks(merged_df_genre, selected_genre):\n",
    "    # Filter by the specified genre\n",
    "    genre_subset = merged_df_genre[merged_df_genre['majority_genre'] == selected_genre]\n",
    "\n",
    "    # Aggregate play counts for each track in the selected genre\n",
    "    track_play_counts = genre_subset.groupby(['artist', 'title'])['play_count'].sum()\n",
    "\n",
    "    # Sort tracks by play count in descending order\n",
    "    sorted_tracks = track_play_counts.sort_values(ascending=False).head(100)\n",
    "\n",
    "    # Get the top 5 and bottom 5 tracks\n",
    "    top_tracks = sorted_tracks.head(5)\n",
    "    bottom_tracks = sorted_tracks.tail(5)\n",
    "\n",
    "    return top_tracks, bottom_tracks"
   ]
  },
  {
   "cell_type": "markdown",
   "id": "34fbf506-37d4-4fd1-81d7-862545aecd61",
   "metadata": {},
   "source": [
    "#### Rock\n",
    "\n",
    "Apply .head(5) to the resulting dataframe of the top-100 tracks\n",
    "- for the genre, the result should be exactly like this:\n",
    "- artist title play_count\n",
    "- 0 Björk Undo 648239\n",
    "- 1 Kings Of Leon Revelry 527893\n",
    "- 2 Harmonia Sehr kosmisch 425463\n",
    "- 3 OneRepublic Secrets 292642\n",
    "- 4 Tub Ring Invalid 268353\n",
    "\n",
    "Apply .tail(5) to the resulting dataframe of the top-100 tracks\n",
    "for the genre, the result should be exactly like this:\n",
    "- artist title play_count\n",
    "- 95 Metric Gold Guns Girls 28148\n",
    "- 96 Pearl Jam Encore Break 27579\n",
    "- 97 Daughtry No Surprise 27187\n",
    "- 98 Eric Clapton Tears In Heaven 26999\n",
    "- 99 Nick Lowe All Men Are Liars 26683"
   ]
  },
  {
   "cell_type": "code",
   "execution_count": null,
   "id": "18d2e62e-1d23-4288-81a3-bdc86d0af439",
   "metadata": {},
   "outputs": [],
   "source": [
    "selected_genre = 'Rock'\n",
    "\n",
    "top_tracks, bottom_tracks = get_top_and_bottom_tracks(merged_df_genre, selected_genre)\n",
    "\n",
    "# Display the results\n",
    "print(f\"Top 5 tracks for the genre: {selected_genre}\")\n",
    "print(top_tracks)\n",
    "\n",
    "print(f\"\\nBottom 5 tracks for the genre: {selected_genre}\")\n",
    "print(bottom_tracks)"
   ]
  },
  {
   "cell_type": "markdown",
   "id": "b84c5ca0-c2d8-457b-97a9-af0e2270c700",
   "metadata": {},
   "source": [
    "### Rap\n",
    "\n",
    "**Apply .head(5) to the resulting dataframe of the top-100 tracks\n",
    "for the genre, the result should be exactly like this:**\n",
    "artist title play_count\n",
    "- 0 Alliance Ethnik Représente 241669\n",
    "- 1 Beastie Boys The Maestro 72381\n",
    "- 2 Eminem Without Me 63918\n",
    "- 3 Black Eyed Peas Imma Be 62438\n",
    "- 4 Kid Cudi Up Up & Away 59810\n",
    "\n",
    "**Apply .tail(5) to the resulting dataframe of the top-100 tracks\n",
    "for the genre, the result should be exactly like this:**\n",
    "artist title play_count\n",
    "- 95 Shwayze Buzzin' 7384\n",
    "- 96 Orishas El Kilo 7324\n",
    "- 97 Snoop Dogg Sexual Eruption 7171\n",
    "- 98 Bone Thugs-N-Harmony Tha Crossroads 7124\n",
    "- 99 Orishas Habana 6998"
   ]
  },
  {
   "cell_type": "code",
   "execution_count": null,
   "id": "7c895782-5aa9-47a3-87a1-dfeed4f1d7ff",
   "metadata": {},
   "outputs": [],
   "source": [
    "selected_genre = 'Rap'\n",
    "\n",
    "top_tracks, bottom_tracks = get_top_and_bottom_tracks(merged_df_genre, selected_genre)\n",
    "\n",
    "# Display the results\n",
    "print(f\"Top 5 tracks for the genre: {selected_genre}\")\n",
    "print(top_tracks)\n",
    "\n",
    "print(f\"\\nBottom 5 tracks for the genre: {selected_genre}\")\n",
    "print(bottom_tracks)"
   ]
  },
  {
   "cell_type": "markdown",
   "id": "b6191b4b-8f3d-4931-ab57-1452a279588c",
   "metadata": {},
   "source": [
    "### Electronic\n",
    "\n",
    "**Apply .head(5) to the resulting dataframe of the top-100 tracks\n",
    "for the genre, the result should be exactly like this:**\n",
    "artist title play_count\n",
    "- 0 Southside Spinners Luvstruck 84225\n",
    "- 1 The Black Keys Tighten Up 81179\n",
    "- 2 Deadmau5 Ghosts 'n' Stuff (Original Instrumental Mix) 63951\n",
    "- 3 Daft Punk Harder Better Faster Stronger 63170\n",
    "- 4 Clara Hill Clara meets Slope - Hard To Say 58887\n",
    "\n",
    "**Apply .tail(5) to the resulting dataframe of the top-100 tracks\n",
    "for the genre, the result should be exactly like this:**\n",
    "artist title play_count\n",
    "- 95 Nicolette No Government 9541\n",
    "- 96 Two Door Cinema Club Eat That Up_ It's Good For You 9524\n",
    "- 97 Moby Why Does My Heart Feel So Bad? (2006 Digital R... 9491\n",
    "- 98 Death In Vegas Girls 9490\n",
    "- 99 Johan Gielen Flash 9431"
   ]
  },
  {
   "cell_type": "code",
   "execution_count": null,
   "id": "f8f8fea6-4448-4fa2-a627-e8b96b1fcc32",
   "metadata": {},
   "outputs": [],
   "source": [
    "selected_genre = 'Electronic'\n",
    "\n",
    "top_tracks, bottom_tracks = get_top_and_bottom_tracks(merged_df_genre, selected_genre)\n",
    "\n",
    "# Display the results\n",
    "print(f\"Top 5 tracks for the genre: {selected_genre}\")\n",
    "print(top_tracks)\n",
    "\n",
    "print(f\"\\nBottom 5 tracks for the genre: {selected_genre}\")\n",
    "print(bottom_tracks)"
   ]
  },
  {
   "cell_type": "markdown",
   "id": "d1d06b0e-7846-48a7-860f-1fcc46d2dada",
   "metadata": {},
   "source": [
    "## Collections"
   ]
  },
  {
   "cell_type": "markdown",
   "id": "1e76737d-64df-49ee-9dff-3ac19db35d43",
   "metadata": {},
   "source": [
    "> Task: Collections: 50 songs about love, 50 songs about war, 50 songs about happiness, 50songs about loneliness, 50 songs about money. Content-based approach."
   ]
  },
  {
   "cell_type": "markdown",
   "id": "7d532407-f1ea-4d83-b5f0-46176a6a4318",
   "metadata": {},
   "source": [
    "> It should return on a given keyword (love, war, happiness) a dataframe (50tracks) with the following fields:\n",
    ">  index number, artist name, track title, play count.  \n",
    "> The table should be sorted by the play count descendingly. Try different approaches to these recommendations:  \n",
    "> • baseline - when you look for the keyword and the number of its occurrences in a song, filter using some threshold and then sorting it by the play count,  \n",
    "> • word2vec - when you look not only for the keyword but for several similar tokens as well using word2vec,  \n",
    "> • classification task -you may label your data and try classification algorithms that will predict for the other part of the dataset if a track belongs to a specific class.  "
   ]
  },
  {
   "cell_type": "code",
   "execution_count": null,
   "id": "27c12a51",
   "metadata": {},
   "outputs": [],
   "source": [
    "import pandas as pd\n",
    "# from gensim.models import Word2Vec\n",
    "# from sklearn.feature_extraction.text import CountVectorizer\n",
    "# from sklearn.naive_bayes import MultinomialNB\n",
    "\n",
    "def load_musixmatch_dataset(filepath):\n",
    "    with open(filepath, 'r', encoding='utf-8') as file:\n",
    "        lines = file.readlines()\n",
    "    \n",
    "    # Initialize empty lists to hold the top words and data\n",
    "    top_words = []\n",
    "    data = []\n",
    "    words_dict = {}\n",
    "    \n",
    "    # Parse each line\n",
    "    for line in lines:\n",
    "        line = line.strip()\n",
    "        if line.startswith('#'):\n",
    "            # This is a comment line, ignore it\n",
    "            continue\n",
    "        elif line.startswith('%'):\n",
    "            # This is the list of top words\n",
    "            top_words = line[1:].split(',')\n",
    "            for i, word in enumerate(top_words):\n",
    "                words_dict[word] = i+1\n",
    "        else:\n",
    "            # This is a normal data line\n",
    "            data.append(line.split(','))\n",
    "    \n",
    "    # Convert the data to a DataFrame\n",
    "    data = pd.DataFrame(data)\n",
    "    \n",
    "    return words_dict, data\n",
    "idx2words, data = load_musixmatch_dataset('data/mxm_dataset_train.txt')"
   ]
  },
  {
   "cell_type": "code",
   "execution_count": null,
   "id": "9faacac5",
   "metadata": {},
   "outputs": [],
   "source": [
    "words2idx = {v: k for k, v in idx2words.items()}"
   ]
  },
  {
   "cell_type": "code",
   "execution_count": null,
   "id": "cebc44c6",
   "metadata": {},
   "outputs": [],
   "source": [
    "if not Path('data/mxm_dataset_train.csv').exists():\n",
    "    top_words, musixmatch = load_musixmatch_dataset('data/mxm_dataset_train.txt')\n",
    "    musixmatch.columns = ['track_id', 'mxm_track_id', ] + list(range(1, 729))\n",
    "    musixmatch.to_csv('data/mxm_dataset_train.csv', index=False)\n",
    "else:\n",
    "    musixmatch = pl.read_csv('data/mxm_dataset_train.csv')"
   ]
  },
  {
   "cell_type": "code",
   "execution_count": null,
   "id": "5f0c78c2",
   "metadata": {},
   "outputs": [],
   "source": [
    "musixmatch"
   ]
  },
  {
   "cell_type": "code",
   "execution_count": null,
   "id": "451cae58",
   "metadata": {},
   "outputs": [],
   "source": [
    "import pandas as pd\n",
    "\n",
    "# Sample data (replace this with your actual data)\n",
    "data = [\n",
    "\"TRAAAAV128F421A322,4623710,1:6,2:4,3:2,4:2,5:5,6:3,7:1,8:1,11:1,12:2,13:3,14:1,15:1,18:2,19:2,20:2,21:2,23:4,25:1,26:2,28:1,30:1,36:2,42:1,45:1,54:2,56:1,57:1,68:1,99:1,192:2,249:1,264:1,356:1,389:1,561:1,639:1,656:1,687:1,761:1,773:1,804:1,869:2,914:1,1035:1,1156:1,1221:1,1287:1,1364:1,1407:1,1533:2,1857:1,2096:1,2117:1,2482:2,2548:1,2705:1,2723:1,2868:2,2992:2,3455:1,3717:1,3851:1,4322:1,4382:1,4613:1,4713:1,4906:1\",\n",
    "\"TRAAABD128F429CF47,6477168,1:10,3:17,4:8,5:2,6:2,7:1,8:3,9:2,10:3,11:4,12:3,14:7,15:5,16:5,18:6,23:4,24:1,26:6,28:2,29:5,31:3,33:3,35:2,39:3,40:1,43:5,47:7,52:2,57:3,58:2,61:2,62:2,68:2,71:4,74:2,76:4,81:5,84:2,86:3,87:2,88:2,89:2,92:2,101:1,107:1,111:2,113:1,118:3,119:2,130:3,131:3,165:1,168:1,169:2,178:4,180:2,188:2,196:7,200:1,219:2,229:2,256:1,279:2,349:4,384:1,393:2,424:2,472:3,589:1,843:2,1038:2,1351:1,1542:2,2437:2\",\n",
    "\"TRAAAED128E0783FAB,2516445,1:28,2:15,3:2,4:12,5:22,6:2,7:2,8:4,9:2,10:1,11:20,12:3,13:1,15:7,16:2,17:1,18:2,20:8,21:13,23:6,25:4,26:3,27:11,28:9,30:4,31:1,34:1,35:3,36:1,39:6,41:4,44:1,48:4,50:2,51:1,56:2,57:7,59:1,61:2,64:10,65:9,67:5,71:3,79:1,80:6,81:3,84:1,88:3,89:1,94:7,99:2,103:4,105:6,111:3,113:5,116:1,119:3,120:1,122:6,127:1,129:3,131:8,134:1,135:6,136:8,138:1,152:1,157:1,159:2,166:1,178:1,182:1,187:6,197:1,200:1,204:3,205:1,211:1,221:1,223:1,231:1,239:1,249:1,251:4,257:1,264:4,279:1,284:1,290:1,295:6,310:7,320:3,345:2,366:1,367:3,410:3,425:1,437:1,452:4,459:1,494:1,518:1,552:1,562:1,628:1,634:1,656:1,738:3,770:1,876:1,1090:1,1091:1,1271:1,1325:1,1412:1,1485:1,1535:3,2143:1,2467:1,3344:1\",\n",
    "\"TRAAAEF128F4273421,3759847,1:5,2:4,3:3,4:2,5:1,6:11,9:4,12:9,13:3,15:2,16:1,18:1,23:3,29:1,30:1,32:1,35:1,40:1,53:3,56:1,57:3,59:1,61:1,63:1,68:3,80:1,91:1,93:1,98:1,101:1,105:1,115:1,123:1,129:17,146:9,155:1,171:1,178:13,204:1,225:1,228:1,251:1,264:1,278:1,279:1,287:1,290:1,323:1,330:1,340:3,440:1,618:1,651:1,927:1,2221:1,2261:1,2581:1,3452:1,4470:1\",\n",
    "\"TRAAAEW128F42930C0,3783760,1:4,4:5,5:7,6:2,7:4,9:1,10:1,11:9,15:1,17:2,20:3,22:1,32:5,36:1,45:1,67:1,68:1,115:3,122:1,123:1,178:1,185:1,205:11,216:1,258:1,264:1,270:1,283:1,299:1,328:1,353:7,424:1,491:1,583:1,666:1,735:1,778:1,821:1,854:1,883:1,1169:1,1247:1,1310:1,1344:1,1350:1,1361:1,1497:1,1510:1,1634:1,1656:1,1801:3,1806:1,2931:1,2942:1,3439:1,3851:1,3876:1,4180:1,4240:1,4518:1,4554:1,4639:1,4758:1\",\n",
    "\"TRAAAFD128F92F423A,6640025,1:16,2:4,4:1,5:3,6:5,7:5,8:3,9:4,10:3,11:2,12:6,13:3,16:1,17:2,18:2,20:4,22:2,23:1,24:1,26:4,30:1,34:1,37:1,43:2,48:1,57:1,58:1,59:1,61:1,65:2,67:1,68:1,74:4,83:1,84:1,93:1,95:1,97:2,99:1,101:1,108:1,119:2,126:2,137:2,139:2,141:1,159:1,163:1,184:1,186:1,193:1,201:2,264:3,270:1,279:1,281:3,299:1,414:1,449:2,460:4,468:2,537:1,549:2,591:1,608:1,647:2,672:1,689:1,855:1,1021:1,1146:1,1361:1,1523:1,1576:1,1582:2,1646:1,1655:2,1931:1,2602:1,2627:2,2676:1,3210:2\",\n",
    "\"TRAAAGF12903CEC202,5493388,90:1,151:1,164:1,181:2,243:1,453:1,710:1,716:1,897:1,978:1,1349:1,1733:2,1736:1,2145:1,2806:1,4294:1,4330:1,4502:1,4684:1\",\n",
    "\"TRAAAHJ128F931194C,5133845,1:4,2:11,3:2,4:7,5:3,6:5,8:1,9:3,10:6,11:6,13:9,14:3,16:3,17:1,19:1,20:1,23:3,25:3,27:1,30:3,34:1,35:1,37:1,39:1,40:3,50:3,58:3,66:1,71:1,72:1,74:3,78:1,81:4,82:1,83:3,93:3,111:1,122:1,127:1,139:1,140:2,159:2,172:1,184:1,192:1,194:4,267:3,283:1,287:3,361:1,384:4,404:1,451:2,464:1,468:1,510:3,538:1,544:4,571:1,647:1,654:1,684:1,728:1,733:1,825:1,870:1,891:1,946:1,1117:1,1249:4,1342:1,1409:1,1528:1,2172:1,2444:1,2495:1,2854:1,3158:1,3176:1,4412:1\",\n",
    "\"TRAAAHZ128E0799171,1619153,1:39,2:30,3:10,4:10,5:28,6:21,7:1,8:20,9:11,10:12,11:9,12:10,13:9,14:1,15:5,16:11,17:4,18:1,19:1,20:17,22:7,23:4,24:1,26:2,27:2,28:5,29:1,30:6,31:5,32:4,33:2,35:1,36:1,37:8,39:2,40:3,41:2,44:1,45:11,48:16,49:1,50:2,51:2,52:6,54:4,55:3,57:2,58:1,59:1,61:1,62:4,65:1,66:2,69:3,70:1,72:2,76:7,78:3,81:1,82:1,85:2,86:1,88:2,93:2,94:1,95:3,98:1,99:1,100:1,106:3,107:1,108:1,109:1,110:1,111:11,116:1,119:1,133:1,134:2,135:3,136:4,137:1,153:1,155:1,166:1,185:1,190:1,192:1,200:1,201:1,203:2,205:3,206:1,207:1,210:1,216:2,219:1,223:3,228:1,239:1,242:1,244:1,261:1,262:1,277:1,278:1,285:1,289:3,291:3,302:1,304:1,323:1,325:1,327:2,332:6,338:1,339:1,344:1,349:1,355:1,357:3,358:1,363:1,368:1,371:1,378:3,389:1,396:6,410:1,413:1,427:1,431:2,439:1,446:1,448:1,452:1,455:3,456:1,470:1,494:1,500:1,503:1,520:1,525:1,537:1,539:1,546:1,548:1,555:4,578:1,597:1,608:1,615:2,618:3,631:1,646:1,658:2,659:1,663:1,693:1,707:3,712:1,739:1,752:3,811:1,836:2,867:1,868:3,886:2,901:1,918:1,924:1,948:1,1021:1,1037:1,1057:1,1064:2,1067:1,1097:1,1171:1,1182:1,1192:3,1195:2,1230:1,1260:3,1321:1,1330:1,1337:7,1354:2,1381:2,1400:1,1432:1,1508:1,1611:1,1640:1,1670:6,1683:1,1688:1,1745:1,1749:3,1813:1,1885:1,1915:4,1938:1,2016:1,2125:1,2149:1,2189:2,2246:1,2282:1,2337:2,2411:1,2468:1,2614:13,2648:1,2854:1,2917:1,2933:1,3195:1,3612:1,3656:1,3831:1,4036:1,4135:1\",\n",
    "\"TRAAAJG128F9308A25,8525084,1:6,2:9,5:3,6:4,7:4,8:3,9:5,10:3,12:2,15:1,16:2,17:1,18:1,23:4,26:1,28:1,31:2,36:1,40:1,48:1,52:1,59:1,70:4,82:1,86:1,93:3,97:1,109:1,110:8,113:1,159:1,164:1,187:6,191:1,225:1,232:1,235:1,265:1,269:3,292:1,311:1,324:1,376:1,448:1,548:3,584:1,617:3,1161:3,1440:1,1496:1,1533:1,1869:1,2018:1,2207:1,2227:1,2537:1\",\n",
    "\n",
    "]\n",
    "\n",
    "# Create DataFrame\n",
    "columns = ['track_id', 'mxm_track_id', ] + list(range(1, 225))\n",
    "songs_data = pd.DataFrame([d.split(',') for d in data], columns=columns)\n",
    "songs_data"
   ]
  },
  {
   "cell_type": "code",
   "execution_count": null,
   "id": "f5c2fcde",
   "metadata": {},
   "outputs": [],
   "source": [
    "filtered_songs = []\n",
    "for index, row in songs_data.iterrows():\n",
    "    print(row[2:])"
   ]
  },
  {
   "cell_type": "code",
   "execution_count": null,
   "id": "ab35e0dc",
   "metadata": {},
   "outputs": [],
   "source": [
    "# Baseline Approach\n",
    "def baseline_search(keyword, songs_data, threshold=3):\n",
    "    filtered_songs = []\n",
    "    for index, row in songs_data.iterrows():\n",
    "        if row['word_occurrences'].get(keyword, 0) >= threshold:\n",
    "            filtered_songs.append(row)\n",
    "    filtered_songs = pd.DataFrame(filtered_songs)\n",
    "    return filtered_songs.sort_values(by='play_count', ascending=False).head(50)\n",
    "\n",
    "# Example usage:\n",
    "filtered_songs_baseline = baseline_search('love', songs_data)\n",
    "print(filtered_songs_baseline)\n"
   ]
  },
  {
   "cell_type": "code",
   "execution_count": null,
   "id": "48557430",
   "metadata": {},
   "outputs": [],
   "source": [
    "# Merge the data based on track_id\n",
    "# merged_data = merged_df.join(musixmatch, on='track_id', how='inner')\n",
    "# merged_data"
   ]
  },
  {
   "cell_type": "code",
   "execution_count": null,
   "id": "d3eced69",
   "metadata": {},
   "outputs": [],
   "source": [
    "def get_recommendations(data, keyword, method='baseline', threshold=5):\n",
    "    if method == 'baseline':\n",
    "        # Baseline approach: Count keyword occurrences in lyrics\n",
    "        keyword_counts = data['word_counts'].apply(lambda x: x.count(keyword))\n",
    "        filtered_data = data[keyword_counts >= threshold]\n",
    "        recommendations = filtered_data[['artist', 'title', 'play_count']].sort_values('play_count', ascending=False).head(50)\n",
    "        recommendations.reset_index(inplace=True)\n",
    "        recommendations.index.name = 'index number'\n",
    "        return recommendations\n",
    "    \n",
    "    # elif method == 'word2vec':\n",
    "    #     # Word2Vec approach: Find similar tokens using Word2Vec\n",
    "    #     lyrics = data['word_counts'].apply(lambda x: x.split(','))\n",
    "    #     model = Word2Vec(lyrics, min_count=1)\n",
    "    #     similar_words = [word for word, _ in model.wv.most_similar(keyword, topn=10)]\n",
    "    #     filtered_data = data[data['word_counts'].apply(lambda x: any(word in x for word in similar_words))]\n",
    "    #     recommendations = filtered_data[['artist', 'title', 'play_count']].sort_values('play_count', ascending=False).head(50)\n",
    "    #     recommendations.reset_index(inplace=True)\n",
    "    #     recommendations.index.name = 'index number'\n",
    "    #     return recommendations\n",
    "    \n",
    "    # elif method == 'classification':\n",
    "    #     # Classification approach: Label data and predict class\n",
    "    #     vectorizer = CountVectorizer()\n",
    "    #     X = vectorizer.fit_transform(data['word_counts'])\n",
    "    #     y = data['word_counts'].apply(lambda x: keyword in x).astype(int)\n",
    "    #     clf = MultinomialNB()\n",
    "    #     clf.fit(X, y)\n",
    "    #     predictions = clf.predict(X)\n",
    "    #     filtered_data = data[predictions == 1]\n",
    "    #     recommendations = filtered_data[['artist', 'title', 'play_count']].sort_values('play_count', ascending=False).head(50)\n",
    "    #     recommendations.reset_index(inplace=True)\n",
    "    #     recommendations.index.name = 'index number'\n",
    "    #     return recommendations\n",
    "    \n",
    "    # else:\n",
    "    #     raise ValueError(f\"Invalid method: {method}\")"
   ]
  },
  {
   "cell_type": "code",
   "execution_count": null,
   "id": "16e98b6c",
   "metadata": {},
   "outputs": [],
   "source": [
    "try:\n",
    "    keyword = 'love'\n",
    "    recommendations = get_recommendations(musixmatch, keyword, method='baseline', threshold=5)\n",
    "    print(f\"Top 50 tracks for the keyword '{keyword}':\")\n",
    "    print(recommendations)\n",
    "except ValueError as e:\n",
    "    print(str(e))"
   ]
  },
  {
   "cell_type": "code",
   "execution_count": null,
   "id": "489e4def-14d7-432d-a66e-e83887d10075",
   "metadata": {},
   "outputs": [],
   "source": [
    "songs = merged_df[['user_id', 'song_id', 'track_id', 'song', 'play_count']]\n",
    "songs"
   ]
  },
  {
   "cell_type": "code",
   "execution_count": null,
   "id": "3ec86881-7bb7-4588-b8fd-9631e2ff3850",
   "metadata": {},
   "outputs": [],
   "source": [
    "songs['user_id'] = pd.factorize(songs['user_id'])[0]\n",
    "songs['song_id'] = pd.factorize(songs['song_id'])[0]\n",
    "songs"
   ]
  },
  {
   "cell_type": "code",
   "execution_count": null,
   "id": "c1f17e27-020f-48df-bcbc-0a4d60d6f52c",
   "metadata": {},
   "outputs": [],
   "source": [
    "class MusicData:\n",
    "    def __init__(self, data):\n",
    "        self.data = data\n",
    "        self.song_id_to_name = pd.Series(data.song.values, index=data.song_id).to_dict()\n",
    "\n",
    "    def get_user_songs(self, user_id):\n",
    "        user_data = self.data[self.data['user_id'] == user_id]\n",
    "        user_songs = [self.song_id_to_name[song_id] for song_id in user_data['song_id'].unique()]\n",
    "        return user_songs\n",
    "\n",
    "    def get_song_users(self, song_id):\n",
    "        song_data = self.data[self.data['song_id'] == song_id]\n",
    "        song_users = song_data['user_id'].unique()\n",
    "        return song_users\n",
    "\n",
    "    def get_song_name(self, song_id):\n",
    "        return self.song_id_to_name.get(song_id, \"Song ID not found in data\")\n",
    "\n",
    "    def get_top_songs(self, n=10):\n",
    "        top_songs = self.data['song_id'].value_counts()[:n].index.tolist()\n",
    "        return top_songs\n",
    "\n",
    "    def get_top_users(self, n=10):\n",
    "        top_users = self.data['user_id'].value_counts()[:n].index.tolist()\n",
    "        return top_users\n",
    "\n",
    "music_data = MusicData(songs)"
   ]
  },
  {
   "cell_type": "code",
   "execution_count": null,
   "id": "8f0fa3bd-46ad-4a66-a0f2-710b86d68e21",
   "metadata": {},
   "outputs": [],
   "source": [
    "X = songs[['user_id', 'song_id', 'play_count']]\n",
    "X"
   ]
  },
  {
   "cell_type": "code",
   "execution_count": null,
   "id": "97699b91-3bd4-415a-8be3-8aef704b18f5",
   "metadata": {},
   "outputs": [],
   "source": [
    "X.user_id.nunique(), X.song_id.nunique(), "
   ]
  },
  {
   "cell_type": "code",
   "execution_count": null,
   "id": "4878c447-6dc3-4eb9-bacd-38f38f03a0a0",
   "metadata": {},
   "outputs": [],
   "source": [
    "print(\"Songs listened by a user:\", music_data.get_user_songs(0))"
   ]
  },
  {
   "cell_type": "code",
   "execution_count": null,
   "id": "f4f1e260-8dd3-4468-ad5c-418e159b8846",
   "metadata": {},
   "outputs": [],
   "source": [
    "print(\"Song name for a song ID:\", music_data.get_song_name(0)) "
   ]
  },
  {
   "cell_type": "code",
   "execution_count": null,
   "id": "ecd0e37e-91f1-455e-8923-77c0f752a316",
   "metadata": {},
   "outputs": [],
   "source": [
    "X.set_index([\"user_id\", \"song_id\"], inplace=True)"
   ]
  },
  {
   "cell_type": "code",
   "execution_count": null,
   "id": "d2640191-b808-40ee-b034-d4f022eebfeb",
   "metadata": {},
   "outputs": [],
   "source": [
    "X.sample(10000)"
   ]
  },
  {
   "cell_type": "code",
   "execution_count": null,
   "id": "5b38c389-ef58-4baa-9661-210b07466529",
   "metadata": {},
   "outputs": [],
   "source": [
    "X.index.get_level_values(0)[:30]"
   ]
  },
  {
   "cell_type": "code",
   "execution_count": null,
   "id": "70eb45b3-4898-47c1-8a6f-8c2af0980d0e",
   "metadata": {},
   "outputs": [],
   "source": [
    "X.index.get_level_values(1)"
   ]
  },
  {
   "cell_type": "code",
   "execution_count": null,
   "id": "7caf94e3-cf17-47a1-ab58-5dd9bb2e6a03",
   "metadata": {},
   "outputs": [],
   "source": [
    "coo = scipy.sparse.coo_matrix( (X.play_count.astype(float), (X.index.get_level_values(0), X.index.get_level_values(1),),))"
   ]
  },
  {
   "cell_type": "code",
   "execution_count": null,
   "id": "4cf0e99e-34fc-45e0-8cf0-c143ac9c25d7",
   "metadata": {},
   "outputs": [],
   "source": [
    "arr = coo.tocsr().toarray()\n",
    "arr.shape"
   ]
  },
  {
   "cell_type": "code",
   "execution_count": null,
   "id": "8e7123e9-82d0-41cf-89cf-bae313927df6",
   "metadata": {},
   "outputs": [],
   "source": [
    "implict_model = implicit.als.AlternatingLeastSquares(\n",
    "    factors=50, iterations=10, regularization=0.01\n",
    ")"
   ]
  },
  {
   "cell_type": "code",
   "execution_count": null,
   "id": "9116e2f4-21ee-4fb6-9e49-297f600231b8",
   "metadata": {},
   "outputs": [],
   "source": [
    "implict_model.fit(coo.tocsr())"
   ]
  },
  {
   "cell_type": "code",
   "execution_count": null,
   "id": "3afe3a28-a3ad-4dc5-b27e-e4f878bcd8bf",
   "metadata": {},
   "outputs": [],
   "source": [
    "user_id = 65\n",
    "n = 100\n",
    "songs_ids, scores = implict_model.recommend(user_id, coo.tocsr()[n], N=n)"
   ]
  },
  {
   "cell_type": "code",
   "execution_count": null,
   "id": "0098ad32-e9e3-4636-a9e4-1c0a21cb7c5f",
   "metadata": {},
   "outputs": [],
   "source": [
    "songs_ids[:10]"
   ]
  },
  {
   "cell_type": "code",
   "execution_count": null,
   "id": "3a189210-bb6e-4f9e-abab-2e4716ad23aa",
   "metadata": {},
   "outputs": [],
   "source": [
    "scores[:10]"
   ]
  },
  {
   "cell_type": "code",
   "execution_count": null,
   "id": "5ff126cf-dd8e-445a-9d81-f8d9bca6fa72",
   "metadata": {},
   "outputs": [],
   "source": [
    "[music_data.get_song_name(song_id) for song_id in songs_ids[:20]]"
   ]
  },
  {
   "cell_type": "code",
   "execution_count": null,
   "id": "468856a1-b011-42d6-8069-f9ca2f84d6cd",
   "metadata": {},
   "outputs": [],
   "source": [
    "music_data.get_user_songs(user_id)"
   ]
  },
  {
   "cell_type": "code",
   "execution_count": null,
   "id": "8240b6c9-eca8-4693-9db0-f3faac35449f",
   "metadata": {},
   "outputs": [],
   "source": [
    "songs.song[100:150]"
   ]
  },
  {
   "cell_type": "code",
   "execution_count": null,
   "id": "e57bf987-cf8a-4f0f-881b-d1ae614844ff",
   "metadata": {},
   "outputs": [],
   "source": [
    "itemids, scores = implict_model.similar_items(itemid=118)"
   ]
  },
  {
   "cell_type": "code",
   "execution_count": null,
   "id": "972c3736-8f40-41e1-b72e-cc441f6dcf4e",
   "metadata": {},
   "outputs": [],
   "source": [
    "[music_data.get_song_name(item_id) for item_id in itemids]"
   ]
  },
  {
   "cell_type": "code",
   "execution_count": null,
   "id": "617f65dd-bcaa-451d-9d90-1a0745d1eabc",
   "metadata": {},
   "outputs": [],
   "source": []
  }
 ],
 "metadata": {
  "kernelspec": {
   "display_name": "Python 3 (ipykernel)",
   "language": "python",
   "name": "python3"
  },
  "language_info": {
   "codemirror_mode": {
    "name": "ipython",
    "version": 3
   },
   "file_extension": ".py",
   "mimetype": "text/x-python",
   "name": "python",
   "nbconvert_exporter": "python",
   "pygments_lexer": "ipython3",
   "version": "3.11.6"
  }
 },
 "nbformat": 4,
 "nbformat_minor": 5
}
