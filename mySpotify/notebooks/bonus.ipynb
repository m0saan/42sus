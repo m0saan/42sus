{
 "cells": [
  {
   "cell_type": "code",
   "execution_count": 8,
   "metadata": {},
   "outputs": [],
   "source": [
    "import os\n",
    "import numpy as np\n",
    "import pandas as pd\n",
    "import polars as pl\n",
    "from sklearn.model_selection import train_test_split\n",
    "import logging\n",
    "from colorama import Fore, Style, init\n",
    "import warnings\n",
    "import argparse\n",
    "\n",
    "# filter warnings\n",
    "warnings.filterwarnings('ignore')\n",
    "\n",
    "# Set up basic configuration for logging\n",
    "logging.basicConfig(level=logging.INFO, format=f'{Fore.GREEN}%(asctime)s - %(levelname)s - %(message)s{Style.RESET_ALL}')\n",
    "\n",
    "# Initialize colorama\n",
    "init(autoreset=True)\n",
    "\n",
    "global_path = '../data'\n",
    "triplet_path = f\"{global_path}/train_triplets.txt\"\n",
    "unique_tracks_path = f\"{global_path}/p02_unique_tracks.txt\"\n",
    "genre_path = f\"{global_path}/p02_msd_tagtraum_cd2.cls\""
   ]
  },
  {
   "cell_type": "code",
   "execution_count": 11,
   "metadata": {},
   "outputs": [],
   "source": [
    "def load_data(triplet_path, unique_tracks_path):\n",
    "    logging.info('Loading data...')\n",
    "\n",
    "\n",
    "    triplet_columns = ['user_id', 'song_id', 'play_count']\n",
    "    track_columns = ['track_id', 'song_id', 'artist', 'title']\n",
    "\n",
    "    triplet_df = pl.read_csv(triplet_path, separator='\\t', new_columns=triplet_columns, use_pyarrow=True)\n",
    "    unique_tracks_df = pl.read_csv(unique_tracks_path, new_columns=track_columns, use_pyarrow=True)\n",
    "\n",
    "    logging.info('Data loaded successfully.')\n",
    "\n",
    "    logging.info('Merging songs...')\n",
    "\n",
    "    triplet_df = triplet_df.filter(pl.col('play_count') > 1)\n",
    "    songs = pd.merge(triplet_df.to_pandas(), unique_tracks_df.to_pandas(), on='song_id', how='left')\n",
    "    songs['song'] = songs['title']+' - ' + songs['artist']\n",
    "    songs = songs[['user_id', 'song_id', 'track_id', 'song', 'play_count']]\n",
    "\n",
    "    songs['user_idx'] = pd.factorize(songs['user_id'])[0]\n",
    "    songs['song_idx'] = pd.factorize(songs['song_id'])[0]\n",
    "\n",
    "    logging.info('Songs merged successfully.')\n",
    "\n",
    "    del triplet_df, unique_tracks_df\n",
    "\n",
    "    # save the data\n",
    "    # songs.to_csv('data/songs.csv', index=False)\n",
    "\n",
    "    return songs"
   ]
  },
  {
   "cell_type": "code",
   "execution_count": null,
   "metadata": {},
   "outputs": [
    {
     "name": "stderr",
     "output_type": "stream",
     "text": [
      "\u001b[32m2024-05-29 13:32:54,990 - INFO - Loading data...\u001b[0m\n",
      "\u001b[32m2024-05-29 13:32:58,590 - INFO - Data loaded successfully.\u001b[0m\n",
      "\u001b[32m2024-05-29 13:32:58,598 - INFO - Merging songs...\u001b[0m\n",
      "\u001b[32m2024-05-29 13:33:16,090 - INFO - Songs merged successfully.\u001b[0m\n"
     ]
    },
    {
     "data": {
      "text/html": [
       "<div>\n",
       "<style scoped>\n",
       "    .dataframe tbody tr th:only-of-type {\n",
       "        vertical-align: middle;\n",
       "    }\n",
       "\n",
       "    .dataframe tbody tr th {\n",
       "        vertical-align: top;\n",
       "    }\n",
       "\n",
       "    .dataframe thead th {\n",
       "        text-align: right;\n",
       "    }\n",
       "</style>\n",
       "<table border=\"1\" class=\"dataframe\">\n",
       "  <thead>\n",
       "    <tr style=\"text-align: right;\">\n",
       "      <th></th>\n",
       "      <th>user_idx</th>\n",
       "      <th>song_idx</th>\n",
       "      <th>song</th>\n",
       "      <th>play_count</th>\n",
       "    </tr>\n",
       "  </thead>\n",
       "  <tbody>\n",
       "    <tr>\n",
       "      <th>0</th>\n",
       "      <td>0</td>\n",
       "      <td>0</td>\n",
       "      <td>Entre Dos Aguas - Paco De Lucia</td>\n",
       "      <td>2</td>\n",
       "    </tr>\n",
       "    <tr>\n",
       "      <th>1</th>\n",
       "      <td>0</td>\n",
       "      <td>1</td>\n",
       "      <td>12 segundos de oscuridad - Jorge Drexler</td>\n",
       "      <td>2</td>\n",
       "    </tr>\n",
       "    <tr>\n",
       "      <th>2</th>\n",
       "      <td>0</td>\n",
       "      <td>2</td>\n",
       "      <td>Apuesta Por El Rock 'N' Roll - Héroes del Sile...</td>\n",
       "      <td>5</td>\n",
       "    </tr>\n",
       "    <tr>\n",
       "      <th>3</th>\n",
       "      <td>0</td>\n",
       "      <td>3</td>\n",
       "      <td>I'll Be Missing You (Featuring Faith Evans &amp; 1...</td>\n",
       "      <td>5</td>\n",
       "    </tr>\n",
       "    <tr>\n",
       "      <th>4</th>\n",
       "      <td>0</td>\n",
       "      <td>4</td>\n",
       "      <td>I?'m A Steady Rollin? Man - Robert Johnson</td>\n",
       "      <td>5</td>\n",
       "    </tr>\n",
       "    <tr>\n",
       "      <th>...</th>\n",
       "      <td>...</td>\n",
       "      <td>...</td>\n",
       "      <td>...</td>\n",
       "      <td>...</td>\n",
       "    </tr>\n",
       "    <tr>\n",
       "      <th>20151715</th>\n",
       "      <td>981153</td>\n",
       "      <td>1475</td>\n",
       "      <td>Représente - Alliance Ethnik</td>\n",
       "      <td>4</td>\n",
       "    </tr>\n",
       "    <tr>\n",
       "      <th>20151716</th>\n",
       "      <td>981153</td>\n",
       "      <td>2492</td>\n",
       "      <td>Addams Groove - MC Hammer</td>\n",
       "      <td>6</td>\n",
       "    </tr>\n",
       "    <tr>\n",
       "      <th>20151717</th>\n",
       "      <td>981153</td>\n",
       "      <td>2257</td>\n",
       "      <td>Go To Sleep - Eminem / DMX / Obie Trice</td>\n",
       "      <td>2</td>\n",
       "    </tr>\n",
       "    <tr>\n",
       "      <th>20151718</th>\n",
       "      <td>981153</td>\n",
       "      <td>55499</td>\n",
       "      <td>We're Back - Eminem / Obie Trice / Stat Quo / ...</td>\n",
       "      <td>2</td>\n",
       "    </tr>\n",
       "    <tr>\n",
       "      <th>20151719</th>\n",
       "      <td>981153</td>\n",
       "      <td>1281</td>\n",
       "      <td>Downfall (Album Version) - matchbox twenty</td>\n",
       "      <td>3</td>\n",
       "    </tr>\n",
       "  </tbody>\n",
       "</table>\n",
       "<p>20151720 rows × 4 columns</p>\n",
       "</div>"
      ],
      "text/plain": [
       "          user_idx  song_idx  \\\n",
       "0                0         0   \n",
       "1                0         1   \n",
       "2                0         2   \n",
       "3                0         3   \n",
       "4                0         4   \n",
       "...            ...       ...   \n",
       "20151715    981153      1475   \n",
       "20151716    981153      2492   \n",
       "20151717    981153      2257   \n",
       "20151718    981153     55499   \n",
       "20151719    981153      1281   \n",
       "\n",
       "                                                       song  play_count  \n",
       "0                           Entre Dos Aguas - Paco De Lucia           2  \n",
       "1                  12 segundos de oscuridad - Jorge Drexler           2  \n",
       "2         Apuesta Por El Rock 'N' Roll - Héroes del Sile...           5  \n",
       "3         I'll Be Missing You (Featuring Faith Evans & 1...           5  \n",
       "4                I?'m A Steady Rollin? Man - Robert Johnson           5  \n",
       "...                                                     ...         ...  \n",
       "20151715                       Représente - Alliance Ethnik           4  \n",
       "20151716                          Addams Groove - MC Hammer           6  \n",
       "20151717            Go To Sleep - Eminem / DMX / Obie Trice           2  \n",
       "20151718  We're Back - Eminem / Obie Trice / Stat Quo / ...           2  \n",
       "20151719         Downfall (Album Version) - matchbox twenty           3  \n",
       "\n",
       "[20151720 rows x 4 columns]"
      ]
     },
     "metadata": {},
     "output_type": "display_data"
    }
   ],
   "source": [
    "songs = load_data(triplet_path, unique_tracks_path)\n",
    "X = songs[['user_idx', 'song_idx', 'song', 'play_count']]\n",
    "X"
   ]
  },
  {
   "cell_type": "code",
   "execution_count": null,
   "metadata": {},
   "outputs": [
    {
     "data": {
      "text/html": [
       "<div>\n",
       "<style scoped>\n",
       "    .dataframe tbody tr th:only-of-type {\n",
       "        vertical-align: middle;\n",
       "    }\n",
       "\n",
       "    .dataframe tbody tr th {\n",
       "        vertical-align: top;\n",
       "    }\n",
       "\n",
       "    .dataframe thead th {\n",
       "        text-align: right;\n",
       "    }\n",
       "</style>\n",
       "<table border=\"1\" class=\"dataframe\">\n",
       "  <thead>\n",
       "    <tr style=\"text-align: right;\">\n",
       "      <th></th>\n",
       "      <th>song_idx</th>\n",
       "      <th>song</th>\n",
       "    </tr>\n",
       "  </thead>\n",
       "  <tbody>\n",
       "    <tr>\n",
       "      <th>0</th>\n",
       "      <td>0</td>\n",
       "      <td>Entre Dos Aguas - Paco De Lucia</td>\n",
       "    </tr>\n",
       "    <tr>\n",
       "      <th>1</th>\n",
       "      <td>1</td>\n",
       "      <td>12 segundos de oscuridad - Jorge Drexler</td>\n",
       "    </tr>\n",
       "    <tr>\n",
       "      <th>2</th>\n",
       "      <td>2</td>\n",
       "      <td>Apuesta Por El Rock 'N' Roll - Héroes del Sile...</td>\n",
       "    </tr>\n",
       "    <tr>\n",
       "      <th>3</th>\n",
       "      <td>3</td>\n",
       "      <td>I'll Be Missing You (Featuring Faith Evans &amp; 1...</td>\n",
       "    </tr>\n",
       "    <tr>\n",
       "      <th>4</th>\n",
       "      <td>4</td>\n",
       "      <td>I?'m A Steady Rollin? Man - Robert Johnson</td>\n",
       "    </tr>\n",
       "    <tr>\n",
       "      <th>...</th>\n",
       "      <td>...</td>\n",
       "      <td>...</td>\n",
       "    </tr>\n",
       "    <tr>\n",
       "      <th>20149147</th>\n",
       "      <td>333702</td>\n",
       "      <td>Whew - Simon &amp; Garfunkel</td>\n",
       "    </tr>\n",
       "    <tr>\n",
       "      <th>20149475</th>\n",
       "      <td>333703</td>\n",
       "      <td>Then There's Me (LP Version) - Tim Rushlow</td>\n",
       "    </tr>\n",
       "    <tr>\n",
       "      <th>20149778</th>\n",
       "      <td>333704</td>\n",
       "      <td>Just For Me - Brio From Rio</td>\n",
       "    </tr>\n",
       "    <tr>\n",
       "      <th>20150189</th>\n",
       "      <td>333705</td>\n",
       "      <td>Rowena - Loudon Wainwright III</td>\n",
       "    </tr>\n",
       "    <tr>\n",
       "      <th>20150758</th>\n",
       "      <td>333706</td>\n",
       "      <td>Skit - Cam'Ron</td>\n",
       "    </tr>\n",
       "  </tbody>\n",
       "</table>\n",
       "<p>333707 rows × 2 columns</p>\n",
       "</div>"
      ],
      "text/plain": [
       "          song_idx                                               song\n",
       "0                0                    Entre Dos Aguas - Paco De Lucia\n",
       "1                1           12 segundos de oscuridad - Jorge Drexler\n",
       "2                2  Apuesta Por El Rock 'N' Roll - Héroes del Sile...\n",
       "3                3  I'll Be Missing You (Featuring Faith Evans & 1...\n",
       "4                4         I?'m A Steady Rollin? Man - Robert Johnson\n",
       "...            ...                                                ...\n",
       "20149147    333702                           Whew - Simon & Garfunkel\n",
       "20149475    333703         Then There's Me (LP Version) - Tim Rushlow\n",
       "20149778    333704                        Just For Me - Brio From Rio\n",
       "20150189    333705                     Rowena - Loudon Wainwright III\n",
       "20150758    333706                                     Skit - Cam'Ron\n",
       "\n",
       "[333707 rows x 2 columns]"
      ]
     },
     "metadata": {},
     "output_type": "display_data"
    }
   ],
   "source": [
    "unique_songs_df = X[['song_idx', 'song']].drop_duplicates(subset='song_idx')\n",
    "unique_songs_df"
   ]
  },
  {
   "cell_type": "code",
   "execution_count": null,
   "metadata": {},
   "outputs": [],
   "source": [
    "# save two csv files, ratings.csv and songs.csv\n",
    "unique_songs_df.to_csv(f\"{global_path}/songs.csv\", index=False)\n",
    "songs[['user_idx', 'song_idx', 'play_count']].to_csv(f\"{global_path}/ratings.csv\", index=False)"
   ]
  },
  {
   "cell_type": "code",
   "execution_count": null,
   "metadata": {},
   "outputs": [],
   "source": [
    "num_ratings = X.groupby('song_idx')['play_count'].count()\n",
    "mean_rating = X.groupby('song_idx')['play_count'].mean()\n",
    "sum_ratings = X.groupby('song_idx')['play_count'].sum()"
   ]
  },
  {
   "cell_type": "code",
   "execution_count": null,
   "metadata": {},
   "outputs": [],
   "source": [
    "unique_songs_df['num_ratings'] = unique_songs_df['song_idx'].map(num_ratings)\n",
    "unique_songs_df['mean_rating'] = unique_songs_df['song_idx'].map(mean_rating)"
   ]
  },
  {
   "cell_type": "code",
   "execution_count": null,
   "metadata": {},
   "outputs": [
    {
     "data": {
      "text/plain": [
       "(5.588893900868015, 10)"
      ]
     },
     "metadata": {},
     "output_type": "display_data"
    }
   ],
   "source": [
    "damping_factor = 10\n",
    "global_mean_rating = X['play_count'].mean()\n",
    "\n",
    "global_mean_rating, damping_factor"
   ]
  },
  {
   "cell_type": "code",
   "execution_count": null,
   "metadata": {},
   "outputs": [],
   "source": [
    "damped_numerator = sum_ratings + damping_factor * global_mean_rating\n",
    "damped_denominator = num_ratings + damping_factor\n",
    "damped_mean_rating = damped_numerator / damped_denominator\n",
    "unique_songs_df['damped_mean_rating'] = unique_songs_df['song_idx'].map(damped_mean_rating)"
   ]
  },
  {
   "cell_type": "code",
   "execution_count": null,
   "metadata": {},
   "outputs": [
    {
     "data": {
      "text/html": [
       "<div>\n",
       "<style scoped>\n",
       "    .dataframe tbody tr th:only-of-type {\n",
       "        vertical-align: middle;\n",
       "    }\n",
       "\n",
       "    .dataframe tbody tr th {\n",
       "        vertical-align: top;\n",
       "    }\n",
       "\n",
       "    .dataframe thead th {\n",
       "        text-align: right;\n",
       "    }\n",
       "</style>\n",
       "<table border=\"1\" class=\"dataframe\">\n",
       "  <thead>\n",
       "    <tr style=\"text-align: right;\">\n",
       "      <th></th>\n",
       "      <th>song_idx</th>\n",
       "      <th>song</th>\n",
       "      <th>num_ratings</th>\n",
       "      <th>mean_rating</th>\n",
       "      <th>damped_mean_rating</th>\n",
       "    </tr>\n",
       "  </thead>\n",
       "  <tbody>\n",
       "    <tr>\n",
       "      <th>79</th>\n",
       "      <td>76</td>\n",
       "      <td>Sehr kosmisch - Harmonia</td>\n",
       "      <td>65688</td>\n",
       "      <td>5.795153</td>\n",
       "      <td>5.795121</td>\n",
       "    </tr>\n",
       "    <tr>\n",
       "      <th>72</th>\n",
       "      <td>69</td>\n",
       "      <td>Undo - Björk</td>\n",
       "      <td>57660</td>\n",
       "      <td>10.673309</td>\n",
       "      <td>10.672427</td>\n",
       "    </tr>\n",
       "    <tr>\n",
       "      <th>74</th>\n",
       "      <td>71</td>\n",
       "      <td>You're The One - Dwight Yoakam</td>\n",
       "      <td>55035</td>\n",
       "      <td>12.681385</td>\n",
       "      <td>12.680096</td>\n",
       "    </tr>\n",
       "    <tr>\n",
       "      <th>73</th>\n",
       "      <td>70</td>\n",
       "      <td>Dog Days Are Over (Radio Edit) - Florence + Th...</td>\n",
       "      <td>52773</td>\n",
       "      <td>6.042143</td>\n",
       "      <td>6.042057</td>\n",
       "    </tr>\n",
       "    <tr>\n",
       "      <th>90</th>\n",
       "      <td>87</td>\n",
       "      <td>Use Somebody - Kings Of Leon</td>\n",
       "      <td>50044</td>\n",
       "      <td>4.742507</td>\n",
       "      <td>4.742676</td>\n",
       "    </tr>\n",
       "    <tr>\n",
       "      <th>87</th>\n",
       "      <td>84</td>\n",
       "      <td>Revelry - Kings Of Leon</td>\n",
       "      <td>48290</td>\n",
       "      <td>10.261483</td>\n",
       "      <td>10.260515</td>\n",
       "    </tr>\n",
       "    <tr>\n",
       "      <th>84</th>\n",
       "      <td>81</td>\n",
       "      <td>Secrets - OneRepublic</td>\n",
       "      <td>44874</td>\n",
       "      <td>5.775349</td>\n",
       "      <td>5.775307</td>\n",
       "    </tr>\n",
       "    <tr>\n",
       "      <th>77</th>\n",
       "      <td>74</td>\n",
       "      <td>Horn Concerto No. 4 in E flat K495: II. Romanc...</td>\n",
       "      <td>40470</td>\n",
       "      <td>8.916803</td>\n",
       "      <td>8.915980</td>\n",
       "    </tr>\n",
       "    <tr>\n",
       "      <th>101</th>\n",
       "      <td>97</td>\n",
       "      <td>Yellow - Coldplay</td>\n",
       "      <td>36272</td>\n",
       "      <td>4.905823</td>\n",
       "      <td>4.906011</td>\n",
       "    </tr>\n",
       "    <tr>\n",
       "      <th>55</th>\n",
       "      <td>55</td>\n",
       "      <td>Somebody To Love - Justin Bieber</td>\n",
       "      <td>35492</td>\n",
       "      <td>5.170855</td>\n",
       "      <td>5.170973</td>\n",
       "    </tr>\n",
       "  </tbody>\n",
       "</table>\n",
       "</div>"
      ],
      "text/plain": [
       "     song_idx                                               song  num_ratings  \\\n",
       "79         76                           Sehr kosmisch - Harmonia        65688   \n",
       "72         69                                       Undo - Björk        57660   \n",
       "74         71                     You're The One - Dwight Yoakam        55035   \n",
       "73         70  Dog Days Are Over (Radio Edit) - Florence + Th...        52773   \n",
       "90         87                       Use Somebody - Kings Of Leon        50044   \n",
       "87         84                            Revelry - Kings Of Leon        48290   \n",
       "84         81                              Secrets - OneRepublic        44874   \n",
       "77         74  Horn Concerto No. 4 in E flat K495: II. Romanc...        40470   \n",
       "101        97                                  Yellow - Coldplay        36272   \n",
       "55         55                   Somebody To Love - Justin Bieber        35492   \n",
       "\n",
       "     mean_rating  damped_mean_rating  \n",
       "79      5.795153            5.795121  \n",
       "72     10.673309           10.672427  \n",
       "74     12.681385           12.680096  \n",
       "73      6.042143            6.042057  \n",
       "90      4.742507            4.742676  \n",
       "87     10.261483           10.260515  \n",
       "84      5.775349            5.775307  \n",
       "77      8.916803            8.915980  \n",
       "101     4.905823            4.906011  \n",
       "55      5.170855            5.170973  "
      ]
     },
     "metadata": {},
     "output_type": "display_data"
    }
   ],
   "source": [
    "unique_songs_df.sort_values(by='num_ratings', ascending=False).head(10)"
   ]
  },
  {
   "cell_type": "code",
   "execution_count": null,
   "metadata": {},
   "outputs": [
    {
     "data": {
      "text/html": [
       "<div>\n",
       "<style scoped>\n",
       "    .dataframe tbody tr th:only-of-type {\n",
       "        vertical-align: middle;\n",
       "    }\n",
       "\n",
       "    .dataframe tbody tr th {\n",
       "        vertical-align: top;\n",
       "    }\n",
       "\n",
       "    .dataframe thead th {\n",
       "        text-align: right;\n",
       "    }\n",
       "</style>\n",
       "<table border=\"1\" class=\"dataframe\">\n",
       "  <thead>\n",
       "    <tr style=\"text-align: right;\">\n",
       "      <th></th>\n",
       "      <th>song_idx</th>\n",
       "      <th>song</th>\n",
       "      <th>num_ratings</th>\n",
       "      <th>mean_rating</th>\n",
       "      <th>damped_mean_rating</th>\n",
       "    </tr>\n",
       "  </thead>\n",
       "  <tbody>\n",
       "    <tr>\n",
       "      <th>11508469</th>\n",
       "      <td>301284</td>\n",
       "      <td>Without Bill the Jedi Changed - Rolfe Kent</td>\n",
       "      <td>2</td>\n",
       "      <td>340.000000</td>\n",
       "      <td>61.324078</td>\n",
       "    </tr>\n",
       "    <tr>\n",
       "      <th>17403049</th>\n",
       "      <td>325634</td>\n",
       "      <td>Thy Mercy - Caedmon's Call</td>\n",
       "      <td>1</td>\n",
       "      <td>339.000000</td>\n",
       "      <td>35.898994</td>\n",
       "    </tr>\n",
       "    <tr>\n",
       "      <th>8291836</th>\n",
       "      <td>279839</td>\n",
       "      <td>T.K.O - James Taylor Quartet</td>\n",
       "      <td>1</td>\n",
       "      <td>300.000000</td>\n",
       "      <td>32.353540</td>\n",
       "    </tr>\n",
       "    <tr>\n",
       "      <th>6852866</th>\n",
       "      <td>266800</td>\n",
       "      <td>Who Thought The Railroad Wouldn't Last - Jim L...</td>\n",
       "      <td>3</td>\n",
       "      <td>263.666667</td>\n",
       "      <td>65.145303</td>\n",
       "    </tr>\n",
       "    <tr>\n",
       "      <th>5499507</th>\n",
       "      <td>251661</td>\n",
       "      <td>Any Place I Hang My Hat Is Home - Audra McDonald</td>\n",
       "      <td>2</td>\n",
       "      <td>240.000000</td>\n",
       "      <td>44.657412</td>\n",
       "    </tr>\n",
       "    <tr>\n",
       "      <th>1674231</th>\n",
       "      <td>170169</td>\n",
       "      <td>Craft (Dimensional Release) - Michael Stearns</td>\n",
       "      <td>1</td>\n",
       "      <td>233.000000</td>\n",
       "      <td>26.262631</td>\n",
       "    </tr>\n",
       "    <tr>\n",
       "      <th>573632</th>\n",
       "      <td>107910</td>\n",
       "      <td>Je te laisse un sifflet - Garou</td>\n",
       "      <td>1</td>\n",
       "      <td>228.000000</td>\n",
       "      <td>25.808085</td>\n",
       "    </tr>\n",
       "    <tr>\n",
       "      <th>19467714</th>\n",
       "      <td>331818</td>\n",
       "      <td>Get Up! - Helix</td>\n",
       "      <td>1</td>\n",
       "      <td>224.000000</td>\n",
       "      <td>25.444449</td>\n",
       "    </tr>\n",
       "    <tr>\n",
       "      <th>7344834</th>\n",
       "      <td>271741</td>\n",
       "      <td>The Buzzard - Rye Coalition</td>\n",
       "      <td>1</td>\n",
       "      <td>191.000000</td>\n",
       "      <td>22.444449</td>\n",
       "    </tr>\n",
       "    <tr>\n",
       "      <th>11158</th>\n",
       "      <td>8198</td>\n",
       "      <td>Words - Jack the Ripper</td>\n",
       "      <td>11</td>\n",
       "      <td>183.454545</td>\n",
       "      <td>98.756616</td>\n",
       "    </tr>\n",
       "  </tbody>\n",
       "</table>\n",
       "</div>"
      ],
      "text/plain": [
       "          song_idx                                               song  \\\n",
       "11508469    301284         Without Bill the Jedi Changed - Rolfe Kent   \n",
       "17403049    325634                         Thy Mercy - Caedmon's Call   \n",
       "8291836     279839                       T.K.O - James Taylor Quartet   \n",
       "6852866     266800  Who Thought The Railroad Wouldn't Last - Jim L...   \n",
       "5499507     251661   Any Place I Hang My Hat Is Home - Audra McDonald   \n",
       "1674231     170169      Craft (Dimensional Release) - Michael Stearns   \n",
       "573632      107910                    Je te laisse un sifflet - Garou   \n",
       "19467714    331818                                    Get Up! - Helix   \n",
       "7344834     271741                        The Buzzard - Rye Coalition   \n",
       "11158         8198                            Words - Jack the Ripper   \n",
       "\n",
       "          num_ratings  mean_rating  damped_mean_rating  \n",
       "11508469            2   340.000000           61.324078  \n",
       "17403049            1   339.000000           35.898994  \n",
       "8291836             1   300.000000           32.353540  \n",
       "6852866             3   263.666667           65.145303  \n",
       "5499507             2   240.000000           44.657412  \n",
       "1674231             1   233.000000           26.262631  \n",
       "573632              1   228.000000           25.808085  \n",
       "19467714            1   224.000000           25.444449  \n",
       "7344834             1   191.000000           22.444449  \n",
       "11158              11   183.454545           98.756616  "
      ]
     },
     "metadata": {},
     "output_type": "display_data"
    }
   ],
   "source": [
    "unique_songs_df.sort_values(by='mean_rating', ascending=False).head(10)"
   ]
  },
  {
   "cell_type": "code",
   "execution_count": null,
   "metadata": {},
   "outputs": [
    {
     "data": {
      "text/html": [
       "<div>\n",
       "<style scoped>\n",
       "    .dataframe tbody tr th:only-of-type {\n",
       "        vertical-align: middle;\n",
       "    }\n",
       "\n",
       "    .dataframe tbody tr th {\n",
       "        vertical-align: top;\n",
       "    }\n",
       "\n",
       "    .dataframe thead th {\n",
       "        text-align: right;\n",
       "    }\n",
       "</style>\n",
       "<table border=\"1\" class=\"dataframe\">\n",
       "  <thead>\n",
       "    <tr style=\"text-align: right;\">\n",
       "      <th></th>\n",
       "      <th>song_idx</th>\n",
       "      <th>song</th>\n",
       "      <th>num_ratings</th>\n",
       "      <th>mean_rating</th>\n",
       "      <th>damped_mean_rating</th>\n",
       "    </tr>\n",
       "  </thead>\n",
       "  <tbody>\n",
       "    <tr>\n",
       "      <th>11158</th>\n",
       "      <td>8198</td>\n",
       "      <td>Words - Jack the Ripper</td>\n",
       "      <td>11</td>\n",
       "      <td>183.454545</td>\n",
       "      <td>98.756616</td>\n",
       "    </tr>\n",
       "    <tr>\n",
       "      <th>6852866</th>\n",
       "      <td>266800</td>\n",
       "      <td>Who Thought The Railroad Wouldn't Last - Jim L...</td>\n",
       "      <td>3</td>\n",
       "      <td>263.666667</td>\n",
       "      <td>65.145303</td>\n",
       "    </tr>\n",
       "    <tr>\n",
       "      <th>66143</th>\n",
       "      <td>31926</td>\n",
       "      <td>My Prayer - Ray_ Goodman &amp; Brown</td>\n",
       "      <td>6</td>\n",
       "      <td>159.333333</td>\n",
       "      <td>63.243059</td>\n",
       "    </tr>\n",
       "    <tr>\n",
       "      <th>11508469</th>\n",
       "      <td>301284</td>\n",
       "      <td>Without Bill the Jedi Changed - Rolfe Kent</td>\n",
       "      <td>2</td>\n",
       "      <td>340.000000</td>\n",
       "      <td>61.324078</td>\n",
       "    </tr>\n",
       "    <tr>\n",
       "      <th>764195</th>\n",
       "      <td>123346</td>\n",
       "      <td>Eyen [Chosen by fans on Warp20.net] - Plaid</td>\n",
       "      <td>8</td>\n",
       "      <td>129.625000</td>\n",
       "      <td>60.716052</td>\n",
       "    </tr>\n",
       "    <tr>\n",
       "      <th>975102</th>\n",
       "      <td>136819</td>\n",
       "      <td>Silhouettes - The Ronettes</td>\n",
       "      <td>27</td>\n",
       "      <td>70.481481</td>\n",
       "      <td>52.942944</td>\n",
       "    </tr>\n",
       "    <tr>\n",
       "      <th>176841</th>\n",
       "      <td>58615</td>\n",
       "      <td>Lied To - Against All Authority</td>\n",
       "      <td>6</td>\n",
       "      <td>131.000000</td>\n",
       "      <td>52.618059</td>\n",
       "    </tr>\n",
       "    <tr>\n",
       "      <th>275429</th>\n",
       "      <td>75384</td>\n",
       "      <td>Looking For - Ann Lee</td>\n",
       "      <td>16</td>\n",
       "      <td>78.375000</td>\n",
       "      <td>50.380344</td>\n",
       "    </tr>\n",
       "    <tr>\n",
       "      <th>218395</th>\n",
       "      <td>66279</td>\n",
       "      <td>Thais II - This Mortal Coil</td>\n",
       "      <td>18</td>\n",
       "      <td>72.277778</td>\n",
       "      <td>48.460319</td>\n",
       "    </tr>\n",
       "    <tr>\n",
       "      <th>2537962</th>\n",
       "      <td>197573</td>\n",
       "      <td>Hurry Xmas - L'Arc~en~Ciel</td>\n",
       "      <td>11</td>\n",
       "      <td>80.363636</td>\n",
       "      <td>44.756616</td>\n",
       "    </tr>\n",
       "  </tbody>\n",
       "</table>\n",
       "</div>"
      ],
      "text/plain": [
       "          song_idx                                               song  \\\n",
       "11158         8198                            Words - Jack the Ripper   \n",
       "6852866     266800  Who Thought The Railroad Wouldn't Last - Jim L...   \n",
       "66143        31926                   My Prayer - Ray_ Goodman & Brown   \n",
       "11508469    301284         Without Bill the Jedi Changed - Rolfe Kent   \n",
       "764195      123346        Eyen [Chosen by fans on Warp20.net] - Plaid   \n",
       "975102      136819                         Silhouettes - The Ronettes   \n",
       "176841       58615                    Lied To - Against All Authority   \n",
       "275429       75384                              Looking For - Ann Lee   \n",
       "218395       66279                        Thais II - This Mortal Coil   \n",
       "2537962     197573                         Hurry Xmas - L'Arc~en~Ciel   \n",
       "\n",
       "          num_ratings  mean_rating  damped_mean_rating  \n",
       "11158              11   183.454545           98.756616  \n",
       "6852866             3   263.666667           65.145303  \n",
       "66143               6   159.333333           63.243059  \n",
       "11508469            2   340.000000           61.324078  \n",
       "764195              8   129.625000           60.716052  \n",
       "975102             27    70.481481           52.942944  \n",
       "176841              6   131.000000           52.618059  \n",
       "275429             16    78.375000           50.380344  \n",
       "218395             18    72.277778           48.460319  \n",
       "2537962            11    80.363636           44.756616  "
      ]
     },
     "metadata": {},
     "output_type": "display_data"
    }
   ],
   "source": [
    "unique_songs_df.sort_values(by='damped_mean_rating', ascending=False).head(10)"
   ]
  },
  {
   "cell_type": "markdown",
   "metadata": {},
   "source": [
    "## Using LLMs to recommend songs"
   ]
  },
  {
   "cell_type": "markdown",
   "metadata": {},
   "source": [
    "## Load the data & data preparation"
   ]
  },
  {
   "cell_type": "code",
   "execution_count": 16,
   "metadata": {},
   "outputs": [],
   "source": [
    "def load_data(triplet_path, unique_tracks_path, genre_path):\n",
    "    logging.info('Loading data...')\n",
    "    triplet_columns = ['user_id', 'song_id', 'play_count']\n",
    "    track_columns = ['track_id', 'song_id', 'artist', 'title']\n",
    "    genre_column_names = ['track_id', 'majority_genre', 'minority_genre']\n",
    "\n",
    "    triplet_df = pl.read_csv(triplet_path, separator='\\t', new_columns=triplet_columns, use_pyarrow=True)\n",
    "    unique_tracks_df = pl.from_pandas(pd.read_csv(unique_tracks_path, names=track_columns, sep=\"<SEP>\", engine='python'))\n",
    "    genre_df = pl.from_pandas(pd.read_csv(genre_path, sep='\\t', comment='#', names=genre_column_names))\n",
    "\n",
    "    logging.info('Data loaded successfully.')\n",
    "    return triplet_df, unique_tracks_df, genre_df.drop(columns=['minority_genre'])"
   ]
  },
  {
   "cell_type": "code",
   "execution_count": 17,
   "metadata": {},
   "outputs": [
    {
     "name": "stderr",
     "output_type": "stream",
     "text": [
      "\u001b[32m2024-05-29 16:34:04,316 - INFO - Loading data...\u001b[0m\n",
      "\u001b[32m2024-05-29 16:34:13,884 - INFO - Data loaded successfully.\u001b[0m\n"
     ]
    }
   ],
   "source": [
    "triplet_df, unique_tracks_df, genre_df = load_data(triplet_path, unique_tracks_path, genre_path)\n",
    "# songs = pd.read_csv(f\"{global_path}/songs.csv\")"
   ]
  },
  {
   "cell_type": "code",
   "execution_count": 18,
   "metadata": {},
   "outputs": [
    {
     "data": {
      "text/html": [
       "<div><style>\n",
       ".dataframe > thead > tr,\n",
       ".dataframe > tbody > tr {\n",
       "  text-align: right;\n",
       "  white-space: pre-wrap;\n",
       "}\n",
       "</style>\n",
       "<small>shape: (48_373_585, 3)</small><table border=\"1\" class=\"dataframe\"><thead><tr><th>user_id</th><th>song_id</th><th>play_count</th></tr><tr><td>str</td><td>str</td><td>i64</td></tr></thead><tbody><tr><td>&quot;b80344d063b5cc…</td><td>&quot;SOAPDEY12A81C2…</td><td>1</td></tr><tr><td>&quot;b80344d063b5cc…</td><td>&quot;SOBBMDR12A8C13…</td><td>2</td></tr><tr><td>&quot;b80344d063b5cc…</td><td>&quot;SOBFNSP12AF72A…</td><td>1</td></tr><tr><td>&quot;b80344d063b5cc…</td><td>&quot;SOBFOVM12A58A7…</td><td>1</td></tr><tr><td>&quot;b80344d063b5cc…</td><td>&quot;SOBNZDC12A6D4F…</td><td>1</td></tr><tr><td>&hellip;</td><td>&hellip;</td><td>&hellip;</td></tr><tr><td>&quot;b7815dbb206eb2…</td><td>&quot;SOUHHHH12AF729…</td><td>2</td></tr><tr><td>&quot;b7815dbb206eb2…</td><td>&quot;SOUJVIT12A8C14…</td><td>1</td></tr><tr><td>&quot;b7815dbb206eb2…</td><td>&quot;SOUSMXX12AB018…</td><td>1</td></tr><tr><td>&quot;b7815dbb206eb2…</td><td>&quot;SOWYSKH12AF72A…</td><td>3</td></tr><tr><td>&quot;b7815dbb206eb2…</td><td>&quot;SOYYFLV12A58A7…</td><td>1</td></tr></tbody></table></div>"
      ],
      "text/plain": [
       "shape: (48_373_585, 3)\n",
       "┌───────────────────────────────────┬────────────────────┬────────────┐\n",
       "│ user_id                           ┆ song_id            ┆ play_count │\n",
       "│ ---                               ┆ ---                ┆ ---        │\n",
       "│ str                               ┆ str                ┆ i64        │\n",
       "╞═══════════════════════════════════╪════════════════════╪════════════╡\n",
       "│ b80344d063b5ccb3212f76538f3d9e43… ┆ SOAPDEY12A81C210A9 ┆ 1          │\n",
       "│ b80344d063b5ccb3212f76538f3d9e43… ┆ SOBBMDR12A8C13253B ┆ 2          │\n",
       "│ b80344d063b5ccb3212f76538f3d9e43… ┆ SOBFNSP12AF72A0E22 ┆ 1          │\n",
       "│ b80344d063b5ccb3212f76538f3d9e43… ┆ SOBFOVM12A58A7D494 ┆ 1          │\n",
       "│ b80344d063b5ccb3212f76538f3d9e43… ┆ SOBNZDC12A6D4FC103 ┆ 1          │\n",
       "│ …                                 ┆ …                  ┆ …          │\n",
       "│ b7815dbb206eb2831ce0fe040d0aa537… ┆ SOUHHHH12AF729E4AF ┆ 2          │\n",
       "│ b7815dbb206eb2831ce0fe040d0aa537… ┆ SOUJVIT12A8C1451C1 ┆ 1          │\n",
       "│ b7815dbb206eb2831ce0fe040d0aa537… ┆ SOUSMXX12AB0185C24 ┆ 1          │\n",
       "│ b7815dbb206eb2831ce0fe040d0aa537… ┆ SOWYSKH12AF72A303A ┆ 3          │\n",
       "│ b7815dbb206eb2831ce0fe040d0aa537… ┆ SOYYFLV12A58A7A88F ┆ 1          │\n",
       "└───────────────────────────────────┴────────────────────┴────────────┘"
      ]
     },
     "execution_count": 18,
     "metadata": {},
     "output_type": "execute_result"
    }
   ],
   "source": [
    "triplet_df"
   ]
  },
  {
   "cell_type": "code",
   "execution_count": 19,
   "metadata": {},
   "outputs": [
    {
     "data": {
      "text/html": [
       "<div><style>\n",
       ".dataframe > thead > tr,\n",
       ".dataframe > tbody > tr {\n",
       "  text-align: right;\n",
       "  white-space: pre-wrap;\n",
       "}\n",
       "</style>\n",
       "<small>shape: (384_546, 2)</small><table border=\"1\" class=\"dataframe\"><thead><tr><th>song_id</th><th>play_count</th></tr><tr><td>str</td><td>i64</td></tr></thead><tbody><tr><td>&quot;SOCIOHC12A8C13…</td><td>3</td></tr><tr><td>&quot;SOPWNOZ12AB018…</td><td>292</td></tr><tr><td>&quot;SOKGCNP12A8151…</td><td>259</td></tr><tr><td>&quot;SOMKOJV12A6310…</td><td>533</td></tr><tr><td>&quot;SODDNJZ12A6701…</td><td>6</td></tr><tr><td>&hellip;</td><td>&hellip;</td></tr><tr><td>&quot;SOHEIRO12A58A7…</td><td>100</td></tr><tr><td>&quot;SORBPPK12AC468…</td><td>5</td></tr><tr><td>&quot;SOUMMRN12AB018…</td><td>254</td></tr><tr><td>&quot;SOUATQL12AB018…</td><td>7</td></tr><tr><td>&quot;SOLBZKP12A8C13…</td><td>19</td></tr></tbody></table></div>"
      ],
      "text/plain": [
       "shape: (384_546, 2)\n",
       "┌────────────────────┬────────────┐\n",
       "│ song_id            ┆ play_count │\n",
       "│ ---                ┆ ---        │\n",
       "│ str                ┆ i64        │\n",
       "╞════════════════════╪════════════╡\n",
       "│ SOCIOHC12A8C13CA22 ┆ 3          │\n",
       "│ SOPWNOZ12AB0189618 ┆ 292        │\n",
       "│ SOKGCNP12A8151CEAC ┆ 259        │\n",
       "│ SOMKOJV12A6310EF57 ┆ 533        │\n",
       "│ SODDNJZ12A6701FBCC ┆ 6          │\n",
       "│ …                  ┆ …          │\n",
       "│ SOHEIRO12A58A7B288 ┆ 100        │\n",
       "│ SORBPPK12AC468DCC2 ┆ 5          │\n",
       "│ SOUMMRN12AB01817B1 ┆ 254        │\n",
       "│ SOUATQL12AB018921E ┆ 7          │\n",
       "│ SOLBZKP12A8C133412 ┆ 19         │\n",
       "└────────────────────┴────────────┘"
      ]
     },
     "execution_count": 19,
     "metadata": {},
     "output_type": "execute_result"
    }
   ],
   "source": [
    "song_play_counts = triplet_df.group_by('song_id').agg(pl.sum('play_count').alias('play_count'))\n",
    "song_play_counts"
   ]
  },
  {
   "cell_type": "code",
   "execution_count": 20,
   "metadata": {},
   "outputs": [
    {
     "data": {
      "text/html": [
       "<div><style>\n",
       ".dataframe > thead > tr,\n",
       ".dataframe > tbody > tr {\n",
       "  text-align: right;\n",
       "  white-space: pre-wrap;\n",
       "}\n",
       "</style>\n",
       "<small>shape: (1_000_000, 4)</small><table border=\"1\" class=\"dataframe\"><thead><tr><th>track_id</th><th>song_id</th><th>artist</th><th>title</th></tr><tr><td>str</td><td>str</td><td>str</td><td>str</td></tr></thead><tbody><tr><td>&quot;TRMMMYQ128F932…</td><td>&quot;SOQMMHC12AB018…</td><td>&quot;Faster Pussy c…</td><td>&quot;Silent Night&quot;</td></tr><tr><td>&quot;TRMMMKD128F425…</td><td>&quot;SOVFVAK12A8C13…</td><td>&quot;Karkkiautomaat…</td><td>&quot;Tanssi vaan&quot;</td></tr><tr><td>&quot;TRMMMRX128F931…</td><td>&quot;SOGTUKN12AB017…</td><td>&quot;Hudson Mohawke…</td><td>&quot;No One Could E…</td></tr><tr><td>&quot;TRMMMCH128F425…</td><td>&quot;SOBNYVR12A8C13…</td><td>&quot;Yerba Brava&quot;</td><td>&quot;Si Vos Querés&quot;</td></tr><tr><td>&quot;TRMMMWA128F426…</td><td>&quot;SOHSBXH12A8C13…</td><td>&quot;Der Mystic&quot;</td><td>&quot;Tangle Of Aspe…</td></tr><tr><td>&hellip;</td><td>&hellip;</td><td>&hellip;</td><td>&hellip;</td></tr><tr><td>&quot;TRYYYUS12903CD…</td><td>&quot;SOTXAME12AB018…</td><td>&quot;Kiko Navarro&quot;</td><td>&quot;O Samba Da Vid…</td></tr><tr><td>&quot;TRYYYJO128F426…</td><td>&quot;SOXQYIQ12A8C13…</td><td>&quot;Kuldeep Manak&quot;</td><td>&quot;Jago Chhadeo&quot;</td></tr><tr><td>&quot;TRYYYMG128F426…</td><td>&quot;SOHODZI12A8C13…</td><td>&quot;Gabriel Le Mar…</td><td>&quot;Novemba&quot;</td></tr><tr><td>&quot;TRYYYDJ128F931…</td><td>&quot;SOLXGOR12A81C2…</td><td>&quot;Elude&quot;</td><td>&quot;Faraday&quot;</td></tr><tr><td>&quot;TRYYYVU12903CD…</td><td>&quot;SOWXJXQ12AB018…</td><td>&quot;Texta&quot;</td><td>&quot;Fernweh feat. …</td></tr></tbody></table></div>"
      ],
      "text/plain": [
       "shape: (1_000_000, 4)\n",
       "┌────────────────────┬────────────────────┬──────────────────┬───────────────────────────────────┐\n",
       "│ track_id           ┆ song_id            ┆ artist           ┆ title                             │\n",
       "│ ---                ┆ ---                ┆ ---              ┆ ---                               │\n",
       "│ str                ┆ str                ┆ str              ┆ str                               │\n",
       "╞════════════════════╪════════════════════╪══════════════════╪═══════════════════════════════════╡\n",
       "│ TRMMMYQ128F932D901 ┆ SOQMMHC12AB0180CB8 ┆ Faster Pussy cat ┆ Silent Night                      │\n",
       "│ TRMMMKD128F425225D ┆ SOVFVAK12A8C1350D9 ┆ Karkkiautomaatti ┆ Tanssi vaan                       │\n",
       "│ TRMMMRX128F93187D9 ┆ SOGTUKN12AB017F4F1 ┆ Hudson Mohawke   ┆ No One Could Ever                 │\n",
       "│ TRMMMCH128F425532C ┆ SOBNYVR12A8C13558C ┆ Yerba Brava      ┆ Si Vos Querés                     │\n",
       "│ TRMMMWA128F426B589 ┆ SOHSBXH12A8C13B0DF ┆ Der Mystic       ┆ Tangle Of Aspens                  │\n",
       "│ …                  ┆ …                  ┆ …                ┆ …                                 │\n",
       "│ TRYYYUS12903CD2DF0 ┆ SOTXAME12AB018F136 ┆ Kiko Navarro     ┆ O Samba Da Vida                   │\n",
       "│ TRYYYJO128F426DA37 ┆ SOXQYIQ12A8C137FBB ┆ Kuldeep Manak    ┆ Jago Chhadeo                      │\n",
       "│ TRYYYMG128F4260ECA ┆ SOHODZI12A8C137BB3 ┆ Gabriel Le Mar   ┆ Novemba                           │\n",
       "│ TRYYYDJ128F9310A21 ┆ SOLXGOR12A81C21EB7 ┆ Elude            ┆ Faraday                           │\n",
       "│ TRYYYVU12903CD01E3 ┆ SOWXJXQ12AB0189F43 ┆ Texta            ┆ Fernweh feat. Sektion Kuchikäsch… │\n",
       "└────────────────────┴────────────────────┴──────────────────┴───────────────────────────────────┘"
      ]
     },
     "execution_count": 20,
     "metadata": {},
     "output_type": "execute_result"
    }
   ],
   "source": [
    "unique_tracks_df"
   ]
  },
  {
   "cell_type": "code",
   "execution_count": 21,
   "metadata": {},
   "outputs": [
    {
     "data": {
      "text/html": [
       "<div><style>\n",
       ".dataframe > thead > tr,\n",
       ".dataframe > tbody > tr {\n",
       "  text-align: right;\n",
       "  white-space: pre-wrap;\n",
       "}\n",
       "</style>\n",
       "<small>shape: (280_831, 2)</small><table border=\"1\" class=\"dataframe\"><thead><tr><th>track_id</th><th>majority_genre</th></tr><tr><td>str</td><td>str</td></tr></thead><tbody><tr><td>&quot;TRAAAAK128F931…</td><td>&quot;Rock&quot;</td></tr><tr><td>&quot;TRAAAAW128F429…</td><td>&quot;Rap&quot;</td></tr><tr><td>&quot;TRAAABD128F429…</td><td>&quot;Rock&quot;</td></tr><tr><td>&quot;TRAAADJ128F428…</td><td>&quot;Rock&quot;</td></tr><tr><td>&quot;TRAAADZ128F934…</td><td>&quot;Latin&quot;</td></tr><tr><td>&hellip;</td><td>&hellip;</td></tr><tr><td>&quot;TRZZZRJ128F428…</td><td>&quot;Rock&quot;</td></tr><tr><td>&quot;TRZZZUK128F92E…</td><td>&quot;Folk&quot;</td></tr><tr><td>&quot;TRZZZYV128F92E…</td><td>&quot;New Age&quot;</td></tr><tr><td>&quot;TRZZZZD128F423…</td><td>&quot;Rock&quot;</td></tr><tr><td>&quot;TRZZZZZ12903D0…</td><td>&quot;Electronic&quot;</td></tr></tbody></table></div>"
      ],
      "text/plain": [
       "shape: (280_831, 2)\n",
       "┌────────────────────┬────────────────┐\n",
       "│ track_id           ┆ majority_genre │\n",
       "│ ---                ┆ ---            │\n",
       "│ str                ┆ str            │\n",
       "╞════════════════════╪════════════════╡\n",
       "│ TRAAAAK128F9318786 ┆ Rock           │\n",
       "│ TRAAAAW128F429D538 ┆ Rap            │\n",
       "│ TRAAABD128F429CF47 ┆ Rock           │\n",
       "│ TRAAADJ128F4287B47 ┆ Rock           │\n",
       "│ TRAAADZ128F9348C2E ┆ Latin          │\n",
       "│ …                  ┆ …              │\n",
       "│ TRZZZRJ128F42819AF ┆ Rock           │\n",
       "│ TRZZZUK128F92E3C60 ┆ Folk           │\n",
       "│ TRZZZYV128F92E996D ┆ New Age        │\n",
       "│ TRZZZZD128F4236844 ┆ Rock           │\n",
       "│ TRZZZZZ12903D05E3A ┆ Electronic     │\n",
       "└────────────────────┴────────────────┘"
      ]
     },
     "execution_count": 21,
     "metadata": {},
     "output_type": "execute_result"
    }
   ],
   "source": [
    "genre_df"
   ]
  },
  {
   "cell_type": "code",
   "execution_count": 22,
   "metadata": {},
   "outputs": [
    {
     "data": {
      "text/html": [
       "<div><style>\n",
       ".dataframe > thead > tr,\n",
       ".dataframe > tbody > tr {\n",
       "  text-align: right;\n",
       "  white-space: pre-wrap;\n",
       "}\n",
       "</style>\n",
       "<small>shape: (385_256, 5)</small><table border=\"1\" class=\"dataframe\"><thead><tr><th>song_id</th><th>play_count</th><th>track_id</th><th>artist</th><th>title</th></tr><tr><td>str</td><td>i64</td><td>str</td><td>str</td><td>str</td></tr></thead><tbody><tr><td>&quot;SOQMMHC12AB018…</td><td>8</td><td>&quot;TRMMMYQ128F932…</td><td>&quot;Faster Pussy c…</td><td>&quot;Silent Night&quot;</td></tr><tr><td>&quot;SOBNYVR12A8C13…</td><td>3</td><td>&quot;TRMMMCH128F425…</td><td>&quot;Yerba Brava&quot;</td><td>&quot;Si Vos Querés&quot;</td></tr><tr><td>&quot;SOYGNWH12AB018…</td><td>15</td><td>&quot;TRMMMNS128F935…</td><td>&quot;3 Gars Su&#x27;l So…</td><td>&quot;L&#x27;antarctique&quot;</td></tr><tr><td>&quot;SOGPCJI12A8C13…</td><td>12</td><td>&quot;TRMMMXI128F428…</td><td>&quot;Waldemar Basto…</td><td>&quot;N Gana&quot;</td></tr><tr><td>&quot;SOSDCFG12AB018…</td><td>2</td><td>&quot;TRMMMKI128F931…</td><td>&quot;Lena Philipsso…</td><td>&quot;006&quot;</td></tr><tr><td>&hellip;</td><td>&hellip;</td><td>&hellip;</td><td>&hellip;</td><td>&hellip;</td></tr><tr><td>&quot;SOIDAMG12AB018…</td><td>28</td><td>&quot;TRYYYHG128F934…</td><td>&quot;Jazz Addixx&quot;</td><td>&quot;Chill&quot;</td></tr><tr><td>&quot;SOFAXZU12AB018…</td><td>45</td><td>&quot;TRYYYYS12903D0…</td><td>&quot;Taylor Hawkins…</td><td>&quot;Way Down&quot;</td></tr><tr><td>&quot;SOBODSE12A8C13…</td><td>67</td><td>&quot;TRYYYZM128F428…</td><td>&quot;SKYCLAD&quot;</td><td>&quot;Inequality Str…</td></tr><tr><td>&quot;SOWCNSN12AB018…</td><td>3</td><td>&quot;TRYYYON128F932…</td><td>&quot;Loose Shus&quot;</td><td>&quot;Taurus (Keenho…</td></tr><tr><td>&quot;SOWXJXQ12AB018…</td><td>1</td><td>&quot;TRYYYVU12903CD…</td><td>&quot;Texta&quot;</td><td>&quot;Fernweh feat. …</td></tr></tbody></table></div>"
      ],
      "text/plain": [
       "shape: (385_256, 5)\n",
       "┌────────────────────┬────────────┬────────────────────┬──────────────────┬────────────────────────┐\n",
       "│ song_id            ┆ play_count ┆ track_id           ┆ artist           ┆ title                  │\n",
       "│ ---                ┆ ---        ┆ ---                ┆ ---              ┆ ---                    │\n",
       "│ str                ┆ i64        ┆ str                ┆ str              ┆ str                    │\n",
       "╞════════════════════╪════════════╪════════════════════╪══════════════════╪════════════════════════╡\n",
       "│ SOQMMHC12AB0180CB8 ┆ 8          ┆ TRMMMYQ128F932D901 ┆ Faster Pussy cat ┆ Silent Night           │\n",
       "│ SOBNYVR12A8C13558C ┆ 3          ┆ TRMMMCH128F425532C ┆ Yerba Brava      ┆ Si Vos Querés          │\n",
       "│ SOYGNWH12AB018191E ┆ 15         ┆ TRMMMNS128F93548E1 ┆ 3 Gars Su'l Sofa ┆ L'antarctique          │\n",
       "│ SOGPCJI12A8C13CCA0 ┆ 12         ┆ TRMMMXI128F4285A3F ┆ Waldemar Bastos  ┆ N Gana                 │\n",
       "│ SOSDCFG12AB0184647 ┆ 2          ┆ TRMMMKI128F931D80D ┆ Lena Philipsson  ┆ 006                    │\n",
       "│ …                  ┆ …          ┆ …                  ┆ …                ┆ …                      │\n",
       "│ SOIDAMG12AB0182B3A ┆ 28         ┆ TRYYYHG128F9343EFB ┆ Jazz Addixx      ┆ Chill                  │\n",
       "│ SOFAXZU12AB01881C4 ┆ 45         ┆ TRYYYYS12903D0605A ┆ Taylor Hawkins & ┆ Way Down               │\n",
       "│                    ┆            ┆                    ┆ The Coattail Ri… ┆                        │\n",
       "│ SOBODSE12A8C13EBD6 ┆ 67         ┆ TRYYYZM128F428E804 ┆ SKYCLAD          ┆ Inequality Street      │\n",
       "│ SOWCNSN12AB018070F ┆ 3          ┆ TRYYYON128F932585A ┆ Loose Shus       ┆ Taurus (Keenhouse      │\n",
       "│                    ┆            ┆                    ┆                  ┆ Remix)                 │\n",
       "│ SOWXJXQ12AB0189F43 ┆ 1          ┆ TRYYYVU12903CD01E3 ┆ Texta            ┆ Fernweh feat. Sektion  │\n",
       "│                    ┆            ┆                    ┆                  ┆ Kuchikäsch…            │\n",
       "└────────────────────┴────────────┴────────────────────┴──────────────────┴────────────────────────┘"
      ]
     },
     "execution_count": 22,
     "metadata": {},
     "output_type": "execute_result"
    }
   ],
   "source": [
    "o = song_play_counts.join(unique_tracks_df, on='song_id')\n",
    "o"
   ]
  },
  {
   "cell_type": "code",
   "execution_count": 23,
   "metadata": {},
   "outputs": [
    {
     "data": {
      "text/html": [
       "<div><style>\n",
       ".dataframe > thead > tr,\n",
       ".dataframe > tbody > tr {\n",
       "  text-align: right;\n",
       "  white-space: pre-wrap;\n",
       "}\n",
       "</style>\n",
       "<small>shape: (173_301, 6)</small><table border=\"1\" class=\"dataframe\"><thead><tr><th>song_id</th><th>play_count</th><th>track_id</th><th>artist</th><th>title</th><th>majority_genre</th></tr><tr><td>str</td><td>i64</td><td>str</td><td>str</td><td>str</td><td>str</td></tr></thead><tbody><tr><td>&quot;SOGPCJI12A8C13…</td><td>12</td><td>&quot;TRMMMXI128F428…</td><td>&quot;Waldemar Basto…</td><td>&quot;N Gana&quot;</td><td>&quot;World&quot;</td></tr><tr><td>&quot;SOSDCFG12AB018…</td><td>2</td><td>&quot;TRMMMKI128F931…</td><td>&quot;Lena Philipsso…</td><td>&quot;006&quot;</td><td>&quot;Pop&quot;</td></tr><tr><td>&quot;SOKOVRQ12A8C14…</td><td>86</td><td>&quot;TRMMMQY128F92F…</td><td>&quot;Dying Fetus&quot;</td><td>&quot;Ethos of Coerc…</td><td>&quot;Rock&quot;</td></tr><tr><td>&quot;SOIMMJJ12AF72A…</td><td>332</td><td>&quot;TRMMMTK128F424…</td><td>&quot;Emery&quot;</td><td>&quot;Rock-N-Rule&quot;</td><td>&quot;Rock&quot;</td></tr><tr><td>&quot;SOGNNYL12A6D4F…</td><td>269</td><td>&quot;TRMMMQN128F423…</td><td>&quot;Prince &amp; The R…</td><td>&quot;Raspberry Bere…</td><td>&quot;RnB&quot;</td></tr><tr><td>&hellip;</td><td>&hellip;</td><td>&hellip;</td><td>&hellip;</td><td>&hellip;</td><td>&hellip;</td></tr><tr><td>&quot;SOYKHSL12AF72A…</td><td>1657</td><td>&quot;TRYYYWX128F92E…</td><td>&quot;The Game&quot;</td><td>&quot;Wouldn&#x27;t Get F…</td><td>&quot;Rap&quot;</td></tr><tr><td>&quot;SOIDAMG12AB018…</td><td>28</td><td>&quot;TRYYYHG128F934…</td><td>&quot;Jazz Addixx&quot;</td><td>&quot;Chill&quot;</td><td>&quot;Rap&quot;</td></tr><tr><td>&quot;SOFAXZU12AB018…</td><td>45</td><td>&quot;TRYYYYS12903D0…</td><td>&quot;Taylor Hawkins…</td><td>&quot;Way Down&quot;</td><td>&quot;Rock&quot;</td></tr><tr><td>&quot;SOBODSE12A8C13…</td><td>67</td><td>&quot;TRYYYZM128F428…</td><td>&quot;SKYCLAD&quot;</td><td>&quot;Inequality Str…</td><td>&quot;Rock&quot;</td></tr><tr><td>&quot;SOWCNSN12AB018…</td><td>3</td><td>&quot;TRYYYON128F932…</td><td>&quot;Loose Shus&quot;</td><td>&quot;Taurus (Keenho…</td><td>&quot;Electronic&quot;</td></tr></tbody></table></div>"
      ],
      "text/plain": [
       "shape: (173_301, 6)\n",
       "┌─────────────────┬────────────┬────────────────┬────────────────┬────────────────┬────────────────┐\n",
       "│ song_id         ┆ play_count ┆ track_id       ┆ artist         ┆ title          ┆ majority_genre │\n",
       "│ ---             ┆ ---        ┆ ---            ┆ ---            ┆ ---            ┆ ---            │\n",
       "│ str             ┆ i64        ┆ str            ┆ str            ┆ str            ┆ str            │\n",
       "╞═════════════════╪════════════╪════════════════╪════════════════╪════════════════╪════════════════╡\n",
       "│ SOGPCJI12A8C13C ┆ 12         ┆ TRMMMXI128F428 ┆ Waldemar       ┆ N Gana         ┆ World          │\n",
       "│ CA0             ┆            ┆ 5A3F           ┆ Bastos         ┆                ┆                │\n",
       "│ SOSDCFG12AB0184 ┆ 2          ┆ TRMMMKI128F931 ┆ Lena           ┆ 006            ┆ Pop            │\n",
       "│ 647             ┆            ┆ D80D           ┆ Philipsson     ┆                ┆                │\n",
       "│ SOKOVRQ12A8C142 ┆ 86         ┆ TRMMMQY128F92F ┆ Dying Fetus    ┆ Ethos of       ┆ Rock           │\n",
       "│ 811             ┆            ┆ 0EA3           ┆                ┆ Coercion       ┆                │\n",
       "│ SOIMMJJ12AF72AD ┆ 332        ┆ TRMMMTK128F424 ┆ Emery          ┆ Rock-N-Rule    ┆ Rock           │\n",
       "│ 643             ┆            ┆ EF7C           ┆                ┆                ┆                │\n",
       "│ SOGNNYL12A6D4F9 ┆ 269        ┆ TRMMMQN128F423 ┆ Prince & The   ┆ Raspberry      ┆ RnB            │\n",
       "│ 10B             ┆            ┆ 8509           ┆ Revolution     ┆ Beret (LP      ┆                │\n",
       "│                 ┆            ┆                ┆                ┆ Version)       ┆                │\n",
       "│ …               ┆ …          ┆ …              ┆ …              ┆ …              ┆ …              │\n",
       "│ SOYKHSL12AF72A3 ┆ 1657       ┆ TRYYYWX128F92E ┆ The Game       ┆ Wouldn't Get   ┆ Rap            │\n",
       "│ 5AC             ┆            ┆ 11D1           ┆                ┆ Far            ┆                │\n",
       "│ SOIDAMG12AB0182 ┆ 28         ┆ TRYYYHG128F934 ┆ Jazz Addixx    ┆ Chill          ┆ Rap            │\n",
       "│ B3A             ┆            ┆ 3EFB           ┆                ┆                ┆                │\n",
       "│ SOFAXZU12AB0188 ┆ 45         ┆ TRYYYYS12903D0 ┆ Taylor Hawkins ┆ Way Down       ┆ Rock           │\n",
       "│ 1C4             ┆            ┆ 605A           ┆ & The Coattail ┆                ┆                │\n",
       "│                 ┆            ┆                ┆ Ri…            ┆                ┆                │\n",
       "│ SOBODSE12A8C13E ┆ 67         ┆ TRYYYZM128F428 ┆ SKYCLAD        ┆ Inequality     ┆ Rock           │\n",
       "│ BD6             ┆            ┆ E804           ┆                ┆ Street         ┆                │\n",
       "│ SOWCNSN12AB0180 ┆ 3          ┆ TRYYYON128F932 ┆ Loose Shus     ┆ Taurus         ┆ Electronic     │\n",
       "│ 70F             ┆            ┆ 585A           ┆                ┆ (Keenhouse     ┆                │\n",
       "│                 ┆            ┆                ┆                ┆ Remix)         ┆                │\n",
       "└─────────────────┴────────────┴────────────────┴────────────────┴────────────────┴────────────────┘"
      ]
     },
     "execution_count": 23,
     "metadata": {},
     "output_type": "execute_result"
    }
   ],
   "source": [
    "o = o.join(genre_df, on='track_id')\n",
    "o"
   ]
  },
  {
   "cell_type": "code",
   "execution_count": 24,
   "metadata": {},
   "outputs": [
    {
     "data": {
      "text/html": [
       "<div><style>\n",
       ".dataframe > thead > tr,\n",
       ".dataframe > tbody > tr {\n",
       "  text-align: right;\n",
       "  white-space: pre-wrap;\n",
       "}\n",
       "</style>\n",
       "<small>shape: (49_664_527, 6)</small><table border=\"1\" class=\"dataframe\"><thead><tr><th>user_id</th><th>song_id</th><th>play_count</th><th>track_id</th><th>artist</th><th>title</th></tr><tr><td>str</td><td>str</td><td>i64</td><td>str</td><td>str</td><td>str</td></tr></thead><tbody><tr><td>&quot;b80344d063b5cc…</td><td>&quot;SOAPDEY12A81C2…</td><td>1</td><td>&quot;TRIRLYL128F425…</td><td>&quot;Billy Preston&quot;</td><td>&quot;Nothing from N…</td></tr><tr><td>&quot;b80344d063b5cc…</td><td>&quot;SOBBMDR12A8C13…</td><td>2</td><td>&quot;TRMHBXZ128F423…</td><td>&quot;Paco De Lucia&quot;</td><td>&quot;Entre Dos Agua…</td></tr><tr><td>&quot;b80344d063b5cc…</td><td>&quot;SOBFNSP12AF72A…</td><td>1</td><td>&quot;TRYQMNI128F147…</td><td>&quot;Josh Rouse&quot;</td><td>&quot;Under Cold Blu…</td></tr><tr><td>&quot;b80344d063b5cc…</td><td>&quot;SOBFOVM12A58A7…</td><td>1</td><td>&quot;TRAHZNE128F934…</td><td>&quot;The Dead 60s&quot;</td><td>&quot;Riot Radio (So…</td></tr><tr><td>&quot;b80344d063b5cc…</td><td>&quot;SOBNZDC12A6D4F…</td><td>1</td><td>&quot;TRJPXGD128F92F…</td><td>&quot;Amset&quot;</td><td>&quot;Sin límites (I…</td></tr><tr><td>&hellip;</td><td>&hellip;</td><td>&hellip;</td><td>&hellip;</td><td>&hellip;</td><td>&hellip;</td></tr><tr><td>&quot;b7815dbb206eb2…</td><td>&quot;SOUHHHH12AF729…</td><td>2</td><td>&quot;TRKUAEO128F933…</td><td>&quot;Eminem / Obie …</td><td>&quot;We&#x27;re Back&quot;</td></tr><tr><td>&quot;b7815dbb206eb2…</td><td>&quot;SOUJVIT12A8C14…</td><td>1</td><td>&quot;TRRNFHH128F92D…</td><td>&quot;Rise Against&quot;</td><td>&quot;Savior&quot;</td></tr><tr><td>&quot;b7815dbb206eb2…</td><td>&quot;SOUSMXX12AB018…</td><td>1</td><td>&quot;TRSLDDC12903CC…</td><td>&quot;Usher featurin…</td><td>&quot;OMG&quot;</td></tr><tr><td>&quot;b7815dbb206eb2…</td><td>&quot;SOWYSKH12AF72A…</td><td>3</td><td>&quot;TRNJQAM128F145…</td><td>&quot;matchbox twent…</td><td>&quot;Downfall (Albu…</td></tr><tr><td>&quot;b7815dbb206eb2…</td><td>&quot;SOYYFLV12A58A7…</td><td>1</td><td>&quot;TRKSGQU128F148…</td><td>&quot;Linkin Park&quot;</td><td>&quot;Lying From You…</td></tr></tbody></table></div>"
      ],
      "text/plain": [
       "shape: (49_664_527, 6)\n",
       "┌─────────────────┬────────────────┬────────────┬────────────────┬────────────────┬────────────────┐\n",
       "│ user_id         ┆ song_id        ┆ play_count ┆ track_id       ┆ artist         ┆ title          │\n",
       "│ ---             ┆ ---            ┆ ---        ┆ ---            ┆ ---            ┆ ---            │\n",
       "│ str             ┆ str            ┆ i64        ┆ str            ┆ str            ┆ str            │\n",
       "╞═════════════════╪════════════════╪════════════╪════════════════╪════════════════╪════════════════╡\n",
       "│ b80344d063b5ccb ┆ SOAPDEY12A81C2 ┆ 1          ┆ TRIRLYL128F425 ┆ Billy Preston  ┆ Nothing from   │\n",
       "│ 3212f76538f3d9e ┆ 10A9           ┆            ┆ 39D1           ┆                ┆ Nothing        │\n",
       "│ 43…             ┆                ┆            ┆                ┆                ┆                │\n",
       "│ b80344d063b5ccb ┆ SOBBMDR12A8C13 ┆ 2          ┆ TRMHBXZ128F423 ┆ Paco De Lucia  ┆ Entre Dos      │\n",
       "│ 3212f76538f3d9e ┆ 253B           ┆            ┆ 8406           ┆                ┆ Aguas          │\n",
       "│ 43…             ┆                ┆            ┆                ┆                ┆                │\n",
       "│ b80344d063b5ccb ┆ SOBFNSP12AF72A ┆ 1          ┆ TRYQMNI128F147 ┆ Josh Rouse     ┆ Under Cold     │\n",
       "│ 3212f76538f3d9e ┆ 0E22           ┆            ┆ C1C7           ┆                ┆ Blue Stars     │\n",
       "│ 43…             ┆                ┆            ┆                ┆                ┆                │\n",
       "│ b80344d063b5ccb ┆ SOBFOVM12A58A7 ┆ 1          ┆ TRAHZNE128F934 ┆ The Dead 60s   ┆ Riot Radio     │\n",
       "│ 3212f76538f3d9e ┆ D494           ┆            ┆ 1B86           ┆                ┆ (Soundtrack    │\n",
       "│ 43…             ┆                ┆            ┆                ┆                ┆ Version)       │\n",
       "│ b80344d063b5ccb ┆ SOBNZDC12A6D4F ┆ 1          ┆ TRJPXGD128F92F ┆ Amset          ┆ Sin límites    │\n",
       "│ 3212f76538f3d9e ┆ C103           ┆            ┆ 17D7           ┆                ┆ (I)            │\n",
       "│ 43…             ┆                ┆            ┆                ┆                ┆                │\n",
       "│ …               ┆ …              ┆ …          ┆ …              ┆ …              ┆ …              │\n",
       "│ b7815dbb206eb28 ┆ SOUHHHH12AF729 ┆ 2          ┆ TRKUAEO128F933 ┆ Eminem / Obie  ┆ We're Back     │\n",
       "│ 31ce0fe040d0aa5 ┆ E4AF           ┆            ┆ ABFC           ┆ Trice / Stat   ┆                │\n",
       "│ 37…             ┆                ┆            ┆                ┆ Quo /…         ┆                │\n",
       "│ b7815dbb206eb28 ┆ SOUJVIT12A8C14 ┆ 1          ┆ TRRNFHH128F92D ┆ Rise Against   ┆ Savior         │\n",
       "│ 31ce0fe040d0aa5 ┆ 51C1           ┆            ┆ 262D           ┆                ┆                │\n",
       "│ 37…             ┆                ┆            ┆                ┆                ┆                │\n",
       "│ b7815dbb206eb28 ┆ SOUSMXX12AB018 ┆ 1          ┆ TRSLDDC12903CC ┆ Usher          ┆ OMG            │\n",
       "│ 31ce0fe040d0aa5 ┆ 5C24           ┆            ┆ 36E7           ┆ featuring      ┆                │\n",
       "│ 37…             ┆                ┆            ┆                ┆ will.i.am      ┆                │\n",
       "│ b7815dbb206eb28 ┆ SOWYSKH12AF72A ┆ 3          ┆ TRNJQAM128F145 ┆ matchbox       ┆ Downfall       │\n",
       "│ 31ce0fe040d0aa5 ┆ 303A           ┆            ┆ 57AF           ┆ twenty         ┆ (Album         │\n",
       "│ 37…             ┆                ┆            ┆                ┆                ┆ Version)       │\n",
       "│ b7815dbb206eb28 ┆ SOYYFLV12A58A7 ┆ 1          ┆ TRKSGQU128F148 ┆ Linkin Park    ┆ Lying From You │\n",
       "│ 31ce0fe040d0aa5 ┆ A88F           ┆            ┆ 24E9           ┆                ┆ (Album         │\n",
       "│ 37…             ┆                ┆            ┆                ┆                ┆ Version)       │\n",
       "└─────────────────┴────────────────┴────────────┴────────────────┴────────────────┴────────────────┘"
      ]
     },
     "execution_count": 24,
     "metadata": {},
     "output_type": "execute_result"
    }
   ],
   "source": [
    "\n",
    "# Assuming triplet_df, unique_tracks_df, and genre_df are already defined Polars DataFrames\n",
    "# Merge triplet_df with unique_tracks_df\n",
    "songs_df = triplet_df.join(\n",
    "    unique_tracks_df,\n",
    "    on=\"song_id\",\n",
    "    how=\"left\"\n",
    ")\n",
    "songs_df"
   ]
  },
  {
   "cell_type": "code",
   "execution_count": 25,
   "metadata": {},
   "outputs": [
    {
     "data": {
      "text/html": [
       "<div><style>\n",
       ".dataframe > thead > tr,\n",
       ".dataframe > tbody > tr {\n",
       "  text-align: right;\n",
       "  white-space: pre-wrap;\n",
       "}\n",
       "</style>\n",
       "<small>shape: (49_664_527, 7)</small><table border=\"1\" class=\"dataframe\"><thead><tr><th>user_id</th><th>song_id</th><th>play_count</th><th>track_id</th><th>artist</th><th>title</th><th>majority_genre</th></tr><tr><td>str</td><td>str</td><td>i64</td><td>str</td><td>str</td><td>str</td><td>str</td></tr></thead><tbody><tr><td>&quot;b80344d063b5cc…</td><td>&quot;SOAPDEY12A81C2…</td><td>1</td><td>&quot;TRIRLYL128F425…</td><td>&quot;Billy Preston&quot;</td><td>&quot;Nothing from N…</td><td>&quot;RnB&quot;</td></tr><tr><td>&quot;b80344d063b5cc…</td><td>&quot;SOBBMDR12A8C13…</td><td>2</td><td>&quot;TRMHBXZ128F423…</td><td>&quot;Paco De Lucia&quot;</td><td>&quot;Entre Dos Agua…</td><td>&quot;Electronic&quot;</td></tr><tr><td>&quot;b80344d063b5cc…</td><td>&quot;SOBFNSP12AF72A…</td><td>1</td><td>&quot;TRYQMNI128F147…</td><td>&quot;Josh Rouse&quot;</td><td>&quot;Under Cold Blu…</td><td>&quot;Rock&quot;</td></tr><tr><td>&quot;b80344d063b5cc…</td><td>&quot;SOBFOVM12A58A7…</td><td>1</td><td>&quot;TRAHZNE128F934…</td><td>&quot;The Dead 60s&quot;</td><td>&quot;Riot Radio (So…</td><td>null</td></tr><tr><td>&quot;b80344d063b5cc…</td><td>&quot;SOBNZDC12A6D4F…</td><td>1</td><td>&quot;TRJPXGD128F92F…</td><td>&quot;Amset&quot;</td><td>&quot;Sin límites (I…</td><td>null</td></tr><tr><td>&hellip;</td><td>&hellip;</td><td>&hellip;</td><td>&hellip;</td><td>&hellip;</td><td>&hellip;</td><td>&hellip;</td></tr><tr><td>&quot;b7815dbb206eb2…</td><td>&quot;SOUHHHH12AF729…</td><td>2</td><td>&quot;TRKUAEO128F933…</td><td>&quot;Eminem / Obie …</td><td>&quot;We&#x27;re Back&quot;</td><td>null</td></tr><tr><td>&quot;b7815dbb206eb2…</td><td>&quot;SOUJVIT12A8C14…</td><td>1</td><td>&quot;TRRNFHH128F92D…</td><td>&quot;Rise Against&quot;</td><td>&quot;Savior&quot;</td><td>&quot;Rock&quot;</td></tr><tr><td>&quot;b7815dbb206eb2…</td><td>&quot;SOUSMXX12AB018…</td><td>1</td><td>&quot;TRSLDDC12903CC…</td><td>&quot;Usher featurin…</td><td>&quot;OMG&quot;</td><td>null</td></tr><tr><td>&quot;b7815dbb206eb2…</td><td>&quot;SOWYSKH12AF72A…</td><td>3</td><td>&quot;TRNJQAM128F145…</td><td>&quot;matchbox twent…</td><td>&quot;Downfall (Albu…</td><td>&quot;Rock&quot;</td></tr><tr><td>&quot;b7815dbb206eb2…</td><td>&quot;SOYYFLV12A58A7…</td><td>1</td><td>&quot;TRKSGQU128F148…</td><td>&quot;Linkin Park&quot;</td><td>&quot;Lying From You…</td><td>null</td></tr></tbody></table></div>"
      ],
      "text/plain": [
       "shape: (49_664_527, 7)\n",
       "┌──────────────┬──────────────┬────────────┬─────────────┬─────────────┬─────────────┬─────────────┐\n",
       "│ user_id      ┆ song_id      ┆ play_count ┆ track_id    ┆ artist      ┆ title       ┆ majority_ge │\n",
       "│ ---          ┆ ---          ┆ ---        ┆ ---         ┆ ---         ┆ ---         ┆ nre         │\n",
       "│ str          ┆ str          ┆ i64        ┆ str         ┆ str         ┆ str         ┆ ---         │\n",
       "│              ┆              ┆            ┆             ┆             ┆             ┆ str         │\n",
       "╞══════════════╪══════════════╪════════════╪═════════════╪═════════════╪═════════════╪═════════════╡\n",
       "│ b80344d063b5 ┆ SOAPDEY12A81 ┆ 1          ┆ TRIRLYL128F ┆ Billy       ┆ Nothing     ┆ RnB         │\n",
       "│ ccb3212f7653 ┆ C210A9       ┆            ┆ 42539D1     ┆ Preston     ┆ from        ┆             │\n",
       "│ 8f3d9e43…    ┆              ┆            ┆             ┆             ┆ Nothing     ┆             │\n",
       "│ b80344d063b5 ┆ SOBBMDR12A8C ┆ 2          ┆ TRMHBXZ128F ┆ Paco De     ┆ Entre Dos   ┆ Electronic  │\n",
       "│ ccb3212f7653 ┆ 13253B       ┆            ┆ 4238406     ┆ Lucia       ┆ Aguas       ┆             │\n",
       "│ 8f3d9e43…    ┆              ┆            ┆             ┆             ┆             ┆             │\n",
       "│ b80344d063b5 ┆ SOBFNSP12AF7 ┆ 1          ┆ TRYQMNI128F ┆ Josh Rouse  ┆ Under Cold  ┆ Rock        │\n",
       "│ ccb3212f7653 ┆ 2A0E22       ┆            ┆ 147C1C7     ┆             ┆ Blue Stars  ┆             │\n",
       "│ 8f3d9e43…    ┆              ┆            ┆             ┆             ┆             ┆             │\n",
       "│ b80344d063b5 ┆ SOBFOVM12A58 ┆ 1          ┆ TRAHZNE128F ┆ The Dead    ┆ Riot Radio  ┆ null        │\n",
       "│ ccb3212f7653 ┆ A7D494       ┆            ┆ 9341B86     ┆ 60s         ┆ (Soundtrack ┆             │\n",
       "│ 8f3d9e43…    ┆              ┆            ┆             ┆             ┆ Version)    ┆             │\n",
       "│ b80344d063b5 ┆ SOBNZDC12A6D ┆ 1          ┆ TRJPXGD128F ┆ Amset       ┆ Sin límites ┆ null        │\n",
       "│ ccb3212f7653 ┆ 4FC103       ┆            ┆ 92F17D7     ┆             ┆ (I)         ┆             │\n",
       "│ 8f3d9e43…    ┆              ┆            ┆             ┆             ┆             ┆             │\n",
       "│ …            ┆ …            ┆ …          ┆ …           ┆ …           ┆ …           ┆ …           │\n",
       "│ b7815dbb206e ┆ SOUHHHH12AF7 ┆ 2          ┆ TRKUAEO128F ┆ Eminem /    ┆ We're Back  ┆ null        │\n",
       "│ b2831ce0fe04 ┆ 29E4AF       ┆            ┆ 933ABFC     ┆ Obie Trice  ┆             ┆             │\n",
       "│ 0d0aa537…    ┆              ┆            ┆             ┆ / Stat Quo  ┆             ┆             │\n",
       "│              ┆              ┆            ┆             ┆ /…          ┆             ┆             │\n",
       "│ b7815dbb206e ┆ SOUJVIT12A8C ┆ 1          ┆ TRRNFHH128F ┆ Rise        ┆ Savior      ┆ Rock        │\n",
       "│ b2831ce0fe04 ┆ 1451C1       ┆            ┆ 92D262D     ┆ Against     ┆             ┆             │\n",
       "│ 0d0aa537…    ┆              ┆            ┆             ┆             ┆             ┆             │\n",
       "│ b7815dbb206e ┆ SOUSMXX12AB0 ┆ 1          ┆ TRSLDDC1290 ┆ Usher       ┆ OMG         ┆ null        │\n",
       "│ b2831ce0fe04 ┆ 185C24       ┆            ┆ 3CC36E7     ┆ featuring   ┆             ┆             │\n",
       "│ 0d0aa537…    ┆              ┆            ┆             ┆ will.i.am   ┆             ┆             │\n",
       "│ b7815dbb206e ┆ SOWYSKH12AF7 ┆ 3          ┆ TRNJQAM128F ┆ matchbox    ┆ Downfall    ┆ Rock        │\n",
       "│ b2831ce0fe04 ┆ 2A303A       ┆            ┆ 14557AF     ┆ twenty      ┆ (Album      ┆             │\n",
       "│ 0d0aa537…    ┆              ┆            ┆             ┆             ┆ Version)    ┆             │\n",
       "│ b7815dbb206e ┆ SOYYFLV12A58 ┆ 1          ┆ TRKSGQU128F ┆ Linkin Park ┆ Lying From  ┆ null        │\n",
       "│ b2831ce0fe04 ┆ A7A88F       ┆            ┆ 14824E9     ┆             ┆ You (Album  ┆             │\n",
       "│ 0d0aa537…    ┆              ┆            ┆             ┆             ┆ Version)    ┆             │\n",
       "└──────────────┴──────────────┴────────────┴─────────────┴─────────────┴─────────────┴─────────────┘"
      ]
     },
     "execution_count": 25,
     "metadata": {},
     "output_type": "execute_result"
    }
   ],
   "source": [
    "# Merge songs_df with genre_df\n",
    "full_songs_df = songs_df.join(\n",
    "    genre_df,\n",
    "    on=\"track_id\",\n",
    "    how=\"left\"\n",
    ")\n",
    "full_songs_df"
   ]
  },
  {
   "cell_type": "code",
   "execution_count": 26,
   "metadata": {},
   "outputs": [],
   "source": [
    "full_songs_df.write_csv(f\"{global_path}/full_songs.csv\")"
   ]
  },
  {
   "cell_type": "code",
   "execution_count": 27,
   "metadata": {},
   "outputs": [],
   "source": [
    "def read_lyrics_file(file_path):\n",
    "    lyrics_dataset = []\n",
    "    with open(file_path, 'r', encoding='utf-8') as file:\n",
    "\n",
    "        for line in file:\n",
    "            if line.startswith(\"#\") or not line.strip():\n",
    "                continue\n",
    "            elif line.startswith('%'):\n",
    "                    word_list = line[1:].strip().split(',')\n",
    "            else:\n",
    "                parts = line.split(\",\")\n",
    "                track_id = parts[0]\n",
    "                word_counts = parts[2:]\n",
    "\n",
    "                lyrics = []\n",
    "                for wc in word_counts:\n",
    "                    idx, count = map(int, wc.split(\":\"))\n",
    "                    lyrics.extend([word_list[idx - 1]])  # Word index is 1-based\n",
    "\n",
    "                lyrics_text = ' '.join(lyrics)\n",
    "                lyrics_dataset.append((track_id, lyrics_text))\n",
    "\n",
    "    return pl.DataFrame(lyrics_dataset, schema=['track_id', 'lyrics'])\n",
    "\n",
    "# Usage example:\n",
    "file_path = '../data/mxm_dataset_train.txt'\n",
    "lyrics_df = read_lyrics_file(file_path)"
   ]
  },
  {
   "cell_type": "code",
   "execution_count": 28,
   "metadata": {},
   "outputs": [
    {
     "data": {
      "text/html": [
       "<div><style>\n",
       ".dataframe > thead > tr,\n",
       ".dataframe > tbody > tr {\n",
       "  text-align: right;\n",
       "  white-space: pre-wrap;\n",
       "}\n",
       "</style>\n",
       "<small>shape: (210_519, 2)</small><table border=\"1\" class=\"dataframe\"><thead><tr><th>track_id</th><th>lyrics</th></tr><tr><td>str</td><td>str</td></tr></thead><tbody><tr><td>&quot;TRAAAAV128F421…</td><td>&quot;i the you to a…</td></tr><tr><td>&quot;TRAAABD128F429…</td><td>&quot;i you to and a…</td></tr><tr><td>&quot;TRAAAED128E078…</td><td>&quot;i the you to a…</td></tr><tr><td>&quot;TRAAAEF128F427…</td><td>&quot;i the you to a…</td></tr><tr><td>&quot;TRAAAEW128F429…</td><td>&quot;i to and a me …</td></tr><tr><td>&hellip;</td><td>&hellip;</td></tr><tr><td>&quot;TRZZZWS128F429…</td><td>&quot;a no que de y …</td></tr><tr><td>&quot;TRZZZXA128F428…</td><td>&quot;i the you to a…</td></tr><tr><td>&quot;TRZZZXV128F428…</td><td>&quot;i the you to a…</td></tr><tr><td>&quot;TRZZZYV128F92E…</td><td>&quot;i the you and …</td></tr><tr><td>&quot;TRZZZYX128F92D…</td><td>&quot;i the to and a…</td></tr></tbody></table></div>"
      ],
      "text/plain": [
       "shape: (210_519, 2)\n",
       "┌────────────────────┬───────────────────────────────────┐\n",
       "│ track_id           ┆ lyrics                            │\n",
       "│ ---                ┆ ---                               │\n",
       "│ str                ┆ str                               │\n",
       "╞════════════════════╪═══════════════════════════════════╡\n",
       "│ TRAAAAV128F421A322 ┆ i the you to and a me it my is o… │\n",
       "│ TRAAABD128F429CF47 ┆ i you to and a me it not in my i… │\n",
       "│ TRAAAED128E0783FAB ┆ i the you to and a me it not in … │\n",
       "│ TRAAAEF128F4273421 ┆ i the you to and a not is of tha… │\n",
       "│ TRAAAEW128F42930C0 ┆ i to and a me not in my that on … │\n",
       "│ …                  ┆ …                                 │\n",
       "│ TRZZZWS128F429CF87 ┆ a no que de y en te tu se es por… │\n",
       "│ TRZZZXA128F428ED56 ┆ i the you to and a not in is of … │\n",
       "│ TRZZZXV128F4289747 ┆ i the you to and me it not my th… │\n",
       "│ TRZZZYV128F92E996D ┆ i the you and me it not in my is… │\n",
       "│ TRZZZYX128F92D32C6 ┆ i the to and a me it not in my i… │\n",
       "└────────────────────┴───────────────────────────────────┘"
      ]
     },
     "execution_count": 28,
     "metadata": {},
     "output_type": "execute_result"
    }
   ],
   "source": [
    "lyrics_df"
   ]
  },
  {
   "cell_type": "code",
   "execution_count": 29,
   "metadata": {},
   "outputs": [],
   "source": [
    "full_songs_df = pl.read_csv(f\"{global_path}/full_songs.csv\")"
   ]
  },
  {
   "cell_type": "code",
   "execution_count": 30,
   "metadata": {},
   "outputs": [
    {
     "data": {
      "text/html": [
       "<div><style>\n",
       ".dataframe > thead > tr,\n",
       ".dataframe > tbody > tr {\n",
       "  text-align: right;\n",
       "  white-space: pre-wrap;\n",
       "}\n",
       "</style>\n",
       "<small>shape: (49_664_527, 8)</small><table border=\"1\" class=\"dataframe\"><thead><tr><th>user_id</th><th>song_id</th><th>play_count</th><th>track_id</th><th>artist</th><th>title</th><th>majority_genre</th><th>lyrics</th></tr><tr><td>str</td><td>str</td><td>i64</td><td>str</td><td>str</td><td>str</td><td>str</td><td>str</td></tr></thead><tbody><tr><td>&quot;b80344d063b5cc…</td><td>&quot;SOAPDEY12A81C2…</td><td>1</td><td>&quot;TRIRLYL128F425…</td><td>&quot;Billy Preston&quot;</td><td>&quot;Nothing from N…</td><td>&quot;RnB&quot;</td><td>null</td></tr><tr><td>&quot;b80344d063b5cc…</td><td>&quot;SOBBMDR12A8C13…</td><td>2</td><td>&quot;TRMHBXZ128F423…</td><td>&quot;Paco De Lucia&quot;</td><td>&quot;Entre Dos Agua…</td><td>&quot;Electronic&quot;</td><td>null</td></tr><tr><td>&quot;b80344d063b5cc…</td><td>&quot;SOBFNSP12AF72A…</td><td>1</td><td>&quot;TRYQMNI128F147…</td><td>&quot;Josh Rouse&quot;</td><td>&quot;Under Cold Blu…</td><td>&quot;Rock&quot;</td><td>&quot;the you to and…</td></tr><tr><td>&quot;b80344d063b5cc…</td><td>&quot;SOBFOVM12A58A7…</td><td>1</td><td>&quot;TRAHZNE128F934…</td><td>&quot;The Dead 60s&quot;</td><td>&quot;Riot Radio (So…</td><td>null</td><td>null</td></tr><tr><td>&quot;b80344d063b5cc…</td><td>&quot;SOBNZDC12A6D4F…</td><td>1</td><td>&quot;TRJPXGD128F92F…</td><td>&quot;Amset&quot;</td><td>&quot;Sin límites (I…</td><td>null</td><td>null</td></tr><tr><td>&hellip;</td><td>&hellip;</td><td>&hellip;</td><td>&hellip;</td><td>&hellip;</td><td>&hellip;</td><td>&hellip;</td><td>&hellip;</td></tr><tr><td>&quot;b7815dbb206eb2…</td><td>&quot;SOUHHHH12AF729…</td><td>2</td><td>&quot;TRKUAEO128F933…</td><td>&quot;Eminem / Obie …</td><td>&quot;We&#x27;re Back&quot;</td><td>null</td><td>null</td></tr><tr><td>&quot;b7815dbb206eb2…</td><td>&quot;SOUJVIT12A8C14…</td><td>1</td><td>&quot;TRRNFHH128F92D…</td><td>&quot;Rise Against&quot;</td><td>&quot;Savior&quot;</td><td>&quot;Rock&quot;</td><td>&quot;i the you to a…</td></tr><tr><td>&quot;b7815dbb206eb2…</td><td>&quot;SOUSMXX12AB018…</td><td>1</td><td>&quot;TRSLDDC12903CC…</td><td>&quot;Usher featurin…</td><td>&quot;OMG&quot;</td><td>null</td><td>null</td></tr><tr><td>&quot;b7815dbb206eb2…</td><td>&quot;SOWYSKH12AF72A…</td><td>3</td><td>&quot;TRNJQAM128F145…</td><td>&quot;matchbox twent…</td><td>&quot;Downfall (Albu…</td><td>&quot;Rock&quot;</td><td>null</td></tr><tr><td>&quot;b7815dbb206eb2…</td><td>&quot;SOYYFLV12A58A7…</td><td>1</td><td>&quot;TRKSGQU128F148…</td><td>&quot;Linkin Park&quot;</td><td>&quot;Lying From You…</td><td>null</td><td>null</td></tr></tbody></table></div>"
      ],
      "text/plain": [
       "shape: (49_664_527, 8)\n",
       "┌────────────┬────────────┬────────────┬───────────┬───────────┬───────────┬───────────┬───────────┐\n",
       "│ user_id    ┆ song_id    ┆ play_count ┆ track_id  ┆ artist    ┆ title     ┆ majority_ ┆ lyrics    │\n",
       "│ ---        ┆ ---        ┆ ---        ┆ ---       ┆ ---       ┆ ---       ┆ genre     ┆ ---       │\n",
       "│ str        ┆ str        ┆ i64        ┆ str       ┆ str       ┆ str       ┆ ---       ┆ str       │\n",
       "│            ┆            ┆            ┆           ┆           ┆           ┆ str       ┆           │\n",
       "╞════════════╪════════════╪════════════╪═══════════╪═══════════╪═══════════╪═══════════╪═══════════╡\n",
       "│ b80344d063 ┆ SOAPDEY12A ┆ 1          ┆ TRIRLYL12 ┆ Billy     ┆ Nothing   ┆ RnB       ┆ null      │\n",
       "│ b5ccb3212f ┆ 81C210A9   ┆            ┆ 8F42539D1 ┆ Preston   ┆ from      ┆           ┆           │\n",
       "│ 76538f3d9e ┆            ┆            ┆           ┆           ┆ Nothing   ┆           ┆           │\n",
       "│ 43…        ┆            ┆            ┆           ┆           ┆           ┆           ┆           │\n",
       "│ b80344d063 ┆ SOBBMDR12A ┆ 2          ┆ TRMHBXZ12 ┆ Paco De   ┆ Entre Dos ┆ Electroni ┆ null      │\n",
       "│ b5ccb3212f ┆ 8C13253B   ┆            ┆ 8F4238406 ┆ Lucia     ┆ Aguas     ┆ c         ┆           │\n",
       "│ 76538f3d9e ┆            ┆            ┆           ┆           ┆           ┆           ┆           │\n",
       "│ 43…        ┆            ┆            ┆           ┆           ┆           ┆           ┆           │\n",
       "│ b80344d063 ┆ SOBFNSP12A ┆ 1          ┆ TRYQMNI12 ┆ Josh      ┆ Under     ┆ Rock      ┆ the you   │\n",
       "│ b5ccb3212f ┆ F72A0E22   ┆            ┆ 8F147C1C7 ┆ Rouse     ┆ Cold Blue ┆           ┆ to and a  │\n",
       "│ 76538f3d9e ┆            ┆            ┆           ┆           ┆ Stars     ┆           ┆ it not in │\n",
       "│ 43…        ┆            ┆            ┆           ┆           ┆           ┆           ┆ your …    │\n",
       "│ b80344d063 ┆ SOBFOVM12A ┆ 1          ┆ TRAHZNE12 ┆ The Dead  ┆ Riot      ┆ null      ┆ null      │\n",
       "│ b5ccb3212f ┆ 58A7D494   ┆            ┆ 8F9341B86 ┆ 60s       ┆ Radio (So ┆           ┆           │\n",
       "│ 76538f3d9e ┆            ┆            ┆           ┆           ┆ undtrack  ┆           ┆           │\n",
       "│ 43…        ┆            ┆            ┆           ┆           ┆ Version)  ┆           ┆           │\n",
       "│ b80344d063 ┆ SOBNZDC12A ┆ 1          ┆ TRJPXGD12 ┆ Amset     ┆ Sin       ┆ null      ┆ null      │\n",
       "│ b5ccb3212f ┆ 6D4FC103   ┆            ┆ 8F92F17D7 ┆           ┆ límites   ┆           ┆           │\n",
       "│ 76538f3d9e ┆            ┆            ┆           ┆           ┆ (I)       ┆           ┆           │\n",
       "│ 43…        ┆            ┆            ┆           ┆           ┆           ┆           ┆           │\n",
       "│ …          ┆ …          ┆ …          ┆ …         ┆ …         ┆ …         ┆ …         ┆ …         │\n",
       "│ b7815dbb20 ┆ SOUHHHH12A ┆ 2          ┆ TRKUAEO12 ┆ Eminem /  ┆ We're     ┆ null      ┆ null      │\n",
       "│ 6eb2831ce0 ┆ F729E4AF   ┆            ┆ 8F933ABFC ┆ Obie      ┆ Back      ┆           ┆           │\n",
       "│ fe040d0aa5 ┆            ┆            ┆           ┆ Trice /   ┆           ┆           ┆           │\n",
       "│ 37…        ┆            ┆            ┆           ┆ Stat Quo  ┆           ┆           ┆           │\n",
       "│            ┆            ┆            ┆           ┆ /…        ┆           ┆           ┆           │\n",
       "│ b7815dbb20 ┆ SOUJVIT12A ┆ 1          ┆ TRRNFHH12 ┆ Rise      ┆ Savior    ┆ Rock      ┆ i the you │\n",
       "│ 6eb2831ce0 ┆ 8C1451C1   ┆            ┆ 8F92D262D ┆ Against   ┆           ┆           ┆ to and a  │\n",
       "│ fe040d0aa5 ┆            ┆            ┆           ┆           ┆           ┆           ┆ me it not │\n",
       "│ 37…        ┆            ┆            ┆           ┆           ┆           ┆           ┆ in …      │\n",
       "│ b7815dbb20 ┆ SOUSMXX12A ┆ 1          ┆ TRSLDDC12 ┆ Usher     ┆ OMG       ┆ null      ┆ null      │\n",
       "│ 6eb2831ce0 ┆ B0185C24   ┆            ┆ 903CC36E7 ┆ featuring ┆           ┆           ┆           │\n",
       "│ fe040d0aa5 ┆            ┆            ┆           ┆ will.i.am ┆           ┆           ┆           │\n",
       "│ 37…        ┆            ┆            ┆           ┆           ┆           ┆           ┆           │\n",
       "│ b7815dbb20 ┆ SOWYSKH12A ┆ 3          ┆ TRNJQAM12 ┆ matchbox  ┆ Downfall  ┆ Rock      ┆ null      │\n",
       "│ 6eb2831ce0 ┆ F72A303A   ┆            ┆ 8F14557AF ┆ twenty    ┆ (Album    ┆           ┆           │\n",
       "│ fe040d0aa5 ┆            ┆            ┆           ┆           ┆ Version)  ┆           ┆           │\n",
       "│ 37…        ┆            ┆            ┆           ┆           ┆           ┆           ┆           │\n",
       "│ b7815dbb20 ┆ SOYYFLV12A ┆ 1          ┆ TRKSGQU12 ┆ Linkin    ┆ Lying     ┆ null      ┆ null      │\n",
       "│ 6eb2831ce0 ┆ 58A7A88F   ┆            ┆ 8F14824E9 ┆ Park      ┆ From You  ┆           ┆           │\n",
       "│ fe040d0aa5 ┆            ┆            ┆           ┆           ┆ (Album    ┆           ┆           │\n",
       "│ 37…        ┆            ┆            ┆           ┆           ┆ Version)  ┆           ┆           │\n",
       "└────────────┴────────────┴────────────┴───────────┴───────────┴───────────┴───────────┴───────────┘"
      ]
     },
     "execution_count": 30,
     "metadata": {},
     "output_type": "execute_result"
    }
   ],
   "source": [
    "full_songs_df = full_songs_df.join(\n",
    "    lyrics_df,\n",
    "    on=\"track_id\",\n",
    "    how=\"left\"\n",
    ")\n",
    "\n",
    "full_songs_df"
   ]
  },
  {
   "cell_type": "code",
   "execution_count": 31,
   "metadata": {},
   "outputs": [],
   "source": [
    "o = o.join(lyrics_df, on='track_id')"
   ]
  },
  {
   "cell_type": "code",
   "execution_count": 32,
   "metadata": {},
   "outputs": [],
   "source": [
    "o.write_csv(f\"{global_path}/llm_RecSys_dataset.csv\")"
   ]
  },
  {
   "cell_type": "code",
   "execution_count": 33,
   "metadata": {},
   "outputs": [
    {
     "data": {
      "text/html": [
       "<div>\n",
       "<style scoped>\n",
       "    .dataframe tbody tr th:only-of-type {\n",
       "        vertical-align: middle;\n",
       "    }\n",
       "\n",
       "    .dataframe tbody tr th {\n",
       "        vertical-align: top;\n",
       "    }\n",
       "\n",
       "    .dataframe thead th {\n",
       "        text-align: right;\n",
       "    }\n",
       "</style>\n",
       "<table border=\"1\" class=\"dataframe\">\n",
       "  <thead>\n",
       "    <tr style=\"text-align: right;\">\n",
       "      <th></th>\n",
       "      <th>song_id</th>\n",
       "      <th>play_count</th>\n",
       "      <th>track_id</th>\n",
       "      <th>artist</th>\n",
       "      <th>title</th>\n",
       "      <th>majority_genre</th>\n",
       "      <th>lyrics</th>\n",
       "    </tr>\n",
       "  </thead>\n",
       "  <tbody>\n",
       "    <tr>\n",
       "      <th>0</th>\n",
       "      <td>SOCIWDW12A8C13D406</td>\n",
       "      <td>72</td>\n",
       "      <td>TRAAABD128F429CF47</td>\n",
       "      <td>The Box Tops</td>\n",
       "      <td>Soul Deep</td>\n",
       "      <td>Rock</td>\n",
       "      <td>i you to and a me it not in my is your that do...</td>\n",
       "    </tr>\n",
       "    <tr>\n",
       "      <th>1</th>\n",
       "      <td>SOXZYWX12A6310ED0C</td>\n",
       "      <td>315</td>\n",
       "      <td>TRAAAED128E0783FAB</td>\n",
       "      <td>Jamie Cullum</td>\n",
       "      <td>It's About Time</td>\n",
       "      <td>Jazz</td>\n",
       "      <td>i the you to and a me it not in my is of that ...</td>\n",
       "    </tr>\n",
       "    <tr>\n",
       "      <th>2</th>\n",
       "      <td>SOFSOCN12A8C143F5D</td>\n",
       "      <td>70</td>\n",
       "      <td>TRAAAFD128F92F423A</td>\n",
       "      <td>Gob</td>\n",
       "      <td>Face the Ashes</td>\n",
       "      <td>Punk</td>\n",
       "      <td>i the to and a me it not in my is of do on are...</td>\n",
       "    </tr>\n",
       "    <tr>\n",
       "      <th>3</th>\n",
       "      <td>SOAPERH12A58A787DC</td>\n",
       "      <td>114</td>\n",
       "      <td>TRAAAHZ128E0799171</td>\n",
       "      <td>Snoop Dogg</td>\n",
       "      <td>The One And Only (Edited)</td>\n",
       "      <td>Rap</td>\n",
       "      <td>i the you to and a me it not in my is of your ...</td>\n",
       "    </tr>\n",
       "    <tr>\n",
       "      <th>4</th>\n",
       "      <td>SOSRVUJ12AB018731E</td>\n",
       "      <td>410</td>\n",
       "      <td>TRAABIG128F9356C56</td>\n",
       "      <td>Poe</td>\n",
       "      <td>Walk the Walk</td>\n",
       "      <td>Rock</td>\n",
       "      <td>i the you to and a it not in my is of your tha...</td>\n",
       "    </tr>\n",
       "    <tr>\n",
       "      <th>...</th>\n",
       "      <td>...</td>\n",
       "      <td>...</td>\n",
       "      <td>...</td>\n",
       "      <td>...</td>\n",
       "      <td>...</td>\n",
       "      <td>...</td>\n",
       "      <td>...</td>\n",
       "    </tr>\n",
       "    <tr>\n",
       "      <th>76010</th>\n",
       "      <td>SOYKMGN12A8C1396F6</td>\n",
       "      <td>32</td>\n",
       "      <td>TRZZZCL128F428BB80</td>\n",
       "      <td>I Am Ghost</td>\n",
       "      <td>The Ship of Pills and Needed Things</td>\n",
       "      <td>Rock</td>\n",
       "      <td>i the you to and a it in my is of your on are ...</td>\n",
       "    </tr>\n",
       "    <tr>\n",
       "      <th>76011</th>\n",
       "      <td>SOCSNCA12AB0181E38</td>\n",
       "      <td>281</td>\n",
       "      <td>TRZZZHL128F9329CFB</td>\n",
       "      <td>Ayreon</td>\n",
       "      <td>Day five: Voices</td>\n",
       "      <td>Rock</td>\n",
       "      <td>i the you to and a me it not in is of your tha...</td>\n",
       "    </tr>\n",
       "    <tr>\n",
       "      <th>76012</th>\n",
       "      <td>SOULKJA12A8C140620</td>\n",
       "      <td>1212</td>\n",
       "      <td>TRZZZRJ128F42819AF</td>\n",
       "      <td>Belle &amp; Sebastian</td>\n",
       "      <td>Lord Anthony</td>\n",
       "      <td>Rock</td>\n",
       "      <td>the you to and a it not in is of your do on ar...</td>\n",
       "    </tr>\n",
       "    <tr>\n",
       "      <th>76013</th>\n",
       "      <td>SOSULQJ12A8C144B79</td>\n",
       "      <td>20</td>\n",
       "      <td>TRZZZUK128F92E3C60</td>\n",
       "      <td>Judee Sill</td>\n",
       "      <td>Lady-O</td>\n",
       "      <td>Folk</td>\n",
       "      <td>i the you to and a it not in my is of your tha...</td>\n",
       "    </tr>\n",
       "    <tr>\n",
       "      <th>76014</th>\n",
       "      <td>SOSMTHR12A8C138B9B</td>\n",
       "      <td>51</td>\n",
       "      <td>TRZZZYV128F92E996D</td>\n",
       "      <td>TLC</td>\n",
       "      <td>Dear Lie</td>\n",
       "      <td>New Age</td>\n",
       "      <td>i the you and me it not in my is of your that ...</td>\n",
       "    </tr>\n",
       "  </tbody>\n",
       "</table>\n",
       "<p>76015 rows × 7 columns</p>\n",
       "</div>"
      ],
      "text/plain": [
       "                  song_id  play_count            track_id             artist  \\\n",
       "0      SOCIWDW12A8C13D406          72  TRAAABD128F429CF47       The Box Tops   \n",
       "1      SOXZYWX12A6310ED0C         315  TRAAAED128E0783FAB       Jamie Cullum   \n",
       "2      SOFSOCN12A8C143F5D          70  TRAAAFD128F92F423A                Gob   \n",
       "3      SOAPERH12A58A787DC         114  TRAAAHZ128E0799171         Snoop Dogg   \n",
       "4      SOSRVUJ12AB018731E         410  TRAABIG128F9356C56                Poe   \n",
       "...                   ...         ...                 ...                ...   \n",
       "76010  SOYKMGN12A8C1396F6          32  TRZZZCL128F428BB80         I Am Ghost   \n",
       "76011  SOCSNCA12AB0181E38         281  TRZZZHL128F9329CFB             Ayreon   \n",
       "76012  SOULKJA12A8C140620        1212  TRZZZRJ128F42819AF  Belle & Sebastian   \n",
       "76013  SOSULQJ12A8C144B79          20  TRZZZUK128F92E3C60         Judee Sill   \n",
       "76014  SOSMTHR12A8C138B9B          51  TRZZZYV128F92E996D                TLC   \n",
       "\n",
       "                                     title majority_genre  \\\n",
       "0                                Soul Deep           Rock   \n",
       "1                          It's About Time           Jazz   \n",
       "2                           Face the Ashes           Punk   \n",
       "3                The One And Only (Edited)            Rap   \n",
       "4                            Walk the Walk           Rock   \n",
       "...                                    ...            ...   \n",
       "76010  The Ship of Pills and Needed Things           Rock   \n",
       "76011                     Day five: Voices           Rock   \n",
       "76012                         Lord Anthony           Rock   \n",
       "76013                               Lady-O           Folk   \n",
       "76014                             Dear Lie        New Age   \n",
       "\n",
       "                                                  lyrics  \n",
       "0      i you to and a me it not in my is your that do...  \n",
       "1      i the you to and a me it not in my is of that ...  \n",
       "2      i the to and a me it not in my is of do on are...  \n",
       "3      i the you to and a me it not in my is of your ...  \n",
       "4      i the you to and a it not in my is of your tha...  \n",
       "...                                                  ...  \n",
       "76010  i the you to and a it in my is of your on are ...  \n",
       "76011  i the you to and a me it not in is of your tha...  \n",
       "76012  the you to and a it not in is of your do on ar...  \n",
       "76013  i the you to and a it not in my is of your tha...  \n",
       "76014  i the you and me it not in my is of your that ...  \n",
       "\n",
       "[76015 rows x 7 columns]"
      ]
     },
     "execution_count": 33,
     "metadata": {},
     "output_type": "execute_result"
    }
   ],
   "source": [
    "o = pd.read_csv(f\"{global_path}/llm_RecSys_dataset.csv\")\n",
    "o"
   ]
  },
  {
   "cell_type": "code",
   "execution_count": 34,
   "metadata": {},
   "outputs": [
    {
     "name": "stdout",
     "output_type": "stream",
     "text": [
      "Song ID: SOCIWDW12A8C13D406\n",
      " Artist : The Box Tops\n",
      " Title : Soul Deep\n",
      " Lyrics: i you to and a me it not in my is your that do are for no have so know but what when time can there la get got never feel want would day away yeah heart could need our look where thing think live onli tri keep dream wanna find hear believ everyth someth insid chang soul new start pleas true while deep beat after fade wast trust alreadi style asleep wors goal.\n",
      " Genres: Rock\n"
     ]
    }
   ],
   "source": [
    "#Combine title, synopsis, and Genre\n",
    "# o = o.to_pandas()\n",
    "o['combined_info'] = o.apply(lambda row: f\"Song ID: {row['song_id']}\\n Artist : {row['artist']}\\n Title : {row['title']}\\n Lyrics: {row['lyrics']}.\\n Genres: {row['majority_genre']}\", axis=1)\n",
    "print(o['combined_info'][0])"
   ]
  },
  {
   "cell_type": "code",
   "execution_count": 35,
   "metadata": {},
   "outputs": [],
   "source": [
    "o[['combined_info']].to_csv(f\"{global_path}/llm_RecSys_dataset_updated.csv\", index=False)"
   ]
  },
  {
   "cell_type": "code",
   "execution_count": 37,
   "metadata": {},
   "outputs": [
    {
     "data": {
      "text/html": [
       "<div>\n",
       "<style scoped>\n",
       "    .dataframe tbody tr th:only-of-type {\n",
       "        vertical-align: middle;\n",
       "    }\n",
       "\n",
       "    .dataframe tbody tr th {\n",
       "        vertical-align: top;\n",
       "    }\n",
       "\n",
       "    .dataframe thead th {\n",
       "        text-align: right;\n",
       "    }\n",
       "</style>\n",
       "<table border=\"1\" class=\"dataframe\">\n",
       "  <thead>\n",
       "    <tr style=\"text-align: right;\">\n",
       "      <th></th>\n",
       "      <th>combined_info</th>\n",
       "    </tr>\n",
       "  </thead>\n",
       "  <tbody>\n",
       "    <tr>\n",
       "      <th>0</th>\n",
       "      <td>Song ID: SOCIWDW12A8C13D406\\n Artist : The Box...</td>\n",
       "    </tr>\n",
       "    <tr>\n",
       "      <th>1</th>\n",
       "      <td>Song ID: SOXZYWX12A6310ED0C\\n Artist : Jamie C...</td>\n",
       "    </tr>\n",
       "    <tr>\n",
       "      <th>2</th>\n",
       "      <td>Song ID: SOFSOCN12A8C143F5D\\n Artist : Gob\\n T...</td>\n",
       "    </tr>\n",
       "    <tr>\n",
       "      <th>3</th>\n",
       "      <td>Song ID: SOAPERH12A58A787DC\\n Artist : Snoop D...</td>\n",
       "    </tr>\n",
       "    <tr>\n",
       "      <th>4</th>\n",
       "      <td>Song ID: SOSRVUJ12AB018731E\\n Artist : Poe\\n T...</td>\n",
       "    </tr>\n",
       "    <tr>\n",
       "      <th>...</th>\n",
       "      <td>...</td>\n",
       "    </tr>\n",
       "    <tr>\n",
       "      <th>76010</th>\n",
       "      <td>Song ID: SOYKMGN12A8C1396F6\\n Artist : I Am Gh...</td>\n",
       "    </tr>\n",
       "    <tr>\n",
       "      <th>76011</th>\n",
       "      <td>Song ID: SOCSNCA12AB0181E38\\n Artist : Ayreon\\...</td>\n",
       "    </tr>\n",
       "    <tr>\n",
       "      <th>76012</th>\n",
       "      <td>Song ID: SOULKJA12A8C140620\\n Artist : Belle &amp;...</td>\n",
       "    </tr>\n",
       "    <tr>\n",
       "      <th>76013</th>\n",
       "      <td>Song ID: SOSULQJ12A8C144B79\\n Artist : Judee S...</td>\n",
       "    </tr>\n",
       "    <tr>\n",
       "      <th>76014</th>\n",
       "      <td>Song ID: SOSMTHR12A8C138B9B\\n Artist : TLC\\n T...</td>\n",
       "    </tr>\n",
       "  </tbody>\n",
       "</table>\n",
       "<p>76015 rows × 1 columns</p>\n",
       "</div>"
      ],
      "text/plain": [
       "                                           combined_info\n",
       "0      Song ID: SOCIWDW12A8C13D406\\n Artist : The Box...\n",
       "1      Song ID: SOXZYWX12A6310ED0C\\n Artist : Jamie C...\n",
       "2      Song ID: SOFSOCN12A8C143F5D\\n Artist : Gob\\n T...\n",
       "3      Song ID: SOAPERH12A58A787DC\\n Artist : Snoop D...\n",
       "4      Song ID: SOSRVUJ12AB018731E\\n Artist : Poe\\n T...\n",
       "...                                                  ...\n",
       "76010  Song ID: SOYKMGN12A8C1396F6\\n Artist : I Am Gh...\n",
       "76011  Song ID: SOCSNCA12AB0181E38\\n Artist : Ayreon\\...\n",
       "76012  Song ID: SOULKJA12A8C140620\\n Artist : Belle &...\n",
       "76013  Song ID: SOSULQJ12A8C144B79\\n Artist : Judee S...\n",
       "76014  Song ID: SOSMTHR12A8C138B9B\\n Artist : TLC\\n T...\n",
       "\n",
       "[76015 rows x 1 columns]"
      ]
     },
     "execution_count": 37,
     "metadata": {},
     "output_type": "execute_result"
    }
   ],
   "source": [
    "pd.read_csv(f\"{global_path}/llm_RecSys_dataset_updated.csv\")"
   ]
  },
  {
   "cell_type": "markdown",
   "metadata": {},
   "source": [
    "## Build the LLM recommender."
   ]
  },
  {
   "cell_type": "code",
   "execution_count": 1,
   "metadata": {},
   "outputs": [],
   "source": [
    "import os\n",
    "from langchain_community.embeddings.sentence_transformer import SentenceTransformerEmbeddings\n",
    "from langchain.chains import RetrievalQA\n",
    "from langchain.text_splitter import CharacterTextSplitter\n",
    "from langchain_community.document_loaders import TextLoader\n",
    "from langchain_community.document_loaders import CSVLoader\n",
    "from langchain_community.embeddings import OpenAIEmbeddings\n",
    "from langchain_community.vectorstores import Chroma\n",
    "from langchain_community.llms import OpenAI\n",
    "from langchain_openai import ChatOpenAI\n",
    "from langchain.prompts import PromptTemplate"
   ]
  },
  {
   "cell_type": "markdown",
   "metadata": {},
   "source": []
  },
  {
   "cell_type": "code",
   "execution_count": 6,
   "metadata": {},
   "outputs": [],
   "source": [
    "api_key = os.getenv('OPENAI_API_KEY')"
   ]
  },
  {
   "cell_type": "code",
   "execution_count": 9,
   "metadata": {},
   "outputs": [],
   "source": [
    "loader = CSVLoader(file_path=f\"{global_path}/llm_RecSys_dataset_updated.csv\")\n",
    "data = loader.load()\n",
    "\n",
    "#data transformers\n",
    "text_splitter = CharacterTextSplitter(chunk_size=1000, chunk_overlap=0)\n",
    "texts = text_splitter.split_documents(data)"
   ]
  },
  {
   "cell_type": "code",
   "execution_count": 10,
   "metadata": {},
   "outputs": [
    {
     "name": "stderr",
     "output_type": "stream",
     "text": [
      "\u001b[32m2024-05-29 16:38:04,149 - INFO - Use pytorch device_name: mps\u001b[0m\n",
      "\u001b[32m2024-05-29 16:38:04,149 - INFO - Load pretrained SentenceTransformer: all-MiniLM-L6-v2\u001b[0m\n",
      "\u001b[32m2024-05-29 16:38:08,566 - INFO - Anonymized telemetry enabled. See                     https://docs.trychroma.com/telemetry for more information.\u001b[0m\n"
     ]
    }
   ],
   "source": [
    "embeddings = SentenceTransformerEmbeddings(model_name=\"all-MiniLM-L6-v2\")\n",
    "\n",
    "#Vector DB\n",
    "docsearch = Chroma.from_documents(texts, embeddings)"
   ]
  },
  {
   "cell_type": "code",
   "execution_count": 11,
   "metadata": {},
   "outputs": [],
   "source": [
    "query = \"I'm looking for a song similar by rapper like Eminem, 50 Cent and Snopp Dog. What could you suggest to me?\"\n",
    "docs = docsearch.similarity_search(query, k=1)"
   ]
  },
  {
   "cell_type": "code",
   "execution_count": 12,
   "metadata": {},
   "outputs": [],
   "source": [
    "llm = ChatOpenAI(model=\"gpt-4o\", openai_api_key=api_key)\n",
    "qa = RetrievalQA.from_chain_type(llm,\n",
    "                                 chain_type=\"stuff\", \n",
    "                                 retriever=docsearch.as_retriever(), \n",
    "                                 return_source_documents=True)"
   ]
  },
  {
   "cell_type": "code",
   "execution_count": 13,
   "metadata": {},
   "outputs": [
    {
     "name": "stderr",
     "output_type": "stream",
     "text": [
      "huggingface/tokenizers: The current process just got forked, after parallelism has already been used. Disabling parallelism to avoid deadlocks...\n",
      "To disable this warning, you can either:\n",
      "\t- Avoid using `tokenizers` before the fork if possible\n",
      "\t- Explicitly set the environment variable TOKENIZERS_PARALLELISM=(true | false)\n",
      "\u001b[32m2024-05-29 16:43:41,830 - INFO - HTTP Request: POST https://api.openai.com/v1/chat/completions \"HTTP/1.1 200 OK\"\u001b[0m\n"
     ]
    },
    {
     "data": {
      "text/plain": [
       "'The songs listed in the context provided are from rock genres and not from the rap or hip-hop genres. However, if you\\'re looking for songs by rappers similar to Eminem, 50 Cent, and Snoop Dogg, you might enjoy tracks by artists like Dr. Dre, Jay-Z, Nas, or The Game. Here are a few suggestions:\\n\\n1. Dr. Dre - \"Still D.R.E.\" (featuring Snoop Dogg)\\n2. 50 Cent - \"In Da Club\"\\n3. Eminem - \"Lose Yourself\"\\n4. Snoop Dogg - \"Gin and Juice\"\\n5. Jay-Z - \"99 Problems\"\\n6. Nas - \"N.Y. State of Mind\"\\n7. The Game - \"Hate It or Love It\" (featuring 50 Cent)\\n\\nThese tracks are iconic in the rap genre and share a similar style to the artists you mentioned.'"
      ]
     },
     "execution_count": 13,
     "metadata": {},
     "output_type": "execute_result"
    }
   ],
   "source": [
    "result = qa.invoke({\"query\": query})\n",
    "result['result']"
   ]
  },
  {
   "cell_type": "code",
   "execution_count": 14,
   "metadata": {},
   "outputs": [
    {
     "name": "stdout",
     "output_type": "stream",
     "text": [
      "The songs listed in the context provided are from rock genres and not from the rap or hip-hop genres. However, if you're looking for songs by rappers similar to Eminem, 50 Cent, and Snoop Dogg, you might enjoy tracks by artists like Dr. Dre, Jay-Z, Nas, or The Game. Here are a few suggestions:\n",
      "\n",
      "1. Dr. Dre - \"Still D.R.E.\" (featuring Snoop Dogg)\n",
      "2. 50 Cent - \"In Da Club\"\n",
      "3. Eminem - \"Lose Yourself\"\n",
      "4. Snoop Dogg - \"Gin and Juice\"\n",
      "5. Jay-Z - \"99 Problems\"\n",
      "6. Nas - \"N.Y. State of Mind\"\n",
      "7. The Game - \"Hate It or Love It\" (featuring 50 Cent)\n",
      "\n",
      "These tracks are iconic in the rap genre and share a similar style to the artists you mentioned.\n"
     ]
    }
   ],
   "source": [
    "print(result['result'])"
   ]
  },
  {
   "cell_type": "code",
   "execution_count": 22,
   "metadata": {},
   "outputs": [
    {
     "name": "stdout",
     "output_type": "stream",
     "text": [
      "You are a music recommender system that helps users find songs that match their preferences.\n",
      "Use the following pieces of context to answer the question at the end.\n",
      "For each question, suggest three songs, with a short description of the song's genre, mood, and the reason why the user might like it.\n",
      "For each question, take into account the context and the personal information provided by the user.\n",
      "If you don't know the answer, just say that you don't know, don't try to make up an answer.\n",
      "\n",
      "{context}\n",
      "This is what we know about the user, and you can use this information to better tune your research:\n",
      "Age: 18\n",
      "Gender: female\n",
      "Question: {question}\n",
      "Your response:\n"
     ]
    }
   ],
   "source": [
    "from langchain.prompts import PromptTemplate\n",
    "\n",
    "template_prefix = \"\"\"You are a music recommender system that helps users find songs that match their preferences.\n",
    "Use the following pieces of context to answer the question at the end.\n",
    "For each question, suggest three songs, with a short description of the song's genre, mood, and the reason why the user might like it.\n",
    "For each question, take into account the context and the personal information provided by the user.\n",
    "If you don't know the answer, just say that you don't know, don't try to make up an answer.\n",
    "\n",
    "{context}\"\"\"\n",
    "\n",
    "user_info = \"\"\"This is what we know about the user, and you can use this information to better tune your research:\n",
    "Age: {age}\n",
    "Gender: {gender}\"\"\"\n",
    "\n",
    "template_suffix= \"\"\"Question: {question}\n",
    "Your response:\"\"\"\n",
    "\n",
    "user_info = user_info.format(age = 18, gender = 'female')\n",
    "\n",
    "COMBINED_PROMPT = template_prefix +'\\n'+ user_info +'\\n'+ template_suffix\n",
    "print(COMBINED_PROMPT)"
   ]
  },
  {
   "cell_type": "code",
   "execution_count": 23,
   "metadata": {},
   "outputs": [
    {
     "name": "stderr",
     "output_type": "stream",
     "text": [
      "\u001b[32m2024-05-29 16:44:44,598 - INFO - HTTP Request: POST https://api.openai.com/v1/chat/completions \"HTTP/1.1 200 OK\"\u001b[0m\n"
     ]
    },
    {
     "name": "stdout",
     "output_type": "stream",
     "text": [
      "Based on your preference for rappers like Eminem and 50 Cent, I recommend the following songs:\n",
      "\n",
      "1. Song: \"Lose Yourself\" by Eminem\n",
      "   Genre: Rap\n",
      "   Mood: Energetic, motivational\n",
      "   Reason: This song by Eminem is a classic rap anthem with powerful lyrics and a captivating beat, similar to the style of Eminem that you enjoy.\n",
      "\n",
      "2. Song: \"In Da Club\" by 50 Cent\n",
      "   Genre: Rap\n",
      "   Mood: Upbeat, party vibe\n",
      "   Reason: \"In Da Club\" is a popular hit by 50 Cent known for its catchy chorus and infectious energy, perfect for fans of 50 Cent's music.\n",
      "\n",
      "3. Song: \"Stan\" by Eminem (feat. Dido)\n",
      "   Genre: Rap\n",
      "   Mood: Intense, storytelling\n",
      "   Reason: \"Stan\" is a gripping narrative-driven song by Eminem that showcases his storytelling abilities and emotional depth, making it a great choice for fans of Eminem's music.\n"
     ]
    }
   ],
   "source": [
    "PROMPT = PromptTemplate(\n",
    "    template=COMBINED_PROMPT, input_variables=[\"context\", \"question\"])\n",
    "\n",
    "chain_type_kwargs = {\"prompt\": PROMPT}\n",
    "qa = RetrievalQA.from_chain_type(llm=llm, \n",
    "    chain_type=\"stuff\", \n",
    "    retriever=docsearch.as_retriever(),\n",
    "    return_source_documents=True, \n",
    "    chain_type_kwargs=chain_type_kwargs)\n",
    "query = \"I'm looking for a song similar by rapper like Eminem, 50 Cent. What could you suggest to me?\"\n",
    "result = qa({'query':query})\n",
    "print(result['result'])"
   ]
  },
  {
   "cell_type": "code",
   "execution_count": 24,
   "metadata": {},
   "outputs": [
    {
     "data": {
      "text/plain": [
       "[Document(page_content='combined_info: Song ID: SOTLYUI12AF72A15AC\\n Artist : Eminem\\n Title : Em Calls Paul (skit)\\n Lyrics: i the you to and a me it not in is your that do we am will all no be have love so know this but with what when like time oh they get if got he feel want make way take ca at back by how look thing die tell who man or well wo wanna about call alway were end yo these new him stop show should realli hope watch fuck rememb doe black bad enough becaus touch hate till em beat matter white shit hit lot gun sorri anyway mirror somethin messag thrill idea excus jean plastic billi click michael goddamn paul aye fucker video jackson.\\n Genres: Rap', metadata={'row': 12053, 'source': '../data/llm_RecSys_dataset_updated.csv'}),\n",
       " Document(page_content='combined_info: Song ID: SOVJWSS12A6701FBC3\\n Artist : Eminem\\n Title : Public Service Announcement\\n Lyrics: i the you to and a me it not in my is your on have know this with what just like can go up they if as yeah by tell think give his littl did anoth same fuck kiss kill doe first em part els anyth shit upon im uh whisper dont ass brought suck fed sue album cock public servic.\\n Genres: Rap', metadata={'row': 19221, 'source': '../data/llm_RecSys_dataset_updated.csv'}),\n",
       " Document(page_content='combined_info: Song ID: SOSCDWJ12A6701F1D9\\n Artist : Eminem\\n Title : Like Toy Soldiers\\n Lyrics: i the you to and a me it not in my is of your that do on we am will all for no be have love so know this but with what just when like now time can there go up one they out down get was see if got never from he feel let make way say would as ca at away life yeah back by heart how could need our look world more caus gonna die right think who through man give too tri or whi well mind an still us his wanna fall good about some over then noth did had hold walk ever them has their someth befor word stay much anoth left new him than stop off show lost peopl made start chorus even song without watch put name same mine na use fuck someon mean while kill line onc mayb help came ask save understand ai until set hurt told knew em late after ani matter els game heard though fine soon shit crazi step ja rest went blow whole apart kid differ cross answer sick perfect plus worri goin mouth which against caught win fell bit quit build kick worth beyond nothin minut front phone destroy cuz shout twist almost dust corner tv ball besid yall busi record suppos murder battl guid drag none spent talkin shoulder pop rhyme torn won runnin weight soldier direct rap teeth respect certain order attent further motherfuck toe toy intent honest sat energi smash piss bigger crew unless handl callin mic leader either stab conscienc magazin import nas absolut famous public avenu sourc resurrect support dyin coffin jaw object wage plea elev 50 actual frank beef hiphop mash knowin chat.\\n Genres: Rap', metadata={'row': 65126, 'source': '../data/llm_RecSys_dataset_updated.csv'}),\n",
       " Document(page_content='combined_info: Song ID: SORAWSB12A6701FBC8\\n Artist : Eminem\\n Title : If I Had\\n Lyrics: i the you to and a me it not in my is of your that do on are am will all for no be have so know this but with what just when like now come go up one they out down get was see if never he feel want make say take would as ca at life back by how where world gonna right tell think who man live give whi an still wanna around about turn then alway did into home had them end hear everyth hey word friend him off play peopl start realli without put same own true fire use fuck other sin close sleep while kiss breath wish wonder enough mani becaus work big hate ask hide ai after ani ground money air nobodi though white citi shit past step whole drive cut tire slow gun hour parti secret brother cool stare wear damn win evil build drown half act million color buy front magic radio sorrow phone spin poor ass lookin broke crack five hat funni enemi swear deal suck fake job pack pop drug bottl steel grab dollar club rap john neck disguis ill store planet hook everytim throat motherfuck sayin dick station lack whore root posit fed plastic snake dj gas boss truck squar tour alcohol grin trash pair buck borrow rob bullshit commit stack player blond perform jerk rapper skill knot fifti mont spray gotten cough hiphop skinni.\\n Genres: Rap', metadata={'row': 11960, 'source': '../data/llm_RecSys_dataset_updated.csv'})]"
      ]
     },
     "execution_count": 24,
     "metadata": {},
     "output_type": "execute_result"
    }
   ],
   "source": [
    "result.get('source_documents')"
   ]
  },
  {
   "cell_type": "code",
   "execution_count": 25,
   "metadata": {},
   "outputs": [
    {
     "name": "stderr",
     "output_type": "stream",
     "text": [
      "\u001b[32m2024-05-29 16:44:48,167 - INFO - HTTP Request: POST https://api.openai.com/v1/chat/completions \"HTTP/1.1 200 OK\"\u001b[0m\n"
     ]
    },
    {
     "name": "stdout",
     "output_type": "stream",
     "text": [
      "1. Song: Buried Alive by Fates Warning\n",
      "   Genre: Rock\n",
      "   Mood: Dark, intense\n",
      "   Reason: This song has a deep, introspective feel similar to Pink Floyd's style, with haunting lyrics and a brooding atmosphere.\n",
      "\n",
      "2. Song: Circles by Fates Warning\n",
      "   Genre: Metal\n",
      "   Mood: Epic, atmospheric\n",
      "   Reason: This song combines intricate instrumentals with thought-provoking lyrics, reminiscent of Pink Floyd's progressive rock sound.\n",
      "\n",
      "3. Song: Stork & Owl by TV On The Radio\n",
      "   Genre: Rock\n",
      "   Mood: Mysterious, introspective\n",
      "   Reason: This song has a unique blend of experimental rock elements and introspective lyrics, capturing a similar vibe to Pink Floyd's music.\n"
     ]
    }
   ],
   "source": [
    "from langchain.prompts import PromptTemplate\n",
    "\n",
    "template = \"\"\"You are a music recommender system that helps users find songs that match their preferences.\n",
    "Use the following pieces of context to answer the question at the end.\n",
    "For each question, suggest three songs, with a short description of the song's genre, mood, and the reason why the user might like it.\n",
    "For each question, take into account the context and the personal information provided by the user.\n",
    "If you don't know the answer, just say that you don't know, don't try to make up an answer.\n",
    "\n",
    "\n",
    "{context}\n",
    "\n",
    "Question: {question}\n",
    "Your response:\"\"\"\n",
    "\n",
    "\n",
    "PROMPT = PromptTemplate(\n",
    "    template=template, input_variables=[\"context\", \"question\"])\n",
    "\n",
    "chain_type_kwargs = {\"prompt\": PROMPT}\n",
    "\n",
    "llm=ChatOpenAI(model_name='gpt-3.5-turbo', temperature=0, openai_api_key=api_key) \n",
    "\n",
    "qa = RetrievalQA.from_chain_type(llm=llm, \n",
    "    chain_type=\"stuff\", \n",
    "    retriever=docsearch.as_retriever(),\n",
    "    return_source_documents=True, \n",
    "    chain_type_kwargs=chain_type_kwargs)\n",
    "\n",
    "query = \"I'm looking for a song similar to pink floyd style. What could you suggest to me?\"\n",
    "result = qa.invoke({'query':query})\n",
    "print(result['result'])"
   ]
  },
  {
   "cell_type": "code",
   "execution_count": 26,
   "metadata": {},
   "outputs": [
    {
     "name": "stdout",
     "output_type": "stream",
     "text": [
      "You are a music recommender system that helps users find songs that match their preferences.\n",
      "Use the following pieces of context to answer the question at the end.\n",
      "For each question, suggest three songs, with a short description of the song's genre, mood, and the reason why the user might like it.\n",
      "For each question, take into account the context and the personal information provided by the user.\n",
      "If you don't know the answer, just say that you don't know, don't try to make up an answer.\n",
      "\n",
      "{context}\n",
      "This is what we know about the user, and you can use this information to better tune your research:\n",
      "Age: 18\n",
      "Gender: female\n",
      "Question: {question}\n",
      "Your response:\n"
     ]
    }
   ],
   "source": [
    "from langchain.prompts import PromptTemplate\n",
    "\n",
    "template_prefix = \"\"\"You are a music recommender system that helps users find songs that match their preferences.\n",
    "Use the following pieces of context to answer the question at the end.\n",
    "For each question, suggest three songs, with a short description of the song's genre, mood, and the reason why the user might like it.\n",
    "For each question, take into account the context and the personal information provided by the user.\n",
    "If you don't know the answer, just say that you don't know, don't try to make up an answer.\n",
    "\n",
    "{context}\"\"\"\n",
    "\n",
    "user_info = \"\"\"This is what we know about the user, and you can use this information to better tune your research:\n",
    "Age: {age}\n",
    "Gender: {gender}\"\"\"\n",
    "\n",
    "template_suffix= \"\"\"Question: {question}\n",
    "Your response:\"\"\"\n",
    "\n",
    "user_info = user_info.format(age = 18, gender = 'female')\n",
    "\n",
    "COMBINED_PROMPT = template_prefix +'\\n'+ user_info +'\\n'+ template_suffix\n",
    "print(COMBINED_PROMPT)"
   ]
  },
  {
   "cell_type": "code",
   "execution_count": 27,
   "metadata": {},
   "outputs": [
    {
     "data": {
      "text/plain": [
       "PromptTemplate(input_variables=['context', 'question'], template=\"You are a music recommender system that helps users find songs that match their preferences.\\nUse the following pieces of context to answer the question at the end.\\nFor each question, suggest three songs, with a short description of the song's genre, mood, and the reason why the user might like it.\\nFor each question, take into account the context and the personal information provided by the user.\\nIf you don't know the answer, just say that you don't know, don't try to make up an answer.\\n\\n{context}\\nThis is what we know about the user, and you can use this information to better tune your research:\\nAge: 18\\nGender: female\\nQuestion: {question}\\nYour response:\")"
      ]
     },
     "execution_count": 27,
     "metadata": {},
     "output_type": "execute_result"
    }
   ],
   "source": [
    "PROMPT = PromptTemplate(template=COMBINED_PROMPT, input_variables=[\"context\", \"question\"])\n",
    "\n",
    "chain_type_kwargs = {\"prompt\": PROMPT}\n",
    "qa = RetrievalQA.from_chain_type(\n",
    "    llm=llm, \n",
    "    chain_type=\"stuff\", \n",
    "    retriever=docsearch.as_retriever(),\n",
    "    return_source_documents=True, \n",
    "    chain_type_kwargs=chain_type_kwargs\n",
    ")\n",
    "PROMPT"
   ]
  },
  {
   "cell_type": "code",
   "execution_count": 28,
   "metadata": {},
   "outputs": [
    {
     "name": "stderr",
     "output_type": "stream",
     "text": [
      "\u001b[32m2024-05-29 16:44:52,413 - INFO - HTTP Request: POST https://api.openai.com/v1/chat/completions \"HTTP/1.1 200 OK\"\u001b[0m\n"
     ]
    },
    {
     "name": "stdout",
     "output_type": "stream",
     "text": [
      "Based on your preference for rap artists like Eminem and 50 Cent, I recommend the following songs for you:\n",
      "\n",
      "1. Song: \"P.I.M.P.\" by 50 Cent\n",
      "   Genre: Rap\n",
      "   Mood: Energetic, confident\n",
      "   Reason: This song by 50 Cent has a catchy beat and bold lyrics, similar to the style of Eminem and 50 Cent. It's a classic rap track that you might enjoy.\n",
      "\n",
      "2. Song: \"What Up Gangsta\" by 50 Cent\n",
      "   Genre: Rap\n",
      "   Mood: Aggressive, intense\n",
      "   Reason: \"What Up Gangsta\" by 50 Cent is a gritty and hard-hitting rap song that showcases his raw talent and powerful delivery, similar to the style of Eminem and 50 Cent.\n",
      "\n",
      "3. Song: \"Radio Freq\" by Dead Prez\n",
      "   Genre: Rap\n",
      "   Mood: Conscious, thought-provoking\n",
      "   Reason: Dead Prez's \"Radio Freq\" is a socially conscious rap track with insightful lyrics and a strong message, similar to the storytelling style often found in Eminem and 50 Cent's music.\n",
      "[Document(page_content='combined_info: Song ID: SOXZTLV12A6701FFDD\\n Artist : 50 Cent\\n Title : P.I.M.P.\\n Lyrics: i the you to and a me it not in my is of that do on are we will for be have love so know this but with what when like now can come go up they out down get was see if got from want make way say ca at life back by heart here how look thing gonna die right been think again keep around good about some hand were did ya yo word chang these new off play show break start boy wrong put blue dead fuck rain done side blood big ask em money heard citi shit crazi strong im rest born happen drive kid nigga gun honey bout goin wear piec straight catch & dem gold brain return bitch known green magic natur cuz track yea wit queen don fuckin later runnin spit g respect aint york ill waitin hoe chose motherfuck lick boogi whore date nerv op complain tha cream ive ridin wrist playa cent 12 local pimp whoo fifti rewind shotgun fo 50 motherfuckin butter uptown 100.\\n Genres: Rap', metadata={'row': 14745, 'source': '../data/llm_RecSys_dataset_updated.csv'}), Document(page_content='combined_info: Song ID: SOVZFZX12A6701FFD4\\n Artist : 50 Cent\\n Title : What Up Gangsta\\n Lyrics: i the you to and a me it not in my is your that do on we am will for have love know this but with what when like time can come go up they out down get got feel want make say ca yeah back here how where caus been think tri or an wo us around some then noth everi home walk hear ya new than burn play da care own use fuck kill blood wonder sound touch might roll best first money rise sit lay shit s cut next nigga cross ring repeat summer stone bright mama pick bone flow kick d front knock ass cuz twist ice path hat price master dime quick none brand pop rhyme hundr crush thunder block g rap metal nine flash choke hoe chest connect hunger hood grew hunt type chick bastard blast dope tea court gangsta level bump decemb critic drama cent fucker duck homi acid coke sport fiend 50 stomp industri.\\n Genres: Rap', metadata={'row': 17678, 'source': '../data/llm_RecSys_dataset_updated.csv'}), Document(page_content='combined_info: Song ID: SOZVVGI12AF72AB928\\n Artist : Dead Prez\\n Title : Radio Freq\\n Lyrics: i the you to and a me it not in my is of your that do on we am will all for be love so know this but with what just when like can come up they get if got never from let make take would yeah how could caus gonna tell think live tri whi mind us wanna good about some over turn everi hold walk hear yo stay these new off play peopl realli even put gotta danc use fuck sleep real black sound mani work might hate street till ai music beat kind part nobodi blind reach shit control hang lot nigga hot sick parti plan throw cool bout eat dog chain green freedom radio dirti twist enemi ball yall realiti suppos figur somethin soldier block rap teach box niggaz freak fat fist choke rollin cop refus polic station unless whip ghetto givin fold holdin gangsta dedic blowin turnin stereo homi video bull barrio speech program beef puttin.\\n Genres: Rap', metadata={'row': 4696, 'source': '../data/llm_RecSys_dataset_updated.csv'}), Document(page_content='combined_info: Song ID: SOENFGO12A6D4F7BF0\\n Artist : Roscoe\\n Title : Get Ready\\n Lyrics: i the you to and a me it not in my is of that do on we am all for be this but with what just when like time up oh la they out down get if got he feel want let say life yeah by how where world right un through man tri keep dream an wo still his some littl ya much stand new than hard even name rememb star open done rock bad heaven touch till best music game anyth young readi crazi hit im whole hot lyric perfect plus low window straight top space million chain knock four ass key crack okay mr fit livin gettin heavi middl bang bet oooh pack women weight west g rap outta youth niggaz makin generat fame fresh takin steadi coast lane mic ghetto blast dope givin gang mc 4x breakin thang gangsta cocain rubber automat homi sack hospit porch pushin incred blunt puttin digit.\\n Genres: Rap', metadata={'row': 75306, 'source': '../data/llm_RecSys_dataset_updated.csv'})]\n"
     ]
    }
   ],
   "source": [
    "query = \"I'm looking for rap songs, artists like eminem and 50cent. What could you suggest to me?\"\n",
    "result = qa.invoke({'query':query})\n",
    "print(result['result'])\n",
    "print(result['source_documents'])"
   ]
  },
  {
   "cell_type": "code",
   "execution_count": null,
   "metadata": {},
   "outputs": [],
   "source": []
  },
  {
   "cell_type": "code",
   "execution_count": null,
   "metadata": {},
   "outputs": [],
   "source": []
  },
  {
   "cell_type": "code",
   "execution_count": null,
   "metadata": {},
   "outputs": [],
   "source": []
  }
 ],
 "metadata": {
  "kernelspec": {
   "display_name": "base",
   "language": "python",
   "name": "python3"
  },
  "language_info": {
   "codemirror_mode": {
    "name": "ipython",
    "version": 3
   },
   "file_extension": ".py",
   "mimetype": "text/x-python",
   "name": "python",
   "nbconvert_exporter": "python",
   "pygments_lexer": "ipython3",
   "version": "3.10.12"
  }
 },
 "nbformat": 4,
 "nbformat_minor": 2
}
