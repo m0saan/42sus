{
 "cells": [
  {
   "cell_type": "code",
   "execution_count": null,
   "id": "aee51116-3fe6-4112-bfd8-cc3fe5b2e3f8",
   "metadata": {},
   "outputs": [],
   "source": [
    "from pathlib import Path\n",
    "\n",
    "import scipy\n",
    "import pandas as pd\n",
    "import implicit"
   ]
  },
  {
   "cell_type": "code",
   "execution_count": null,
   "id": "a01489f3-cf66-4bb5-9632-897018540706",
   "metadata": {},
   "outputs": [],
   "source": [
    "column_names = ['user_id', 'song_id', 'play_count']\n",
    "triplet_df = pd.read_csv('data/train_triplets.txt', sep='\\t', names=column_names)\n",
    "triplet_df"
   ]
  },
  {
   "cell_type": "code",
   "execution_count": null,
   "id": "dda2422f-538b-4197-9a19-374b7a64f40b",
   "metadata": {},
   "outputs": [],
   "source": [
    "triplet_df = triplet_df[triplet_df.play_count > 1]"
   ]
  },
  {
   "cell_type": "code",
   "execution_count": null,
   "id": "34da9228-c82e-4d61-98f8-5e898c663e91",
   "metadata": {},
   "outputs": [],
   "source": [
    "triplet_df"
   ]
  },
  {
   "cell_type": "code",
   "execution_count": null,
   "id": "d954f8b4-da71-4cfd-a7c6-9403bf3fb03f",
   "metadata": {},
   "outputs": [],
   "source": [
    "track_column_names = ['track_id', 'song_id', 'artist', 'title']\n",
    "unique_tracks_df = pd.read_csv('data/p02_unique_tracks.txt', sep='\\s*<SEP>\\s*', names=track_column_names, engine='python')\n",
    "unique_tracks_df"
   ]
  },
  {
   "cell_type": "code",
   "execution_count": null,
   "id": "c04e0bab-0561-4aee-af9d-d9b09dab3b78",
   "metadata": {},
   "outputs": [],
   "source": [
    "unique_tracks_df.drop_duplicates(['song_id'], inplace=True)\n",
    "len(triplet_df), len(unique_tracks_df)"
   ]
  },
  {
   "cell_type": "code",
   "execution_count": null,
   "id": "9ce325a1-04d6-4442-a887-78942efc20c1",
   "metadata": {},
   "outputs": [],
   "source": [
    "df = pd.merge(triplet_df, unique_tracks_df, on='song_id', how='left')\n",
    "df"
   ]
  },
  {
   "cell_type": "code",
   "execution_count": null,
   "id": "5a5003b3-c08a-4d96-adbf-46ac3898bd44",
   "metadata": {},
   "outputs": [],
   "source": [
    "df['song'] = df['title']+' - '+df['artist']\n",
    "df"
   ]
  },
  {
   "cell_type": "code",
   "execution_count": null,
   "id": "0070edf7-bfb3-47ae-9933-76186886a3c1",
   "metadata": {},
   "outputs": [],
   "source": [
    "df = df[['user_id', 'song_id', 'track_id', 'song', 'play_count']]\n",
    "df"
   ]
  },
  {
   "cell_type": "code",
   "execution_count": null,
   "id": "20e40416-ebbd-49d4-a958-e35d8b60805a",
   "metadata": {},
   "outputs": [],
   "source": [
    "# df.to_csv('songs_filtred.csv')\n",
    "songs = pd.read_csv('songs_filtred.csv')\n",
    "# songs"
   ]
  },
  {
   "cell_type": "code",
   "execution_count": null,
   "id": "2822f097-ed67-4805-b8d7-0ad8ce337fd4",
   "metadata": {},
   "outputs": [],
   "source": [
    "songs['user_idx'] = pd.factorize(songs['user_id'])[0]\n",
    "songs['song_idx'] = pd.factorize(songs['song_id'])[0]\n",
    "songs"
   ]
  },
  {
   "cell_type": "code",
   "execution_count": null,
   "id": "7f4ac4f9-3994-446a-8560-b41169b0ef9d",
   "metadata": {},
   "outputs": [],
   "source": [
    "class MusicData:\n",
    "    def __init__(self, data):\n",
    "        self.data = data\n",
    "        self.song_id_to_name = pd.Series(data.song.values, index=data.song_id).to_dict()\n",
    "\n",
    "    def get_user_songs(self, user_id):\n",
    "        user_data = self.data[self.data['user_id'] == user_id]\n",
    "        user_songs = [self.song_id_to_name[song_id] for song_id in user_data['song_id'].unique()]\n",
    "        return user_songs\n",
    "\n",
    "    def get_song_users(self, song_id):\n",
    "        song_data = self.data[self.data['song_id'] == song_id]\n",
    "        song_users = song_data['user_id'].unique()\n",
    "        return song_users\n",
    "\n",
    "    def get_song_name(self, song_id):\n",
    "        return self.song_id_to_name.get(song_id, \"Song ID not found in data\")\n",
    "\n",
    "    def get_top_songs(self, n=10):\n",
    "        top_songs = self.data['song_id'].value_counts()[:n].index.tolist()\n",
    "        return top_songs\n",
    "\n",
    "    def get_top_users(self, n=10):\n",
    "        top_users = self.data['user_id'].value_counts()[:n].index.tolist()\n",
    "        return top_users\n",
    "\n",
    "music_data = MusicData(songs)"
   ]
  },
  {
   "cell_type": "code",
   "execution_count": null,
   "id": "1091f745-ef08-4b8f-82e5-3e2e81d1a682",
   "metadata": {},
   "outputs": [],
   "source": [
    "X = songs[['user_idx', 'song_idx', 'play_count']]\n",
    "X"
   ]
  },
  {
   "cell_type": "code",
   "execution_count": null,
   "id": "0b3f852f-9a61-4f6d-beed-d077d3476815",
   "metadata": {},
   "outputs": [],
   "source": [
    "X.user_idx.nunique(), X.song_idx.nunique(), "
   ]
  },
  {
   "cell_type": "code",
   "execution_count": null,
   "id": "2ad7c93a-6fef-4571-86ff-d87d4544467c",
   "metadata": {},
   "outputs": [],
   "source": [
    "userId = 'b7815dbb206eb2831ce0fe040d0aa537e2e800f7'\n",
    "print(\"Songs listened by a user:\", music_data.get_user_songs(userId))"
   ]
  },
  {
   "cell_type": "code",
   "execution_count": null,
   "id": "a0559a7b-81c4-4340-a43b-7dc81e468648",
   "metadata": {},
   "outputs": [],
   "source": [
    "songId = 'SOWYSKH12AF72A303A'\n",
    "print(\"Song name for a song ID:\", music_data.get_song_name(song_id=songId)) "
   ]
  },
  {
   "cell_type": "code",
   "execution_count": null,
   "id": "a2f6767a-2101-407b-9e9b-0a23bf1bd04f",
   "metadata": {},
   "outputs": [],
   "source": [
    "X.set_index([\"user_idx\", \"song_idx\"], inplace=True)"
   ]
  },
  {
   "cell_type": "code",
   "execution_count": null,
   "id": "94732cd0-0cf9-410c-8451-de6ce2bb8316",
   "metadata": {},
   "outputs": [],
   "source": [
    "X.head(30)"
   ]
  },
  {
   "cell_type": "code",
   "execution_count": null,
   "id": "e2b72d07-3881-4861-9fa6-8a1c84e5e692",
   "metadata": {},
   "outputs": [],
   "source": [
    "X.index.get_level_values(0)[:30]"
   ]
  },
  {
   "cell_type": "code",
   "execution_count": null,
   "id": "1f4b4c49-5dd4-4e26-8377-6b8c9bbdbedb",
   "metadata": {},
   "outputs": [],
   "source": [
    "X.index.get_level_values(1)"
   ]
  },
  {
   "cell_type": "code",
   "execution_count": null,
   "id": "efc55104-24f3-4637-a360-3b51439e4971",
   "metadata": {},
   "outputs": [],
   "source": [
    "coo = scipy.sparse.coo_matrix( (X.play_count.astype(float), (X.index.get_level_values(0), X.index.get_level_values(1),),))"
   ]
  },
  {
   "cell_type": "code",
   "execution_count": null,
   "id": "24cb6aef-ee19-448d-9353-f22e4470d869",
   "metadata": {},
   "outputs": [],
   "source": [
    "implict_model = implicit.als.AlternatingLeastSquares(\n",
    "    factors=50, iterations=10, regularization=0.01\n",
    ")"
   ]
  },
  {
   "cell_type": "code",
   "execution_count": null,
   "id": "8fe9c5f5-9128-4999-805f-8a8e8112d743",
   "metadata": {},
   "outputs": [],
   "source": [
    "implict_model.fit(coo.tocsr())"
   ]
  },
  {
   "cell_type": "code",
   "execution_count": null,
   "id": "adbc36c1-6e1b-49ad-bfc5-52beefea613c",
   "metadata": {},
   "outputs": [],
   "source": [
    "userId = 'b7815dbb206eb2831ce0fe040d0aa537e2e800f7'\n",
    "user_id = songs[songs.user_id == userId].user_idx.values[0]\n",
    "n = 10000\n",
    "songs_ids, scores = implict_model.recommend(user_id, coo.tocsr()[n], N=n)"
   ]
  },
  {
   "cell_type": "code",
   "execution_count": null,
   "id": "a7b0c323-50ad-4a11-91e7-1612333d3a70",
   "metadata": {},
   "outputs": [],
   "source": [
    "songs_ids[:10]"
   ]
  },
  {
   "cell_type": "code",
   "execution_count": null,
   "id": "f51c065f-c8e4-4722-ad3a-30f5d49a280b",
   "metadata": {},
   "outputs": [],
   "source": [
    "scores[:10]"
   ]
  },
  {
   "cell_type": "code",
   "execution_count": null,
   "id": "0043ac0d-211a-4148-8f4b-f75b66eba817",
   "metadata": {},
   "outputs": [],
   "source": [
    "songs_ids = songs[songs.song_idx.isin(songs_ids)].song_id.unique()\n",
    "[music_data.get_song_name(song_id) for song_id in songs_ids[:10]]"
   ]
  },
  {
   "cell_type": "code",
   "execution_count": null,
   "id": "eaebba15",
   "metadata": {},
   "outputs": [],
   "source": [
    "music_data.get_user_songs(userId)"
   ]
  },
  {
   "cell_type": "code",
   "execution_count": null,
   "id": "6da4be80-7f57-49e3-9b4e-8463e64f2b4c",
   "metadata": {},
   "outputs": [],
   "source": [
    "itemids, scores = implict_model.similar_items(itemid=118)\n",
    "itemids"
   ]
  },
  {
   "cell_type": "code",
   "execution_count": null,
   "id": "39b34a0c",
   "metadata": {},
   "outputs": [],
   "source": [
    "itemids = songs[songs.song_idx.isin(itemids)].song_id.unique()\n",
    "itemids"
   ]
  },
  {
   "cell_type": "code",
   "execution_count": null,
   "id": "9eeda4b6-5a76-4450-9032-eaf91cb2c370",
   "metadata": {},
   "outputs": [],
   "source": [
    "[music_data.get_song_name(item_id) for item_id in itemids]"
   ]
  },
  {
   "cell_type": "code",
   "execution_count": null,
   "id": "8c3619e5-97fd-4d22-b906-7ff8fb757d6b",
   "metadata": {},
   "outputs": [],
   "source": []
  }
 ],
 "metadata": {
  "kernelspec": {
   "display_name": "Python 3 (ipykernel)",
   "language": "python",
   "name": "python3"
  },
  "language_info": {
   "codemirror_mode": {
    "name": "ipython",
    "version": 3
   },
   "file_extension": ".py",
   "mimetype": "text/x-python",
   "name": "python",
   "nbconvert_exporter": "python",
   "pygments_lexer": "ipython3",
   "version": "3.11.6"
  }
 },
 "nbformat": 4,
 "nbformat_minor": 5
}
